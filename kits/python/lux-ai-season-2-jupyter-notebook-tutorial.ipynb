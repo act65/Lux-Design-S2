{
 "cells": [
  {
   "cell_type": "markdown",
   "id": "8f741fef",
   "metadata": {
    "papermill": {
     "duration": 0.010219,
     "end_time": "2022-12-09T19:14:14.288080",
     "exception": false,
     "start_time": "2022-12-09T19:14:14.277861",
     "status": "completed"
    },
    "tags": []
   },
   "source": [
    "# Lux AI Season 2 Jupyter Notebook Tutorial - Python Kit\n",
    "\n",
    "Welcome to Lux AI Season 2 Beta!\n",
    "\n",
    "This notebook is the basic setup to use Jupyter Notebooks and the kaggle-environments package to develop your bot. If you plan to not use Jupyter Notebooks or any other programming language, please see our Github. The following are some important links!\n",
    "\n",
    "Competition Page: https://www.kaggle.com/c/lux-ai-2022-beta/\n",
    "\n",
    "Online Visualizer: https://2022vis.lux-ai.org/ (replays are only generatable via the CLI `luxai2022` tool at the moment)\n",
    "\n",
    "Specifications: https://www.lux-ai.org/specs-2022-beta\n",
    "\n",
    "Github: https://github.com/Lux-AI-Challenge/Lux-Design-2022\n",
    "\n",
    "Bot API: https://github.com/Lux-AI-Challenge/Lux-Design-2022/tree/main/kits\n",
    "\n",
    "And if you haven't done so already, we highly recommend you join our Discord server at https://discord.gg/aWJt3UAcgn or at the minimum follow the kaggle forums at https://www.kaggle.com/c/lux-ai-2022-beta/discussion. We post important announcements there such as changes to rules, events, and opportunities from our sponsors!\n",
    "\n",
    "Now let's get started!"
   ]
  },
  {
   "cell_type": "markdown",
   "id": "9301f1e5",
   "metadata": {
    "papermill": {
     "duration": 0.008401,
     "end_time": "2022-12-09T19:14:14.305280",
     "exception": false,
     "start_time": "2022-12-09T19:14:14.296879",
     "status": "completed"
    },
    "tags": []
   },
   "source": [
    "## Prerequisites\n",
    "We assume that you have a basic knowledge of Python and programming. It's okay if you don't know the game specifications yet! Feel free to always refer back to https://www.lux-ai.org/specs-2022-beta.\n",
    "\n",
    "## Basic Setup\n",
    "First thing to verify is that you have python 3.7 or above and have the [luxai2022](https://pypi.org/project/luxai2022/) package installed"
   ]
  },
  {
   "cell_type": "code",
   "execution_count": 1,
   "id": "604f1cc1",
   "metadata": {
    "execution": {
     "iopub.execute_input": "2022-12-09T19:14:14.325546Z",
     "iopub.status.busy": "2022-12-09T19:14:14.324607Z",
     "iopub.status.idle": "2022-12-09T19:15:06.531016Z",
     "shell.execute_reply": "2022-12-09T19:15:06.529440Z"
    },
    "papermill": {
     "duration": 52.220348,
     "end_time": "2022-12-09T19:15:06.534299",
     "exception": false,
     "start_time": "2022-12-09T19:14:14.313951",
     "status": "completed"
    },
    "tags": []
   },
   "outputs": [],
   "source": [
    "# # verify version\n",
    "# !python --version\n",
    "# # install luxai2022\n",
    "# !pip install --upgrade luxai2022\n",
    "# !pip install --upgrade moviepy # needed to render videos of episodes"
   ]
  },
  {
   "cell_type": "code",
   "execution_count": 2,
   "id": "158842d2",
   "metadata": {
    "execution": {
     "iopub.execute_input": "2022-12-09T19:15:06.566607Z",
     "iopub.status.busy": "2022-12-09T19:15:06.566165Z",
     "iopub.status.idle": "2022-12-09T19:15:07.626921Z",
     "shell.execute_reply": "2022-12-09T19:15:07.625233Z"
    },
    "papermill": {
     "duration": 1.080062,
     "end_time": "2022-12-09T19:15:07.630477",
     "exception": false,
     "start_time": "2022-12-09T19:15:06.550415",
     "status": "completed"
    },
    "tags": []
   },
   "outputs": [],
   "source": [
    "# !cp -r ../input/lux-ai-2022-beta/* ."
   ]
  },
  {
   "cell_type": "code",
   "execution_count": 3,
   "id": "0c23decb",
   "metadata": {
    "execution": {
     "iopub.execute_input": "2022-12-09T19:15:07.664664Z",
     "iopub.status.busy": "2022-12-09T19:15:07.664095Z",
     "iopub.status.idle": "2022-12-09T19:15:08.404057Z",
     "shell.execute_reply": "2022-12-09T19:15:08.403026Z"
    },
    "papermill": {
     "duration": 0.760457,
     "end_time": "2022-12-09T19:15:08.406814",
     "exception": false,
     "start_time": "2022-12-09T19:15:07.646357",
     "status": "completed"
    },
    "tags": []
   },
   "outputs": [],
   "source": [
    "from luxai2022.env import LuxAI2022\n",
    "import matplotlib.pyplot as plt\n",
    "import numpy as np"
   ]
  },
  {
   "cell_type": "markdown",
   "id": "18b77abc",
   "metadata": {
    "papermill": {
     "duration": 0.013653,
     "end_time": "2022-12-09T19:15:08.434684",
     "exception": false,
     "start_time": "2022-12-09T19:15:08.421031",
     "status": "completed"
    },
    "tags": []
   },
   "source": [
    "We can now create an environment and start interacting with it, as well as look at what the observation is like"
   ]
  },
  {
   "cell_type": "code",
   "execution_count": 4,
   "id": "b7ec3728",
   "metadata": {
    "execution": {
     "iopub.execute_input": "2022-12-09T19:15:08.464508Z",
     "iopub.status.busy": "2022-12-09T19:15:08.463716Z",
     "iopub.status.idle": "2022-12-09T19:15:08.476899Z",
     "shell.execute_reply": "2022-12-09T19:15:08.475791Z"
    },
    "papermill": {
     "duration": 0.031092,
     "end_time": "2022-12-09T19:15:08.479626",
     "exception": false,
     "start_time": "2022-12-09T19:15:08.448534",
     "status": "completed"
    },
    "tags": []
   },
   "outputs": [],
   "source": [
    "env = LuxAI2022() # create the environment object\n",
    "obs = env.reset(seed=42) # resets an environment with a seed"
   ]
  },
  {
   "cell_type": "code",
   "execution_count": 5,
   "id": "81bc2cdb",
   "metadata": {
    "execution": {
     "iopub.execute_input": "2022-12-09T19:15:08.509414Z",
     "iopub.status.busy": "2022-12-09T19:15:08.509019Z",
     "iopub.status.idle": "2022-12-09T19:15:08.518090Z",
     "shell.execute_reply": "2022-12-09T19:15:08.517050Z"
    },
    "papermill": {
     "duration": 0.026647,
     "end_time": "2022-12-09T19:15:08.520412",
     "exception": false,
     "start_time": "2022-12-09T19:15:08.493765",
     "status": "completed"
    },
    "tags": []
   },
   "outputs": [
    {
     "data": {
      "text/plain": [
       "(dict_keys(['player_0', 'player_1']),\n",
       " dict_keys(['units', 'teams', 'factories', 'board', 'weather_schedule', 'real_env_steps']))"
      ]
     },
     "execution_count": 5,
     "metadata": {},
     "output_type": "execute_result"
    }
   ],
   "source": [
    "# the observation is always composed of observations for both players.\n",
    "obs.keys(), obs[\"player_0\"].keys()"
   ]
  },
  {
   "cell_type": "markdown",
   "id": "c2d557d7",
   "metadata": {
    "papermill": {
     "duration": 0.013801,
     "end_time": "2022-12-09T19:15:08.548607",
     "exception": false,
     "start_time": "2022-12-09T19:15:08.534806",
     "status": "completed"
    },
    "tags": []
   },
   "source": [
    "To visualize the environment, on jupyter notebooks you have two options\n",
    "\n",
    "With the `rgb_array` mode you can visualize every step as an environment episode progresses\n",
    "\n",
    "With `html` you can visualize episodes by providing a replay"
   ]
  },
  {
   "cell_type": "code",
   "execution_count": 6,
   "id": "828bba99",
   "metadata": {
    "execution": {
     "iopub.execute_input": "2022-12-09T19:15:08.578595Z",
     "iopub.status.busy": "2022-12-09T19:15:08.578179Z",
     "iopub.status.idle": "2022-12-09T19:15:08.912224Z",
     "shell.execute_reply": "2022-12-09T19:15:08.911150Z"
    },
    "papermill": {
     "duration": 0.352049,
     "end_time": "2022-12-09T19:15:08.914713",
     "exception": false,
     "start_time": "2022-12-09T19:15:08.562664",
     "status": "completed"
    },
    "tags": []
   },
   "outputs": [
    {
     "data": {
      "text/plain": [
       "<matplotlib.image.AxesImage at 0x7f8ebd2bf790>"
      ]
     },
     "execution_count": 6,
     "metadata": {},
     "output_type": "execute_result"
    },
    {
     "data": {
      "image/png": "[encoded data removed]",
      "text/plain": [
       "<Figure size 640x480 with 1 Axes>"
      ]
     },
     "metadata": {},
     "output_type": "display_data"
    }
   ],
   "source": [
    "# visualize the environment so far with rgb_array to get a quick look at the map\n",
    "# dark orange - high rubble, light orange - low rubble\n",
    "# blue = ice, yellow = ore\n",
    "img = env.render(\"rgb_array\", width=640, height=640)\n",
    "plt.imshow(img)"
   ]
  },
  {
   "cell_type": "markdown",
   "id": "ee2aa283",
   "metadata": {
    "papermill": {
     "duration": 0.014265,
     "end_time": "2022-12-09T19:15:08.943803",
     "exception": false,
     "start_time": "2022-12-09T19:15:08.929538",
     "status": "completed"
    },
    "tags": []
   },
   "source": [
    "## Building an Agent\n",
    "Now we know what the environment looks like, let's try building a working agent. The goal of this environment to ensure at least one factory stays alive by the end of the episode and grow as much lichen as possible.\n",
    "\n",
    "In our kit we provide a skeleton for building an agent. Avoid removing any function from the kit unless you know what you are doing as it may cause your agent to fail on the competition servers. This agent defintion should be stored in the `agent.py` file.\n",
    "\n",
    "The agent will have `self.player, self.opp_player, self.env_cfg` populated with the correct values at each step of an environment during competition or when you use the CLI tool to run matches. \n",
    "\n",
    "`self.env_cfg` stores the curent environment's configurations, and `self.player, self.opp_player` stores the name of your player/team and the opposition respectively (will always be \"player_0\" or \"player_1\")."
   ]
  },
  {
   "cell_type": "code",
   "execution_count": 7,
   "id": "811c83ce",
   "metadata": {
    "execution": {
     "iopub.execute_input": "2022-12-09T19:15:08.975072Z",
     "iopub.status.busy": "2022-12-09T19:15:08.974156Z",
     "iopub.status.idle": "2022-12-09T19:15:08.999400Z",
     "shell.execute_reply": "2022-12-09T19:15:08.998371Z"
    },
    "papermill": {
     "duration": 0.044004,
     "end_time": "2022-12-09T19:15:09.002273",
     "exception": false,
     "start_time": "2022-12-09T19:15:08.958269",
     "status": "completed"
    },
    "tags": []
   },
   "outputs": [],
   "source": [
    "from lux.kit import obs_to_game_state, GameState, EnvConfig\n",
    "from luxai2022.utils import animate\n",
    "from lux.utils import direction_to, my_turn_to_place_factory\n",
    "class Agent():\n",
    "    def __init__(self, player: str, env_cfg: EnvConfig) -> None:\n",
    "        self.player = player\n",
    "        self.opp_player = \"player_1\" if self.player == \"player_0\" else \"player_0\"\n",
    "        np.random.seed(0)\n",
    "        self.env_cfg: EnvConfig = env_cfg\n",
    "\n",
    "    def early_setup(self, step: int, obs, remainingOverageTime: int = 60):\n",
    "        actions = dict()\n",
    "        # optionally convert observations to python objects with utility functions\n",
    "        game_state = obs_to_game_state(step, self.env_cfg, obs) \n",
    "        return actions\n",
    "\n",
    "    def act(self, step: int, obs, remainingOverageTime: int = 60):\n",
    "        actions = dict()\n",
    "        game_state = obs_to_game_state(step, self.env_cfg, obs)\n",
    "        return actions"
   ]
  },
  {
   "cell_type": "markdown",
   "id": "5f2aba0f",
   "metadata": {
    "papermill": {
     "duration": 0.014301,
     "end_time": "2022-12-09T19:15:09.031461",
     "exception": false,
     "start_time": "2022-12-09T19:15:09.017160",
     "status": "completed"
    },
    "tags": []
   },
   "source": [
    "Note that in season 2, there are two distinct phases of the game where you will have to program two different sets of logic to play it.\n",
    " \n",
    "We willalso define a simple function to initialize our agent and interact with the environment and generate a simple video replay.\n",
    "No need to worry about how this works specifically, you can copy paste this as you see fit. Note that this is a simplified representation. In order to visually see all numbers and details about units, factories etc. use our web visualizer."
   ]
  },
  {
   "cell_type": "code",
   "execution_count": 8,
   "id": "6083c315",
   "metadata": {
    "execution": {
     "iopub.execute_input": "2022-12-09T19:15:09.062867Z",
     "iopub.status.busy": "2022-12-09T19:15:09.062064Z",
     "iopub.status.idle": "2022-12-09T19:15:09.075681Z",
     "shell.execute_reply": "2022-12-09T19:15:09.074639Z"
    },
    "papermill": {
     "duration": 0.031649,
     "end_time": "2022-12-09T19:15:09.077767",
     "exception": false,
     "start_time": "2022-12-09T19:15:09.046118",
     "status": "completed"
    },
    "tags": []
   },
   "outputs": [],
   "source": [
    "def animate(imgs, _return=True):\n",
    "    # using cv2 to generate videos as moviepy doesn't work on kaggle notebooks\n",
    "    import cv2\n",
    "    import os\n",
    "    import string\n",
    "    import random\n",
    "    video_name = ''.join(random.choice(string.ascii_letters) for i in range(18))+'.webm'\n",
    "    height, width, layers = imgs[0].shape\n",
    "    fourcc = cv2.VideoWriter_fourcc(*'VP90')\n",
    "    video = cv2.VideoWriter(video_name, fourcc, 10, (width,height))\n",
    "\n",
    "    for img in imgs:\n",
    "        img = cv2.cvtColor(img, cv2.COLOR_BGR2RGB)\n",
    "        video.write(img)\n",
    "    video.release()\n",
    "    if _return:\n",
    "        from IPython.display import Video\n",
    "        return Video(video_name)\n",
    "def interact(env, agents, steps):\n",
    "    # reset our env\n",
    "    obs = env.reset(seed=41)\n",
    "    np.random.seed(0)\n",
    "    imgs = []\n",
    "    step = 0\n",
    "    # Note that as the environment has two phases, we also keep track a value called \n",
    "    # `real_env_steps` in the environment state. The first phase ends once `real_env_steps` is 0 and used below\n",
    "\n",
    "    # iterate until phase 1 ends\n",
    "    while env.state.real_env_steps < 0:\n",
    "        if step >= steps: break\n",
    "        actions = {}\n",
    "        for player in env.agents:\n",
    "            o = obs[player]\n",
    "            a = agents[player].early_setup(step, o)\n",
    "            actions[player] = a\n",
    "        step += 1\n",
    "        obs, rewards, dones, infos = env.step(actions)\n",
    "        imgs += [env.render(\"rgb_array\", width=640, height=640)]\n",
    "    done = False\n",
    "    while not done:\n",
    "        if step >= steps: break\n",
    "        actions = {}\n",
    "        for player in env.agents:\n",
    "            o = obs[player]\n",
    "            a = agents[player].act(step, o)\n",
    "            actions[player] = a\n",
    "        step += 1\n",
    "        obs, rewards, dones, infos = env.step(actions)\n",
    "        imgs += [env.render(\"rgb_array\", width=640, height=640)]\n",
    "        done = dones[\"player_0\"] and dones[\"player_1\"]\n",
    "    return animate(imgs)"
   ]
  },
  {
   "cell_type": "markdown",
   "id": "e75f8525",
   "metadata": {
    "papermill": {
     "duration": 0.014336,
     "end_time": "2022-12-09T19:15:09.106797",
     "exception": false,
     "start_time": "2022-12-09T19:15:09.092461",
     "status": "completed"
    },
    "tags": []
   },
   "source": [
    "### Early Phase\n",
    "\n",
    "In the Early Phase, you must enter a bid (≥ 0) for a new factory, declare a faction, and place your factories onto your side of the map. We will write a simple `early_setup` function to return the appropriate action to handle this phase.\n",
    "\n",
    "At timestep 0, you place a bid in addition to declaring a faction (this is something that we will be using for the official release, it will not affect gameplay at anytime). Each unit of bidding removes 1 water and 1 metal from your starting pool of water and metal.\n",
    "\n",
    "Each team gets `N` factories to place, with the winning bidder (if there is one) getting `N+1` factories. For the next `N+1` steps both teams get to place factories anywhere on their own half. For conveniency the observation contains all possible spawn locations for your team"
   ]
  },
  {
   "cell_type": "code",
   "execution_count": 11,
   "id": "e81a743e",
   "metadata": {
    "execution": {
     "iopub.execute_input": "2022-12-09T19:15:09.138446Z",
     "iopub.status.busy": "2022-12-09T19:15:09.137719Z",
     "iopub.status.idle": "2022-12-09T19:15:09.146129Z",
     "shell.execute_reply": "2022-12-09T19:15:09.145262Z"
    },
    "papermill": {
     "duration": 0.027078,
     "end_time": "2022-12-09T19:15:09.148491",
     "exception": false,
     "start_time": "2022-12-09T19:15:09.121413",
     "status": "completed"
    },
    "tags": []
   },
   "outputs": [],
   "source": [
    "def early_setup(self, step: int, obs, remainingOverageTime: int = 60):\n",
    "    if step == 0:\n",
    "        # bid 0 to not waste resources bidding and declare as the default faction\n",
    "        # you can bid -n to prefer going second or n to prefer going first in placement\n",
    "        return dict(faction=\"AlphaStrike\", bid=0)\n",
    "    else:\n",
    "        game_state = obs_to_game_state(step, self.env_cfg, obs)\n",
    "        # factory placement period\n",
    "        \n",
    "        # how much water and metal you have in your starting pool to give to new factories\n",
    "        water_left = game_state.teams[self.player].water\n",
    "        metal_left = game_state.teams[self.player].metal\n",
    "        \n",
    "        # how many factories you have left to place\n",
    "        factories_to_place = game_state.teams[self.player].factories_to_place\n",
    "        # whether it is your turn to place a factory\n",
    "        my_turn_to_place = my_turn_to_place_factory(game_state.teams[self.player].place_first, step)\n",
    "        if factories_to_place > 0 and my_turn_to_place:\n",
    "            # we will spawn our factory in a random location with 150 metal and water if it is our turn to place\n",
    "            potential_spawns = np.array(list(zip(*np.where(obs[\"board\"][\"valid_spawns_mask\"] == 1))))\n",
    "            spawn_loc = potential_spawns[np.random.randint(0, len(potential_spawns))]\n",
    "            return dict(spawn=spawn_loc, metal=150, water=150)\n",
    "        return dict()\n",
    "Agent.early_setup = early_setup"
   ]
  },
  {
   "cell_type": "markdown",
   "id": "9f2d533c",
   "metadata": {
    "papermill": {
     "duration": 0.014476,
     "end_time": "2022-12-09T19:15:09.178075",
     "exception": false,
     "start_time": "2022-12-09T19:15:09.163599",
     "status": "completed"
    },
    "tags": []
   },
   "source": [
    "Now let's observe what happens when we run this early setup function for each agent."
   ]
  },
  {
   "cell_type": "code",
   "execution_count": 12,
   "id": "0e94b3dd",
   "metadata": {
    "execution": {
     "iopub.execute_input": "2022-12-09T19:15:09.209733Z",
     "iopub.status.busy": "2022-12-09T19:15:09.208957Z",
     "iopub.status.idle": "2022-12-09T19:15:11.000712Z",
     "shell.execute_reply": "2022-12-09T19:15:10.999393Z"
    },
    "papermill": {
     "duration": 1.810837,
     "end_time": "2022-12-09T19:15:11.003612",
     "exception": false,
     "start_time": "2022-12-09T19:15:09.192775",
     "status": "completed"
    },
    "tags": []
   },
   "outputs": [
    {
     "name": "stdout",
     "output_type": "stream",
     "text": [
      "GameState(env_steps=1, env_cfg=EnvConfig(max_episode_length=1000, map_size=48, verbose=1, validate_action_space=True, max_transfer_amount=10000, MIN_FACTORIES=2, MAX_FACTORIES=5, CYCLE_LENGTH=50, DAY_LENGTH=30, UNIT_ACTION_QUEUE_SIZE=20, MAX_RUBBLE=100, FACTORY_RUBBLE_AFTER_DESTRUCTION=50, INIT_WATER_METAL_PER_FACTORY=150, INIT_POWER_PER_FACTORY=1000, MIN_LICHEN_TO_SPREAD=10, LICHEN_LOST_WITHOUT_WATER=1, LICHEN_GAINED_WITH_WATER=1, MAX_LICHEN_PER_TILE=100, LICHEN_WATERING_COST_FACTOR=10, BIDDING_SYSTEM=True, FACTORY_PROCESSING_RATE_WATER=50, ICE_WATER_RATIO=2, FACTORY_PROCESSING_RATE_METAL=50, ORE_METAL_RATIO=5, FACTORY_CHARGE=50, FACTORY_WATER_CONSUMPTION=1, ROBOTS={'LIGHT': UnitConfig(METAL_COST=10, POWER_COST=50, CARGO_SPACE=100, BATTERY_CAPACITY=150, CHARGE=1, INIT_POWER=50, MOVE_COST=1, RUBBLE_MOVEMENT_COST=0, DIG_COST=5, DIG_RUBBLE_REMOVED=2, DIG_RESOURCE_GAIN=2, DIG_LICHEN_REMOVED=10, SELF_DESTRUCT_COST=5, RUBBLE_AFTER_DESTRUCTION=1, ACTION_QUEUE_POWER_COST=1), 'HEAVY': UnitConfig(METAL_COST=100, POWER_COST=500, CARGO_SPACE=1000, BATTERY_CAPACITY=3000, CHARGE=10, INIT_POWER=500, MOVE_COST=20, RUBBLE_MOVEMENT_COST=1, DIG_COST=100, DIG_RUBBLE_REMOVED=20, DIG_RESOURCE_GAIN=20, DIG_LICHEN_REMOVED=100, SELF_DESTRUCT_COST=100, RUBBLE_AFTER_DESTRUCTION=10, ACTION_QUEUE_POWER_COST=10)}, WEATHER_ID_TO_NAME=['NONE', 'MARS_QUAKE', 'COLD_SNAP', 'DUST_STORM', 'SOLAR_FLARE'], NUM_WEATHER_EVENTS_RANGE=[3, 5], WEATHER={'MARS_QUAKE': {'TIME_RANGE': [1, 5]}, 'COLD_SNAP': {'POWER_CONSUMPTION': 2, 'TIME_RANGE': [10, 30]}, 'DUST_STORM': {'POWER_GAIN': 0.5, 'TIME_RANGE': [10, 30]}, 'SOLAR_FLARE': {'POWER_GAIN': 2, 'TIME_RANGE': [10, 30]}}), board=Board(rubble=array([[83, 79, 75, ..., 75, 79, 83],\n",
      "       [81, 77, 73, ..., 73, 77, 81],\n",
      "       [79, 75, 71, ..., 14, 75, 79],\n",
      "       ...,\n",
      "       [71, 71, 14, ..., 70, 71, 71],\n",
      "       [71, 70, 70, ..., 70, 70, 71],\n",
      "       [70, 70, 70, ..., 70, 70, 70]]), ice=array([[0, 0, 0, ..., 0, 0, 0],\n",
      "       [0, 0, 0, ..., 0, 0, 0],\n",
      "       [0, 0, 0, ..., 0, 0, 0],\n",
      "       ...,\n",
      "       [0, 0, 0, ..., 0, 0, 0],\n",
      "       [0, 0, 0, ..., 0, 0, 0],\n",
      "       [0, 0, 0, ..., 0, 0, 0]]), ore=array([[0, 0, 0, ..., 0, 0, 0],\n",
      "       [0, 0, 0, ..., 0, 0, 0],\n",
      "       [0, 0, 0, ..., 0, 0, 0],\n",
      "       ...,\n",
      "       [0, 0, 0, ..., 0, 0, 0],\n",
      "       [0, 0, 0, ..., 0, 0, 0],\n",
      "       [0, 0, 0, ..., 0, 0, 0]]), lichen=array([[0, 0, 0, ..., 0, 0, 0],\n",
      "       [0, 0, 0, ..., 0, 0, 0],\n",
      "       [0, 0, 0, ..., 0, 0, 0],\n",
      "       ...,\n",
      "       [0, 0, 0, ..., 0, 0, 0],\n",
      "       [0, 0, 0, ..., 0, 0, 0],\n",
      "       [0, 0, 0, ..., 0, 0, 0]]), lichen_strains=array([[-1, -1, -1, ..., -1, -1, -1],\n",
      "       [-1, -1, -1, ..., -1, -1, -1],\n",
      "       [-1, -1, -1, ..., -1, -1, -1],\n",
      "       ...,\n",
      "       [-1, -1, -1, ..., -1, -1, -1],\n",
      "       [-1, -1, -1, ..., -1, -1, -1],\n",
      "       [-1, -1, -1, ..., -1, -1, -1]]), factory_occupancy_map=array([[-1, -1, -1, ..., -1, -1, -1],\n",
      "       [-1, -1, -1, ..., -1, -1, -1],\n",
      "       [-1, -1, -1, ..., -1, -1, -1],\n",
      "       ...,\n",
      "       [-1, -1, -1, ..., -1, -1, -1],\n",
      "       [-1, -1, -1, ..., -1, -1, -1],\n",
      "       [-1, -1, -1, ..., -1, -1, -1]]), factories_per_team=2, valid_spawns_mask=array([[False, False, False, ..., False, False, False],\n",
      "       [False,  True,  True, ...,  True,  True, False],\n",
      "       [False,  True,  True, ...,  True,  True, False],\n",
      "       ...,\n",
      "       [False,  True,  True, ...,  True,  True, False],\n",
      "       [False,  True,  True, ...,  True,  True, False],\n",
      "       [False, False, False, ..., False, False, False]])), weather_schedule=array([0, 0, 0, 0, 0, 0, 0, 0, 0, 0, 0, 0, 0, 0, 0, 0, 0, 0, 0, 0, 0, 0,\n",
      "       0, 0, 0, 0, 0, 0, 0, 0, 0, 0, 0, 0, 0, 0, 0, 0, 0, 0, 0, 0, 0, 0,\n",
      "       0, 0, 0, 0, 0, 0, 0, 0, 0, 0, 0, 0, 0, 0, 0, 0, 0, 0, 0, 0, 0, 0,\n",
      "       0, 0, 0, 0, 0, 0, 0, 0, 0, 0, 0, 0, 0, 0, 0, 0, 0, 0, 0, 0, 0, 0,\n",
      "       0, 0, 0, 0, 0, 0, 0, 0, 0, 0, 0, 0, 0, 0, 0, 0, 0, 0, 0, 0, 0, 0,\n",
      "       0, 0, 0, 0, 0, 0, 0, 0, 0, 0, 0, 0, 0, 0, 0, 0, 0, 0, 0, 0, 0, 0,\n",
      "       0, 0, 0, 0, 0, 0, 0, 0, 0, 0, 0, 0, 0, 0, 0, 0, 0, 0, 0, 0, 0, 0,\n",
      "       0, 0, 0, 0, 0, 0, 0, 0, 0, 0, 0, 0, 0, 0, 0, 0, 0, 0, 0, 0, 0, 0,\n",
      "       0, 0, 0, 0, 0, 0, 0, 0, 0, 0, 0, 0, 0, 0, 0, 0, 0, 0, 0, 0, 0, 0,\n",
      "       0, 0, 0, 0, 0, 0, 0, 0, 0, 0, 0, 0, 0, 0, 0, 0, 0, 0, 0, 0, 0, 0,\n",
      "       0, 0, 0, 0, 0, 0, 0, 0, 0, 0, 0, 0, 0, 0, 0, 0, 0, 0, 0, 0, 0, 0,\n",
      "       0, 0, 0, 0, 0, 0, 0, 0, 0, 0, 0, 0, 0, 0, 0, 0, 0, 0, 0, 0, 0, 0,\n",
      "       0, 0, 0, 0, 0, 0, 0, 0, 0, 0, 0, 0, 0, 0, 0, 0, 0, 0, 0, 0, 0, 0,\n",
      "       0, 0, 0, 0, 0, 0, 0, 0, 0, 0, 0, 0, 0, 0, 0, 0, 0, 0, 0, 0, 0, 0,\n",
      "       0, 0, 0, 0, 0, 0, 0, 0, 0, 0, 0, 0, 0, 1, 1, 1, 1, 0, 0, 0, 0, 0,\n",
      "       0, 0, 0, 0, 0, 0, 0, 0, 0, 0, 0, 0, 0, 0, 0, 0, 0, 0, 0, 0, 0, 0,\n",
      "       0, 0, 0, 0, 0, 0, 0, 0, 0, 0, 0, 0, 0, 0, 0, 0, 0, 0, 0, 0, 0, 0,\n",
      "       0, 0, 0, 0, 0, 0, 0, 0, 0, 0, 0, 0, 0, 0, 0, 0, 0, 0, 0, 0, 0, 0,\n",
      "       0, 0, 0, 0, 0, 0, 0, 0, 0, 0, 0, 2, 2, 2, 2, 2, 2, 2, 2, 2, 2, 2,\n",
      "       2, 2, 2, 2, 2, 2, 2, 2, 2, 2, 2, 2, 0, 0, 0, 0, 0, 0, 0, 0, 0, 0,\n",
      "       0, 0, 0, 0, 0, 0, 0, 0, 0, 0, 0, 0, 0, 0, 0, 0, 0, 0, 0, 0, 0, 0,\n",
      "       0, 0, 0, 0, 0, 0, 0, 0, 0, 0, 0, 0, 0, 0, 0, 0, 0, 0, 0, 0, 0, 0,\n",
      "       0, 0, 0, 0, 0, 0, 0, 0, 0, 0, 0, 0, 0, 0, 0, 0, 0, 0, 0, 0, 0, 0,\n",
      "       0, 0, 0, 0, 0, 0, 0, 0, 0, 0, 0, 0, 0, 0, 0, 0, 0, 0, 0, 0, 0, 0,\n",
      "       0, 0, 0, 0, 0, 0, 0, 0, 0, 0, 0, 0, 0, 0, 0, 0, 0, 0, 0, 0, 0, 0,\n",
      "       0, 0, 0, 0, 0, 0, 0, 0, 0, 0, 0, 0, 0, 0, 0, 0, 0, 0, 0, 0, 0, 0,\n",
      "       0, 0, 0, 0, 0, 0, 0, 0, 0, 0, 0, 0, 0, 0, 0, 0, 0, 0, 0, 0, 0, 0,\n",
      "       0, 0, 0, 0, 0, 0, 0, 0, 0, 0, 0, 0, 0, 0, 0, 0, 0, 0, 0, 0, 0, 0,\n",
      "       0, 0, 0, 0, 0, 0, 0, 0, 0, 0, 0, 0, 0, 0, 0, 0, 0, 0, 0, 0, 0, 0,\n",
      "       0, 0, 0, 0, 0, 0, 0, 0, 0, 0, 0, 0, 0, 0, 0, 0, 0, 0, 0, 0, 0, 0,\n",
      "       0, 0, 0, 0, 0, 0, 0, 0, 0, 0, 0, 0, 0, 0, 0, 0, 0, 0, 0, 0, 0, 0,\n",
      "       0, 0, 0, 0, 0, 0, 0, 0, 0, 0, 0, 0, 0, 0, 0, 0, 0, 0, 0, 0, 0, 0,\n",
      "       0, 0, 0, 0, 0, 0, 0, 0, 0, 0, 0, 0, 0, 0, 0, 0, 0, 0, 0, 0, 0, 0,\n",
      "       0, 0, 0, 0, 0, 0, 0, 0, 0, 0, 0, 0, 0, 0, 0, 0, 0, 0, 0, 0, 0, 0,\n",
      "       0, 0, 0, 0, 0, 0, 0, 0, 0, 0, 0, 0, 0, 0, 0, 0, 0, 0, 0, 0, 0, 0,\n",
      "       0, 0, 0, 0, 0, 0, 0, 0, 0, 0, 0, 0, 0, 0, 0, 0, 0, 0, 0, 0, 0, 0,\n",
      "       0, 0, 0, 0, 0, 0, 0, 0, 0, 0, 0, 0, 0, 0, 0, 0, 0, 0, 0, 0, 0, 0,\n",
      "       0, 0, 0, 0, 0, 0, 0, 0, 0, 0, 0, 0, 0, 0, 0, 0, 0, 0, 0, 0, 0, 0,\n",
      "       0, 0, 0, 0, 0, 0, 0, 0, 0, 0, 0, 0, 0, 0, 0, 0, 0, 0, 0, 0, 0, 0,\n",
      "       0, 0, 0, 0, 0, 0, 0, 0, 0, 0, 0, 0, 0, 0, 0, 0, 0, 0, 0, 0, 0, 0,\n",
      "       0, 0, 0, 0, 0, 0, 0, 0, 0, 0, 0, 0, 0, 0, 0, 0, 0, 0, 0, 0, 0, 0,\n",
      "       0, 0, 0, 0, 0, 0, 4, 4, 4, 4, 4, 4, 4, 4, 4, 4, 4, 4, 0, 0, 0, 0,\n",
      "       0, 0, 0, 0, 0, 0, 0, 0, 0, 0, 0, 0, 0, 0, 0, 0, 0, 0, 0, 0, 0, 0,\n",
      "       0, 0, 0, 0, 0, 0, 0, 0, 0, 0, 0, 0, 0, 0, 0, 0, 0, 0, 0, 0, 0, 0,\n",
      "       0, 0, 0, 0, 0, 0, 0, 0, 0, 0, 0, 0, 0, 0, 0, 0, 0, 0, 0, 0, 0, 0,\n",
      "       0, 0, 0, 0, 0, 0, 0, 0, 0, 0]), units={'player_0': {}, 'player_1': {}}, factories={'player_0': {}, 'player_1': {}}, teams={'player_0': <lux.team.Team object at 0x7f8ebd3b3850>, 'player_1': <lux.team.Team object at 0x7f8ebd3b35b0>})\n",
      "GameState(env_steps=1, env_cfg=EnvConfig(max_episode_length=1000, map_size=48, verbose=1, validate_action_space=True, max_transfer_amount=10000, MIN_FACTORIES=2, MAX_FACTORIES=5, CYCLE_LENGTH=50, DAY_LENGTH=30, UNIT_ACTION_QUEUE_SIZE=20, MAX_RUBBLE=100, FACTORY_RUBBLE_AFTER_DESTRUCTION=50, INIT_WATER_METAL_PER_FACTORY=150, INIT_POWER_PER_FACTORY=1000, MIN_LICHEN_TO_SPREAD=10, LICHEN_LOST_WITHOUT_WATER=1, LICHEN_GAINED_WITH_WATER=1, MAX_LICHEN_PER_TILE=100, LICHEN_WATERING_COST_FACTOR=10, BIDDING_SYSTEM=True, FACTORY_PROCESSING_RATE_WATER=50, ICE_WATER_RATIO=2, FACTORY_PROCESSING_RATE_METAL=50, ORE_METAL_RATIO=5, FACTORY_CHARGE=50, FACTORY_WATER_CONSUMPTION=1, ROBOTS={'LIGHT': UnitConfig(METAL_COST=10, POWER_COST=50, CARGO_SPACE=100, BATTERY_CAPACITY=150, CHARGE=1, INIT_POWER=50, MOVE_COST=1, RUBBLE_MOVEMENT_COST=0, DIG_COST=5, DIG_RUBBLE_REMOVED=2, DIG_RESOURCE_GAIN=2, DIG_LICHEN_REMOVED=10, SELF_DESTRUCT_COST=5, RUBBLE_AFTER_DESTRUCTION=1, ACTION_QUEUE_POWER_COST=1), 'HEAVY': UnitConfig(METAL_COST=100, POWER_COST=500, CARGO_SPACE=1000, BATTERY_CAPACITY=3000, CHARGE=10, INIT_POWER=500, MOVE_COST=20, RUBBLE_MOVEMENT_COST=1, DIG_COST=100, DIG_RUBBLE_REMOVED=20, DIG_RESOURCE_GAIN=20, DIG_LICHEN_REMOVED=100, SELF_DESTRUCT_COST=100, RUBBLE_AFTER_DESTRUCTION=10, ACTION_QUEUE_POWER_COST=10)}, WEATHER_ID_TO_NAME=['NONE', 'MARS_QUAKE', 'COLD_SNAP', 'DUST_STORM', 'SOLAR_FLARE'], NUM_WEATHER_EVENTS_RANGE=[3, 5], WEATHER={'MARS_QUAKE': {'TIME_RANGE': [1, 5]}, 'COLD_SNAP': {'POWER_CONSUMPTION': 2, 'TIME_RANGE': [10, 30]}, 'DUST_STORM': {'POWER_GAIN': 0.5, 'TIME_RANGE': [10, 30]}, 'SOLAR_FLARE': {'POWER_GAIN': 2, 'TIME_RANGE': [10, 30]}}), board=Board(rubble=array([[83, 79, 75, ..., 75, 79, 83],\n",
      "       [81, 77, 73, ..., 73, 77, 81],\n",
      "       [79, 75, 71, ..., 14, 75, 79],\n",
      "       ...,\n",
      "       [71, 71, 14, ..., 70, 71, 71],\n",
      "       [71, 70, 70, ..., 70, 70, 71],\n",
      "       [70, 70, 70, ..., 70, 70, 70]]), ice=array([[0, 0, 0, ..., 0, 0, 0],\n",
      "       [0, 0, 0, ..., 0, 0, 0],\n",
      "       [0, 0, 0, ..., 0, 0, 0],\n",
      "       ...,\n",
      "       [0, 0, 0, ..., 0, 0, 0],\n",
      "       [0, 0, 0, ..., 0, 0, 0],\n",
      "       [0, 0, 0, ..., 0, 0, 0]]), ore=array([[0, 0, 0, ..., 0, 0, 0],\n",
      "       [0, 0, 0, ..., 0, 0, 0],\n",
      "       [0, 0, 0, ..., 0, 0, 0],\n",
      "       ...,\n",
      "       [0, 0, 0, ..., 0, 0, 0],\n",
      "       [0, 0, 0, ..., 0, 0, 0],\n",
      "       [0, 0, 0, ..., 0, 0, 0]]), lichen=array([[0, 0, 0, ..., 0, 0, 0],\n",
      "       [0, 0, 0, ..., 0, 0, 0],\n",
      "       [0, 0, 0, ..., 0, 0, 0],\n",
      "       ...,\n",
      "       [0, 0, 0, ..., 0, 0, 0],\n",
      "       [0, 0, 0, ..., 0, 0, 0],\n",
      "       [0, 0, 0, ..., 0, 0, 0]]), lichen_strains=array([[-1, -1, -1, ..., -1, -1, -1],\n",
      "       [-1, -1, -1, ..., -1, -1, -1],\n",
      "       [-1, -1, -1, ..., -1, -1, -1],\n",
      "       ...,\n",
      "       [-1, -1, -1, ..., -1, -1, -1],\n",
      "       [-1, -1, -1, ..., -1, -1, -1],\n",
      "       [-1, -1, -1, ..., -1, -1, -1]]), factory_occupancy_map=array([[-1, -1, -1, ..., -1, -1, -1],\n",
      "       [-1, -1, -1, ..., -1, -1, -1],\n",
      "       [-1, -1, -1, ..., -1, -1, -1],\n",
      "       ...,\n",
      "       [-1, -1, -1, ..., -1, -1, -1],\n",
      "       [-1, -1, -1, ..., -1, -1, -1],\n",
      "       [-1, -1, -1, ..., -1, -1, -1]]), factories_per_team=2, valid_spawns_mask=array([[False, False, False, ..., False, False, False],\n",
      "       [False,  True,  True, ...,  True,  True, False],\n",
      "       [False,  True,  True, ...,  True,  True, False],\n",
      "       ...,\n",
      "       [False,  True,  True, ...,  True,  True, False],\n",
      "       [False,  True,  True, ...,  True,  True, False],\n",
      "       [False, False, False, ..., False, False, False]])), weather_schedule=array([0, 0, 0, 0, 0, 0, 0, 0, 0, 0, 0, 0, 0, 0, 0, 0, 0, 0, 0, 0, 0, 0,\n",
      "       0, 0, 0, 0, 0, 0, 0, 0, 0, 0, 0, 0, 0, 0, 0, 0, 0, 0, 0, 0, 0, 0,\n",
      "       0, 0, 0, 0, 0, 0, 0, 0, 0, 0, 0, 0, 0, 0, 0, 0, 0, 0, 0, 0, 0, 0,\n",
      "       0, 0, 0, 0, 0, 0, 0, 0, 0, 0, 0, 0, 0, 0, 0, 0, 0, 0, 0, 0, 0, 0,\n",
      "       0, 0, 0, 0, 0, 0, 0, 0, 0, 0, 0, 0, 0, 0, 0, 0, 0, 0, 0, 0, 0, 0,\n",
      "       0, 0, 0, 0, 0, 0, 0, 0, 0, 0, 0, 0, 0, 0, 0, 0, 0, 0, 0, 0, 0, 0,\n",
      "       0, 0, 0, 0, 0, 0, 0, 0, 0, 0, 0, 0, 0, 0, 0, 0, 0, 0, 0, 0, 0, 0,\n",
      "       0, 0, 0, 0, 0, 0, 0, 0, 0, 0, 0, 0, 0, 0, 0, 0, 0, 0, 0, 0, 0, 0,\n",
      "       0, 0, 0, 0, 0, 0, 0, 0, 0, 0, 0, 0, 0, 0, 0, 0, 0, 0, 0, 0, 0, 0,\n",
      "       0, 0, 0, 0, 0, 0, 0, 0, 0, 0, 0, 0, 0, 0, 0, 0, 0, 0, 0, 0, 0, 0,\n",
      "       0, 0, 0, 0, 0, 0, 0, 0, 0, 0, 0, 0, 0, 0, 0, 0, 0, 0, 0, 0, 0, 0,\n",
      "       0, 0, 0, 0, 0, 0, 0, 0, 0, 0, 0, 0, 0, 0, 0, 0, 0, 0, 0, 0, 0, 0,\n",
      "       0, 0, 0, 0, 0, 0, 0, 0, 0, 0, 0, 0, 0, 0, 0, 0, 0, 0, 0, 0, 0, 0,\n",
      "       0, 0, 0, 0, 0, 0, 0, 0, 0, 0, 0, 0, 0, 0, 0, 0, 0, 0, 0, 0, 0, 0,\n",
      "       0, 0, 0, 0, 0, 0, 0, 0, 0, 0, 0, 0, 0, 1, 1, 1, 1, 0, 0, 0, 0, 0,\n",
      "       0, 0, 0, 0, 0, 0, 0, 0, 0, 0, 0, 0, 0, 0, 0, 0, 0, 0, 0, 0, 0, 0,\n",
      "       0, 0, 0, 0, 0, 0, 0, 0, 0, 0, 0, 0, 0, 0, 0, 0, 0, 0, 0, 0, 0, 0,\n",
      "       0, 0, 0, 0, 0, 0, 0, 0, 0, 0, 0, 0, 0, 0, 0, 0, 0, 0, 0, 0, 0, 0,\n",
      "       0, 0, 0, 0, 0, 0, 0, 0, 0, 0, 0, 2, 2, 2, 2, 2, 2, 2, 2, 2, 2, 2,\n",
      "       2, 2, 2, 2, 2, 2, 2, 2, 2, 2, 2, 2, 0, 0, 0, 0, 0, 0, 0, 0, 0, 0,\n",
      "       0, 0, 0, 0, 0, 0, 0, 0, 0, 0, 0, 0, 0, 0, 0, 0, 0, 0, 0, 0, 0, 0,\n",
      "       0, 0, 0, 0, 0, 0, 0, 0, 0, 0, 0, 0, 0, 0, 0, 0, 0, 0, 0, 0, 0, 0,\n",
      "       0, 0, 0, 0, 0, 0, 0, 0, 0, 0, 0, 0, 0, 0, 0, 0, 0, 0, 0, 0, 0, 0,\n",
      "       0, 0, 0, 0, 0, 0, 0, 0, 0, 0, 0, 0, 0, 0, 0, 0, 0, 0, 0, 0, 0, 0,\n",
      "       0, 0, 0, 0, 0, 0, 0, 0, 0, 0, 0, 0, 0, 0, 0, 0, 0, 0, 0, 0, 0, 0,\n",
      "       0, 0, 0, 0, 0, 0, 0, 0, 0, 0, 0, 0, 0, 0, 0, 0, 0, 0, 0, 0, 0, 0,\n",
      "       0, 0, 0, 0, 0, 0, 0, 0, 0, 0, 0, 0, 0, 0, 0, 0, 0, 0, 0, 0, 0, 0,\n",
      "       0, 0, 0, 0, 0, 0, 0, 0, 0, 0, 0, 0, 0, 0, 0, 0, 0, 0, 0, 0, 0, 0,\n",
      "       0, 0, 0, 0, 0, 0, 0, 0, 0, 0, 0, 0, 0, 0, 0, 0, 0, 0, 0, 0, 0, 0,\n",
      "       0, 0, 0, 0, 0, 0, 0, 0, 0, 0, 0, 0, 0, 0, 0, 0, 0, 0, 0, 0, 0, 0,\n",
      "       0, 0, 0, 0, 0, 0, 0, 0, 0, 0, 0, 0, 0, 0, 0, 0, 0, 0, 0, 0, 0, 0,\n",
      "       0, 0, 0, 0, 0, 0, 0, 0, 0, 0, 0, 0, 0, 0, 0, 0, 0, 0, 0, 0, 0, 0,\n",
      "       0, 0, 0, 0, 0, 0, 0, 0, 0, 0, 0, 0, 0, 0, 0, 0, 0, 0, 0, 0, 0, 0,\n",
      "       0, 0, 0, 0, 0, 0, 0, 0, 0, 0, 0, 0, 0, 0, 0, 0, 0, 0, 0, 0, 0, 0,\n",
      "       0, 0, 0, 0, 0, 0, 0, 0, 0, 0, 0, 0, 0, 0, 0, 0, 0, 0, 0, 0, 0, 0,\n",
      "       0, 0, 0, 0, 0, 0, 0, 0, 0, 0, 0, 0, 0, 0, 0, 0, 0, 0, 0, 0, 0, 0,\n",
      "       0, 0, 0, 0, 0, 0, 0, 0, 0, 0, 0, 0, 0, 0, 0, 0, 0, 0, 0, 0, 0, 0,\n",
      "       0, 0, 0, 0, 0, 0, 0, 0, 0, 0, 0, 0, 0, 0, 0, 0, 0, 0, 0, 0, 0, 0,\n",
      "       0, 0, 0, 0, 0, 0, 0, 0, 0, 0, 0, 0, 0, 0, 0, 0, 0, 0, 0, 0, 0, 0,\n",
      "       0, 0, 0, 0, 0, 0, 0, 0, 0, 0, 0, 0, 0, 0, 0, 0, 0, 0, 0, 0, 0, 0,\n",
      "       0, 0, 0, 0, 0, 0, 0, 0, 0, 0, 0, 0, 0, 0, 0, 0, 0, 0, 0, 0, 0, 0,\n",
      "       0, 0, 0, 0, 0, 0, 4, 4, 4, 4, 4, 4, 4, 4, 4, 4, 4, 4, 0, 0, 0, 0,\n",
      "       0, 0, 0, 0, 0, 0, 0, 0, 0, 0, 0, 0, 0, 0, 0, 0, 0, 0, 0, 0, 0, 0,\n",
      "       0, 0, 0, 0, 0, 0, 0, 0, 0, 0, 0, 0, 0, 0, 0, 0, 0, 0, 0, 0, 0, 0,\n",
      "       0, 0, 0, 0, 0, 0, 0, 0, 0, 0, 0, 0, 0, 0, 0, 0, 0, 0, 0, 0, 0, 0,\n",
      "       0, 0, 0, 0, 0, 0, 0, 0, 0, 0]), units={'player_0': {}, 'player_1': {}}, factories={'player_0': {}, 'player_1': {}}, teams={'player_0': <lux.team.Team object at 0x7f8ebd3b35b0>, 'player_1': <lux.team.Team object at 0x7f8ebd3b3850>})\n",
      "GameState(env_steps=2, env_cfg=EnvConfig(max_episode_length=1000, map_size=48, verbose=1, validate_action_space=True, max_transfer_amount=10000, MIN_FACTORIES=2, MAX_FACTORIES=5, CYCLE_LENGTH=50, DAY_LENGTH=30, UNIT_ACTION_QUEUE_SIZE=20, MAX_RUBBLE=100, FACTORY_RUBBLE_AFTER_DESTRUCTION=50, INIT_WATER_METAL_PER_FACTORY=150, INIT_POWER_PER_FACTORY=1000, MIN_LICHEN_TO_SPREAD=10, LICHEN_LOST_WITHOUT_WATER=1, LICHEN_GAINED_WITH_WATER=1, MAX_LICHEN_PER_TILE=100, LICHEN_WATERING_COST_FACTOR=10, BIDDING_SYSTEM=True, FACTORY_PROCESSING_RATE_WATER=50, ICE_WATER_RATIO=2, FACTORY_PROCESSING_RATE_METAL=50, ORE_METAL_RATIO=5, FACTORY_CHARGE=50, FACTORY_WATER_CONSUMPTION=1, ROBOTS={'LIGHT': UnitConfig(METAL_COST=10, POWER_COST=50, CARGO_SPACE=100, BATTERY_CAPACITY=150, CHARGE=1, INIT_POWER=50, MOVE_COST=1, RUBBLE_MOVEMENT_COST=0, DIG_COST=5, DIG_RUBBLE_REMOVED=2, DIG_RESOURCE_GAIN=2, DIG_LICHEN_REMOVED=10, SELF_DESTRUCT_COST=5, RUBBLE_AFTER_DESTRUCTION=1, ACTION_QUEUE_POWER_COST=1), 'HEAVY': UnitConfig(METAL_COST=100, POWER_COST=500, CARGO_SPACE=1000, BATTERY_CAPACITY=3000, CHARGE=10, INIT_POWER=500, MOVE_COST=20, RUBBLE_MOVEMENT_COST=1, DIG_COST=100, DIG_RUBBLE_REMOVED=20, DIG_RESOURCE_GAIN=20, DIG_LICHEN_REMOVED=100, SELF_DESTRUCT_COST=100, RUBBLE_AFTER_DESTRUCTION=10, ACTION_QUEUE_POWER_COST=10)}, WEATHER_ID_TO_NAME=['NONE', 'MARS_QUAKE', 'COLD_SNAP', 'DUST_STORM', 'SOLAR_FLARE'], NUM_WEATHER_EVENTS_RANGE=[3, 5], WEATHER={'MARS_QUAKE': {'TIME_RANGE': [1, 5]}, 'COLD_SNAP': {'POWER_CONSUMPTION': 2, 'TIME_RANGE': [10, 30]}, 'DUST_STORM': {'POWER_GAIN': 0.5, 'TIME_RANGE': [10, 30]}, 'SOLAR_FLARE': {'POWER_GAIN': 2, 'TIME_RANGE': [10, 30]}}), board=Board(rubble=array([[83, 79, 75, ..., 75, 79, 83],\n",
      "       [81, 77, 73, ..., 73, 77, 81],\n",
      "       [79, 75, 71, ..., 14, 75, 79],\n",
      "       ...,\n",
      "       [71, 71, 14, ..., 70, 71, 71],\n",
      "       [71, 70, 70, ..., 70, 70, 71],\n",
      "       [70, 70, 70, ..., 70, 70, 70]]), ice=array([[0, 0, 0, ..., 0, 0, 0],\n",
      "       [0, 0, 0, ..., 0, 0, 0],\n",
      "       [0, 0, 0, ..., 0, 0, 0],\n",
      "       ...,\n",
      "       [0, 0, 0, ..., 0, 0, 0],\n",
      "       [0, 0, 0, ..., 0, 0, 0],\n",
      "       [0, 0, 0, ..., 0, 0, 0]]), ore=array([[0, 0, 0, ..., 0, 0, 0],\n",
      "       [0, 0, 0, ..., 0, 0, 0],\n",
      "       [0, 0, 0, ..., 0, 0, 0],\n",
      "       ...,\n",
      "       [0, 0, 0, ..., 0, 0, 0],\n",
      "       [0, 0, 0, ..., 0, 0, 0],\n",
      "       [0, 0, 0, ..., 0, 0, 0]]), lichen=array([[0, 0, 0, ..., 0, 0, 0],\n",
      "       [0, 0, 0, ..., 0, 0, 0],\n",
      "       [0, 0, 0, ..., 0, 0, 0],\n",
      "       ...,\n",
      "       [0, 0, 0, ..., 0, 0, 0],\n",
      "       [0, 0, 0, ..., 0, 0, 0],\n",
      "       [0, 0, 0, ..., 0, 0, 0]]), lichen_strains=array([[-1, -1, -1, ..., -1, -1, -1],\n",
      "       [-1, -1, -1, ..., -1, -1, -1],\n",
      "       [-1, -1, -1, ..., -1, -1, -1],\n",
      "       ...,\n",
      "       [-1, -1, -1, ..., -1, -1, -1],\n",
      "       [-1, -1, -1, ..., -1, -1, -1],\n",
      "       [-1, -1, -1, ..., -1, -1, -1]]), factory_occupancy_map=array([[-1, -1, -1, ..., -1, -1, -1],\n",
      "       [-1, -1, -1, ..., -1, -1, -1],\n",
      "       [-1, -1, -1, ..., -1, -1, -1],\n",
      "       ...,\n",
      "       [-1, -1, -1, ..., -1, -1, -1],\n",
      "       [-1, -1, -1, ..., -1, -1, -1],\n",
      "       [-1, -1, -1, ..., -1, -1, -1]]), factories_per_team=2, valid_spawns_mask=array([[False, False, False, ..., False, False, False],\n",
      "       [False,  True,  True, ...,  True,  True, False],\n",
      "       [False,  True,  True, ...,  True,  True, False],\n",
      "       ...,\n",
      "       [False,  True,  True, ...,  True,  True, False],\n",
      "       [False,  True,  True, ...,  True,  True, False],\n",
      "       [False, False, False, ..., False, False, False]])), weather_schedule=array([0, 0, 0, 0, 0, 0, 0, 0, 0, 0, 0, 0, 0, 0, 0, 0, 0, 0, 0, 0, 0, 0,\n",
      "       0, 0, 0, 0, 0, 0, 0, 0, 0, 0, 0, 0, 0, 0, 0, 0, 0, 0, 0, 0, 0, 0,\n",
      "       0, 0, 0, 0, 0, 0, 0, 0, 0, 0, 0, 0, 0, 0, 0, 0, 0, 0, 0, 0, 0, 0,\n",
      "       0, 0, 0, 0, 0, 0, 0, 0, 0, 0, 0, 0, 0, 0, 0, 0, 0, 0, 0, 0, 0, 0,\n",
      "       0, 0, 0, 0, 0, 0, 0, 0, 0, 0, 0, 0, 0, 0, 0, 0, 0, 0, 0, 0, 0, 0,\n",
      "       0, 0, 0, 0, 0, 0, 0, 0, 0, 0, 0, 0, 0, 0, 0, 0, 0, 0, 0, 0, 0, 0,\n",
      "       0, 0, 0, 0, 0, 0, 0, 0, 0, 0, 0, 0, 0, 0, 0, 0, 0, 0, 0, 0, 0, 0,\n",
      "       0, 0, 0, 0, 0, 0, 0, 0, 0, 0, 0, 0, 0, 0, 0, 0, 0, 0, 0, 0, 0, 0,\n",
      "       0, 0, 0, 0, 0, 0, 0, 0, 0, 0, 0, 0, 0, 0, 0, 0, 0, 0, 0, 0, 0, 0,\n",
      "       0, 0, 0, 0, 0, 0, 0, 0, 0, 0, 0, 0, 0, 0, 0, 0, 0, 0, 0, 0, 0, 0,\n",
      "       0, 0, 0, 0, 0, 0, 0, 0, 0, 0, 0, 0, 0, 0, 0, 0, 0, 0, 0, 0, 0, 0,\n",
      "       0, 0, 0, 0, 0, 0, 0, 0, 0, 0, 0, 0, 0, 0, 0, 0, 0, 0, 0, 0, 0, 0,\n",
      "       0, 0, 0, 0, 0, 0, 0, 0, 0, 0, 0, 0, 0, 0, 0, 0, 0, 0, 0, 0, 0, 0,\n",
      "       0, 0, 0, 0, 0, 0, 0, 0, 0, 0, 0, 0, 0, 0, 0, 0, 0, 0, 0, 0, 0, 0,\n",
      "       0, 0, 0, 0, 0, 0, 0, 0, 0, 0, 0, 0, 0, 1, 1, 1, 1, 0, 0, 0, 0, 0,\n",
      "       0, 0, 0, 0, 0, 0, 0, 0, 0, 0, 0, 0, 0, 0, 0, 0, 0, 0, 0, 0, 0, 0,\n",
      "       0, 0, 0, 0, 0, 0, 0, 0, 0, 0, 0, 0, 0, 0, 0, 0, 0, 0, 0, 0, 0, 0,\n",
      "       0, 0, 0, 0, 0, 0, 0, 0, 0, 0, 0, 0, 0, 0, 0, 0, 0, 0, 0, 0, 0, 0,\n",
      "       0, 0, 0, 0, 0, 0, 0, 0, 0, 0, 0, 2, 2, 2, 2, 2, 2, 2, 2, 2, 2, 2,\n",
      "       2, 2, 2, 2, 2, 2, 2, 2, 2, 2, 2, 2, 0, 0, 0, 0, 0, 0, 0, 0, 0, 0,\n",
      "       0, 0, 0, 0, 0, 0, 0, 0, 0, 0, 0, 0, 0, 0, 0, 0, 0, 0, 0, 0, 0, 0,\n",
      "       0, 0, 0, 0, 0, 0, 0, 0, 0, 0, 0, 0, 0, 0, 0, 0, 0, 0, 0, 0, 0, 0,\n",
      "       0, 0, 0, 0, 0, 0, 0, 0, 0, 0, 0, 0, 0, 0, 0, 0, 0, 0, 0, 0, 0, 0,\n",
      "       0, 0, 0, 0, 0, 0, 0, 0, 0, 0, 0, 0, 0, 0, 0, 0, 0, 0, 0, 0, 0, 0,\n",
      "       0, 0, 0, 0, 0, 0, 0, 0, 0, 0, 0, 0, 0, 0, 0, 0, 0, 0, 0, 0, 0, 0,\n",
      "       0, 0, 0, 0, 0, 0, 0, 0, 0, 0, 0, 0, 0, 0, 0, 0, 0, 0, 0, 0, 0, 0,\n",
      "       0, 0, 0, 0, 0, 0, 0, 0, 0, 0, 0, 0, 0, 0, 0, 0, 0, 0, 0, 0, 0, 0,\n",
      "       0, 0, 0, 0, 0, 0, 0, 0, 0, 0, 0, 0, 0, 0, 0, 0, 0, 0, 0, 0, 0, 0,\n",
      "       0, 0, 0, 0, 0, 0, 0, 0, 0, 0, 0, 0, 0, 0, 0, 0, 0, 0, 0, 0, 0, 0,\n",
      "       0, 0, 0, 0, 0, 0, 0, 0, 0, 0, 0, 0, 0, 0, 0, 0, 0, 0, 0, 0, 0, 0,\n",
      "       0, 0, 0, 0, 0, 0, 0, 0, 0, 0, 0, 0, 0, 0, 0, 0, 0, 0, 0, 0, 0, 0,\n",
      "       0, 0, 0, 0, 0, 0, 0, 0, 0, 0, 0, 0, 0, 0, 0, 0, 0, 0, 0, 0, 0, 0,\n",
      "       0, 0, 0, 0, 0, 0, 0, 0, 0, 0, 0, 0, 0, 0, 0, 0, 0, 0, 0, 0, 0, 0,\n",
      "       0, 0, 0, 0, 0, 0, 0, 0, 0, 0, 0, 0, 0, 0, 0, 0, 0, 0, 0, 0, 0, 0,\n",
      "       0, 0, 0, 0, 0, 0, 0, 0, 0, 0, 0, 0, 0, 0, 0, 0, 0, 0, 0, 0, 0, 0,\n",
      "       0, 0, 0, 0, 0, 0, 0, 0, 0, 0, 0, 0, 0, 0, 0, 0, 0, 0, 0, 0, 0, 0,\n",
      "       0, 0, 0, 0, 0, 0, 0, 0, 0, 0, 0, 0, 0, 0, 0, 0, 0, 0, 0, 0, 0, 0,\n",
      "       0, 0, 0, 0, 0, 0, 0, 0, 0, 0, 0, 0, 0, 0, 0, 0, 0, 0, 0, 0, 0, 0,\n",
      "       0, 0, 0, 0, 0, 0, 0, 0, 0, 0, 0, 0, 0, 0, 0, 0, 0, 0, 0, 0, 0, 0,\n",
      "       0, 0, 0, 0, 0, 0, 0, 0, 0, 0, 0, 0, 0, 0, 0, 0, 0, 0, 0, 0, 0, 0,\n",
      "       0, 0, 0, 0, 0, 0, 0, 0, 0, 0, 0, 0, 0, 0, 0, 0, 0, 0, 0, 0, 0, 0,\n",
      "       0, 0, 0, 0, 0, 0, 4, 4, 4, 4, 4, 4, 4, 4, 4, 4, 4, 4, 0, 0, 0, 0,\n",
      "       0, 0, 0, 0, 0, 0, 0, 0, 0, 0, 0, 0, 0, 0, 0, 0, 0, 0, 0, 0, 0, 0,\n",
      "       0, 0, 0, 0, 0, 0, 0, 0, 0, 0, 0, 0, 0, 0, 0, 0, 0, 0, 0, 0, 0, 0,\n",
      "       0, 0, 0, 0, 0, 0, 0, 0, 0, 0, 0, 0, 0, 0, 0, 0, 0, 0, 0, 0, 0, 0,\n",
      "       0, 0, 0, 0, 0, 0, 0, 0, 0, 0]), units={'player_0': {}, 'player_1': {}}, factories={'player_0': {'factory_0': Factory(team_id=0, unit_id='factory_0', strain_id=0, power=1000, cargo=UnitCargo(ice=0, ore=0, water=150, metal=150), pos=[18, 40], env_cfg=EnvConfig(max_episode_length=1000, map_size=48, verbose=1, validate_action_space=True, max_transfer_amount=10000, MIN_FACTORIES=2, MAX_FACTORIES=5, CYCLE_LENGTH=50, DAY_LENGTH=30, UNIT_ACTION_QUEUE_SIZE=20, MAX_RUBBLE=100, FACTORY_RUBBLE_AFTER_DESTRUCTION=50, INIT_WATER_METAL_PER_FACTORY=150, INIT_POWER_PER_FACTORY=1000, MIN_LICHEN_TO_SPREAD=10, LICHEN_LOST_WITHOUT_WATER=1, LICHEN_GAINED_WITH_WATER=1, MAX_LICHEN_PER_TILE=100, LICHEN_WATERING_COST_FACTOR=10, BIDDING_SYSTEM=True, FACTORY_PROCESSING_RATE_WATER=50, ICE_WATER_RATIO=2, FACTORY_PROCESSING_RATE_METAL=50, ORE_METAL_RATIO=5, FACTORY_CHARGE=50, FACTORY_WATER_CONSUMPTION=1, ROBOTS={'LIGHT': UnitConfig(METAL_COST=10, POWER_COST=50, CARGO_SPACE=100, BATTERY_CAPACITY=150, CHARGE=1, INIT_POWER=50, MOVE_COST=1, RUBBLE_MOVEMENT_COST=0, DIG_COST=5, DIG_RUBBLE_REMOVED=2, DIG_RESOURCE_GAIN=2, DIG_LICHEN_REMOVED=10, SELF_DESTRUCT_COST=5, RUBBLE_AFTER_DESTRUCTION=1, ACTION_QUEUE_POWER_COST=1), 'HEAVY': UnitConfig(METAL_COST=100, POWER_COST=500, CARGO_SPACE=1000, BATTERY_CAPACITY=3000, CHARGE=10, INIT_POWER=500, MOVE_COST=20, RUBBLE_MOVEMENT_COST=1, DIG_COST=100, DIG_RUBBLE_REMOVED=20, DIG_RESOURCE_GAIN=20, DIG_LICHEN_REMOVED=100, SELF_DESTRUCT_COST=100, RUBBLE_AFTER_DESTRUCTION=10, ACTION_QUEUE_POWER_COST=10)}, WEATHER_ID_TO_NAME=['NONE', 'MARS_QUAKE', 'COLD_SNAP', 'DUST_STORM', 'SOLAR_FLARE'], NUM_WEATHER_EVENTS_RANGE=[3, 5], WEATHER={'MARS_QUAKE': {'TIME_RANGE': [1, 5]}, 'COLD_SNAP': {'POWER_CONSUMPTION': 2, 'TIME_RANGE': [10, 30]}, 'DUST_STORM': {'POWER_GAIN': 0.5, 'TIME_RANGE': [10, 30]}, 'SOLAR_FLARE': {'POWER_GAIN': 2, 'TIME_RANGE': [10, 30]}}))}, 'player_1': {}}, teams={'player_0': <lux.team.Team object at 0x7f8ebd2a76a0>, 'player_1': <lux.team.Team object at 0x7f8ebd2a7910>})\n",
      "GameState(env_steps=2, env_cfg=EnvConfig(max_episode_length=1000, map_size=48, verbose=1, validate_action_space=True, max_transfer_amount=10000, MIN_FACTORIES=2, MAX_FACTORIES=5, CYCLE_LENGTH=50, DAY_LENGTH=30, UNIT_ACTION_QUEUE_SIZE=20, MAX_RUBBLE=100, FACTORY_RUBBLE_AFTER_DESTRUCTION=50, INIT_WATER_METAL_PER_FACTORY=150, INIT_POWER_PER_FACTORY=1000, MIN_LICHEN_TO_SPREAD=10, LICHEN_LOST_WITHOUT_WATER=1, LICHEN_GAINED_WITH_WATER=1, MAX_LICHEN_PER_TILE=100, LICHEN_WATERING_COST_FACTOR=10, BIDDING_SYSTEM=True, FACTORY_PROCESSING_RATE_WATER=50, ICE_WATER_RATIO=2, FACTORY_PROCESSING_RATE_METAL=50, ORE_METAL_RATIO=5, FACTORY_CHARGE=50, FACTORY_WATER_CONSUMPTION=1, ROBOTS={'LIGHT': UnitConfig(METAL_COST=10, POWER_COST=50, CARGO_SPACE=100, BATTERY_CAPACITY=150, CHARGE=1, INIT_POWER=50, MOVE_COST=1, RUBBLE_MOVEMENT_COST=0, DIG_COST=5, DIG_RUBBLE_REMOVED=2, DIG_RESOURCE_GAIN=2, DIG_LICHEN_REMOVED=10, SELF_DESTRUCT_COST=5, RUBBLE_AFTER_DESTRUCTION=1, ACTION_QUEUE_POWER_COST=1), 'HEAVY': UnitConfig(METAL_COST=100, POWER_COST=500, CARGO_SPACE=1000, BATTERY_CAPACITY=3000, CHARGE=10, INIT_POWER=500, MOVE_COST=20, RUBBLE_MOVEMENT_COST=1, DIG_COST=100, DIG_RUBBLE_REMOVED=20, DIG_RESOURCE_GAIN=20, DIG_LICHEN_REMOVED=100, SELF_DESTRUCT_COST=100, RUBBLE_AFTER_DESTRUCTION=10, ACTION_QUEUE_POWER_COST=10)}, WEATHER_ID_TO_NAME=['NONE', 'MARS_QUAKE', 'COLD_SNAP', 'DUST_STORM', 'SOLAR_FLARE'], NUM_WEATHER_EVENTS_RANGE=[3, 5], WEATHER={'MARS_QUAKE': {'TIME_RANGE': [1, 5]}, 'COLD_SNAP': {'POWER_CONSUMPTION': 2, 'TIME_RANGE': [10, 30]}, 'DUST_STORM': {'POWER_GAIN': 0.5, 'TIME_RANGE': [10, 30]}, 'SOLAR_FLARE': {'POWER_GAIN': 2, 'TIME_RANGE': [10, 30]}}), board=Board(rubble=array([[83, 79, 75, ..., 75, 79, 83],\n",
      "       [81, 77, 73, ..., 73, 77, 81],\n",
      "       [79, 75, 71, ..., 14, 75, 79],\n",
      "       ...,\n",
      "       [71, 71, 14, ..., 70, 71, 71],\n",
      "       [71, 70, 70, ..., 70, 70, 71],\n",
      "       [70, 70, 70, ..., 70, 70, 70]]), ice=array([[0, 0, 0, ..., 0, 0, 0],\n",
      "       [0, 0, 0, ..., 0, 0, 0],\n",
      "       [0, 0, 0, ..., 0, 0, 0],\n",
      "       ...,\n",
      "       [0, 0, 0, ..., 0, 0, 0],\n",
      "       [0, 0, 0, ..., 0, 0, 0],\n",
      "       [0, 0, 0, ..., 0, 0, 0]]), ore=array([[0, 0, 0, ..., 0, 0, 0],\n",
      "       [0, 0, 0, ..., 0, 0, 0],\n",
      "       [0, 0, 0, ..., 0, 0, 0],\n",
      "       ...,\n",
      "       [0, 0, 0, ..., 0, 0, 0],\n",
      "       [0, 0, 0, ..., 0, 0, 0],\n",
      "       [0, 0, 0, ..., 0, 0, 0]]), lichen=array([[0, 0, 0, ..., 0, 0, 0],\n",
      "       [0, 0, 0, ..., 0, 0, 0],\n",
      "       [0, 0, 0, ..., 0, 0, 0],\n",
      "       ...,\n",
      "       [0, 0, 0, ..., 0, 0, 0],\n",
      "       [0, 0, 0, ..., 0, 0, 0],\n",
      "       [0, 0, 0, ..., 0, 0, 0]]), lichen_strains=array([[-1, -1, -1, ..., -1, -1, -1],\n",
      "       [-1, -1, -1, ..., -1, -1, -1],\n",
      "       [-1, -1, -1, ..., -1, -1, -1],\n",
      "       ...,\n",
      "       [-1, -1, -1, ..., -1, -1, -1],\n",
      "       [-1, -1, -1, ..., -1, -1, -1],\n",
      "       [-1, -1, -1, ..., -1, -1, -1]]), factory_occupancy_map=array([[-1, -1, -1, ..., -1, -1, -1],\n",
      "       [-1, -1, -1, ..., -1, -1, -1],\n",
      "       [-1, -1, -1, ..., -1, -1, -1],\n",
      "       ...,\n",
      "       [-1, -1, -1, ..., -1, -1, -1],\n",
      "       [-1, -1, -1, ..., -1, -1, -1],\n",
      "       [-1, -1, -1, ..., -1, -1, -1]]), factories_per_team=2, valid_spawns_mask=array([[False, False, False, ..., False, False, False],\n",
      "       [False,  True,  True, ...,  True,  True, False],\n",
      "       [False,  True,  True, ...,  True,  True, False],\n",
      "       ...,\n",
      "       [False,  True,  True, ...,  True,  True, False],\n",
      "       [False,  True,  True, ...,  True,  True, False],\n",
      "       [False, False, False, ..., False, False, False]])), weather_schedule=array([0, 0, 0, 0, 0, 0, 0, 0, 0, 0, 0, 0, 0, 0, 0, 0, 0, 0, 0, 0, 0, 0,\n",
      "       0, 0, 0, 0, 0, 0, 0, 0, 0, 0, 0, 0, 0, 0, 0, 0, 0, 0, 0, 0, 0, 0,\n",
      "       0, 0, 0, 0, 0, 0, 0, 0, 0, 0, 0, 0, 0, 0, 0, 0, 0, 0, 0, 0, 0, 0,\n",
      "       0, 0, 0, 0, 0, 0, 0, 0, 0, 0, 0, 0, 0, 0, 0, 0, 0, 0, 0, 0, 0, 0,\n",
      "       0, 0, 0, 0, 0, 0, 0, 0, 0, 0, 0, 0, 0, 0, 0, 0, 0, 0, 0, 0, 0, 0,\n",
      "       0, 0, 0, 0, 0, 0, 0, 0, 0, 0, 0, 0, 0, 0, 0, 0, 0, 0, 0, 0, 0, 0,\n",
      "       0, 0, 0, 0, 0, 0, 0, 0, 0, 0, 0, 0, 0, 0, 0, 0, 0, 0, 0, 0, 0, 0,\n",
      "       0, 0, 0, 0, 0, 0, 0, 0, 0, 0, 0, 0, 0, 0, 0, 0, 0, 0, 0, 0, 0, 0,\n",
      "       0, 0, 0, 0, 0, 0, 0, 0, 0, 0, 0, 0, 0, 0, 0, 0, 0, 0, 0, 0, 0, 0,\n",
      "       0, 0, 0, 0, 0, 0, 0, 0, 0, 0, 0, 0, 0, 0, 0, 0, 0, 0, 0, 0, 0, 0,\n",
      "       0, 0, 0, 0, 0, 0, 0, 0, 0, 0, 0, 0, 0, 0, 0, 0, 0, 0, 0, 0, 0, 0,\n",
      "       0, 0, 0, 0, 0, 0, 0, 0, 0, 0, 0, 0, 0, 0, 0, 0, 0, 0, 0, 0, 0, 0,\n",
      "       0, 0, 0, 0, 0, 0, 0, 0, 0, 0, 0, 0, 0, 0, 0, 0, 0, 0, 0, 0, 0, 0,\n",
      "       0, 0, 0, 0, 0, 0, 0, 0, 0, 0, 0, 0, 0, 0, 0, 0, 0, 0, 0, 0, 0, 0,\n",
      "       0, 0, 0, 0, 0, 0, 0, 0, 0, 0, 0, 0, 0, 1, 1, 1, 1, 0, 0, 0, 0, 0,\n",
      "       0, 0, 0, 0, 0, 0, 0, 0, 0, 0, 0, 0, 0, 0, 0, 0, 0, 0, 0, 0, 0, 0,\n",
      "       0, 0, 0, 0, 0, 0, 0, 0, 0, 0, 0, 0, 0, 0, 0, 0, 0, 0, 0, 0, 0, 0,\n",
      "       0, 0, 0, 0, 0, 0, 0, 0, 0, 0, 0, 0, 0, 0, 0, 0, 0, 0, 0, 0, 0, 0,\n",
      "       0, 0, 0, 0, 0, 0, 0, 0, 0, 0, 0, 2, 2, 2, 2, 2, 2, 2, 2, 2, 2, 2,\n",
      "       2, 2, 2, 2, 2, 2, 2, 2, 2, 2, 2, 2, 0, 0, 0, 0, 0, 0, 0, 0, 0, 0,\n",
      "       0, 0, 0, 0, 0, 0, 0, 0, 0, 0, 0, 0, 0, 0, 0, 0, 0, 0, 0, 0, 0, 0,\n",
      "       0, 0, 0, 0, 0, 0, 0, 0, 0, 0, 0, 0, 0, 0, 0, 0, 0, 0, 0, 0, 0, 0,\n",
      "       0, 0, 0, 0, 0, 0, 0, 0, 0, 0, 0, 0, 0, 0, 0, 0, 0, 0, 0, 0, 0, 0,\n",
      "       0, 0, 0, 0, 0, 0, 0, 0, 0, 0, 0, 0, 0, 0, 0, 0, 0, 0, 0, 0, 0, 0,\n",
      "       0, 0, 0, 0, 0, 0, 0, 0, 0, 0, 0, 0, 0, 0, 0, 0, 0, 0, 0, 0, 0, 0,\n",
      "       0, 0, 0, 0, 0, 0, 0, 0, 0, 0, 0, 0, 0, 0, 0, 0, 0, 0, 0, 0, 0, 0,\n",
      "       0, 0, 0, 0, 0, 0, 0, 0, 0, 0, 0, 0, 0, 0, 0, 0, 0, 0, 0, 0, 0, 0,\n",
      "       0, 0, 0, 0, 0, 0, 0, 0, 0, 0, 0, 0, 0, 0, 0, 0, 0, 0, 0, 0, 0, 0,\n",
      "       0, 0, 0, 0, 0, 0, 0, 0, 0, 0, 0, 0, 0, 0, 0, 0, 0, 0, 0, 0, 0, 0,\n",
      "       0, 0, 0, 0, 0, 0, 0, 0, 0, 0, 0, 0, 0, 0, 0, 0, 0, 0, 0, 0, 0, 0,\n",
      "       0, 0, 0, 0, 0, 0, 0, 0, 0, 0, 0, 0, 0, 0, 0, 0, 0, 0, 0, 0, 0, 0,\n",
      "       0, 0, 0, 0, 0, 0, 0, 0, 0, 0, 0, 0, 0, 0, 0, 0, 0, 0, 0, 0, 0, 0,\n",
      "       0, 0, 0, 0, 0, 0, 0, 0, 0, 0, 0, 0, 0, 0, 0, 0, 0, 0, 0, 0, 0, 0,\n",
      "       0, 0, 0, 0, 0, 0, 0, 0, 0, 0, 0, 0, 0, 0, 0, 0, 0, 0, 0, 0, 0, 0,\n",
      "       0, 0, 0, 0, 0, 0, 0, 0, 0, 0, 0, 0, 0, 0, 0, 0, 0, 0, 0, 0, 0, 0,\n",
      "       0, 0, 0, 0, 0, 0, 0, 0, 0, 0, 0, 0, 0, 0, 0, 0, 0, 0, 0, 0, 0, 0,\n",
      "       0, 0, 0, 0, 0, 0, 0, 0, 0, 0, 0, 0, 0, 0, 0, 0, 0, 0, 0, 0, 0, 0,\n",
      "       0, 0, 0, 0, 0, 0, 0, 0, 0, 0, 0, 0, 0, 0, 0, 0, 0, 0, 0, 0, 0, 0,\n",
      "       0, 0, 0, 0, 0, 0, 0, 0, 0, 0, 0, 0, 0, 0, 0, 0, 0, 0, 0, 0, 0, 0,\n",
      "       0, 0, 0, 0, 0, 0, 0, 0, 0, 0, 0, 0, 0, 0, 0, 0, 0, 0, 0, 0, 0, 0,\n",
      "       0, 0, 0, 0, 0, 0, 0, 0, 0, 0, 0, 0, 0, 0, 0, 0, 0, 0, 0, 0, 0, 0,\n",
      "       0, 0, 0, 0, 0, 0, 4, 4, 4, 4, 4, 4, 4, 4, 4, 4, 4, 4, 0, 0, 0, 0,\n",
      "       0, 0, 0, 0, 0, 0, 0, 0, 0, 0, 0, 0, 0, 0, 0, 0, 0, 0, 0, 0, 0, 0,\n",
      "       0, 0, 0, 0, 0, 0, 0, 0, 0, 0, 0, 0, 0, 0, 0, 0, 0, 0, 0, 0, 0, 0,\n",
      "       0, 0, 0, 0, 0, 0, 0, 0, 0, 0, 0, 0, 0, 0, 0, 0, 0, 0, 0, 0, 0, 0,\n",
      "       0, 0, 0, 0, 0, 0, 0, 0, 0, 0]), units={'player_0': {}, 'player_1': {}}, factories={'player_0': {'factory_0': Factory(team_id=0, unit_id='factory_0', strain_id=0, power=1000, cargo=UnitCargo(ice=0, ore=0, water=150, metal=150), pos=[18, 40], env_cfg=EnvConfig(max_episode_length=1000, map_size=48, verbose=1, validate_action_space=True, max_transfer_amount=10000, MIN_FACTORIES=2, MAX_FACTORIES=5, CYCLE_LENGTH=50, DAY_LENGTH=30, UNIT_ACTION_QUEUE_SIZE=20, MAX_RUBBLE=100, FACTORY_RUBBLE_AFTER_DESTRUCTION=50, INIT_WATER_METAL_PER_FACTORY=150, INIT_POWER_PER_FACTORY=1000, MIN_LICHEN_TO_SPREAD=10, LICHEN_LOST_WITHOUT_WATER=1, LICHEN_GAINED_WITH_WATER=1, MAX_LICHEN_PER_TILE=100, LICHEN_WATERING_COST_FACTOR=10, BIDDING_SYSTEM=True, FACTORY_PROCESSING_RATE_WATER=50, ICE_WATER_RATIO=2, FACTORY_PROCESSING_RATE_METAL=50, ORE_METAL_RATIO=5, FACTORY_CHARGE=50, FACTORY_WATER_CONSUMPTION=1, ROBOTS={'LIGHT': UnitConfig(METAL_COST=10, POWER_COST=50, CARGO_SPACE=100, BATTERY_CAPACITY=150, CHARGE=1, INIT_POWER=50, MOVE_COST=1, RUBBLE_MOVEMENT_COST=0, DIG_COST=5, DIG_RUBBLE_REMOVED=2, DIG_RESOURCE_GAIN=2, DIG_LICHEN_REMOVED=10, SELF_DESTRUCT_COST=5, RUBBLE_AFTER_DESTRUCTION=1, ACTION_QUEUE_POWER_COST=1), 'HEAVY': UnitConfig(METAL_COST=100, POWER_COST=500, CARGO_SPACE=1000, BATTERY_CAPACITY=3000, CHARGE=10, INIT_POWER=500, MOVE_COST=20, RUBBLE_MOVEMENT_COST=1, DIG_COST=100, DIG_RUBBLE_REMOVED=20, DIG_RESOURCE_GAIN=20, DIG_LICHEN_REMOVED=100, SELF_DESTRUCT_COST=100, RUBBLE_AFTER_DESTRUCTION=10, ACTION_QUEUE_POWER_COST=10)}, WEATHER_ID_TO_NAME=['NONE', 'MARS_QUAKE', 'COLD_SNAP', 'DUST_STORM', 'SOLAR_FLARE'], NUM_WEATHER_EVENTS_RANGE=[3, 5], WEATHER={'MARS_QUAKE': {'TIME_RANGE': [1, 5]}, 'COLD_SNAP': {'POWER_CONSUMPTION': 2, 'TIME_RANGE': [10, 30]}, 'DUST_STORM': {'POWER_GAIN': 0.5, 'TIME_RANGE': [10, 30]}, 'SOLAR_FLARE': {'POWER_GAIN': 2, 'TIME_RANGE': [10, 30]}}))}, 'player_1': {}}, teams={'player_0': <lux.team.Team object at 0x7f8ebd2a79a0>, 'player_1': <lux.team.Team object at 0x7f8ebd2a7910>})\n",
      "GameState(env_steps=3, env_cfg=EnvConfig(max_episode_length=1000, map_size=48, verbose=1, validate_action_space=True, max_transfer_amount=10000, MIN_FACTORIES=2, MAX_FACTORIES=5, CYCLE_LENGTH=50, DAY_LENGTH=30, UNIT_ACTION_QUEUE_SIZE=20, MAX_RUBBLE=100, FACTORY_RUBBLE_AFTER_DESTRUCTION=50, INIT_WATER_METAL_PER_FACTORY=150, INIT_POWER_PER_FACTORY=1000, MIN_LICHEN_TO_SPREAD=10, LICHEN_LOST_WITHOUT_WATER=1, LICHEN_GAINED_WITH_WATER=1, MAX_LICHEN_PER_TILE=100, LICHEN_WATERING_COST_FACTOR=10, BIDDING_SYSTEM=True, FACTORY_PROCESSING_RATE_WATER=50, ICE_WATER_RATIO=2, FACTORY_PROCESSING_RATE_METAL=50, ORE_METAL_RATIO=5, FACTORY_CHARGE=50, FACTORY_WATER_CONSUMPTION=1, ROBOTS={'LIGHT': UnitConfig(METAL_COST=10, POWER_COST=50, CARGO_SPACE=100, BATTERY_CAPACITY=150, CHARGE=1, INIT_POWER=50, MOVE_COST=1, RUBBLE_MOVEMENT_COST=0, DIG_COST=5, DIG_RUBBLE_REMOVED=2, DIG_RESOURCE_GAIN=2, DIG_LICHEN_REMOVED=10, SELF_DESTRUCT_COST=5, RUBBLE_AFTER_DESTRUCTION=1, ACTION_QUEUE_POWER_COST=1), 'HEAVY': UnitConfig(METAL_COST=100, POWER_COST=500, CARGO_SPACE=1000, BATTERY_CAPACITY=3000, CHARGE=10, INIT_POWER=500, MOVE_COST=20, RUBBLE_MOVEMENT_COST=1, DIG_COST=100, DIG_RUBBLE_REMOVED=20, DIG_RESOURCE_GAIN=20, DIG_LICHEN_REMOVED=100, SELF_DESTRUCT_COST=100, RUBBLE_AFTER_DESTRUCTION=10, ACTION_QUEUE_POWER_COST=10)}, WEATHER_ID_TO_NAME=['NONE', 'MARS_QUAKE', 'COLD_SNAP', 'DUST_STORM', 'SOLAR_FLARE'], NUM_WEATHER_EVENTS_RANGE=[3, 5], WEATHER={'MARS_QUAKE': {'TIME_RANGE': [1, 5]}, 'COLD_SNAP': {'POWER_CONSUMPTION': 2, 'TIME_RANGE': [10, 30]}, 'DUST_STORM': {'POWER_GAIN': 0.5, 'TIME_RANGE': [10, 30]}, 'SOLAR_FLARE': {'POWER_GAIN': 2, 'TIME_RANGE': [10, 30]}}), board=Board(rubble=array([[83, 79, 75, ..., 75, 79, 83],\n",
      "       [81, 77, 73, ..., 73, 77, 81],\n",
      "       [79, 75, 71, ..., 14, 75, 79],\n",
      "       ...,\n",
      "       [71, 71, 14, ..., 70, 71, 71],\n",
      "       [71, 70, 70, ..., 70, 70, 71],\n",
      "       [70, 70, 70, ..., 70, 70, 70]]), ice=array([[0, 0, 0, ..., 0, 0, 0],\n",
      "       [0, 0, 0, ..., 0, 0, 0],\n",
      "       [0, 0, 0, ..., 0, 0, 0],\n",
      "       ...,\n",
      "       [0, 0, 0, ..., 0, 0, 0],\n",
      "       [0, 0, 0, ..., 0, 0, 0],\n",
      "       [0, 0, 0, ..., 0, 0, 0]]), ore=array([[0, 0, 0, ..., 0, 0, 0],\n",
      "       [0, 0, 0, ..., 0, 0, 0],\n",
      "       [0, 0, 0, ..., 0, 0, 0],\n",
      "       ...,\n",
      "       [0, 0, 0, ..., 0, 0, 0],\n",
      "       [0, 0, 0, ..., 0, 0, 0],\n",
      "       [0, 0, 0, ..., 0, 0, 0]]), lichen=array([[0, 0, 0, ..., 0, 0, 0],\n",
      "       [0, 0, 0, ..., 0, 0, 0],\n",
      "       [0, 0, 0, ..., 0, 0, 0],\n",
      "       ...,\n",
      "       [0, 0, 0, ..., 0, 0, 0],\n",
      "       [0, 0, 0, ..., 0, 0, 0],\n",
      "       [0, 0, 0, ..., 0, 0, 0]]), lichen_strains=array([[-1, -1, -1, ..., -1, -1, -1],\n",
      "       [-1, -1, -1, ..., -1, -1, -1],\n",
      "       [-1, -1, -1, ..., -1, -1, -1],\n",
      "       ...,\n",
      "       [-1, -1, -1, ..., -1, -1, -1],\n",
      "       [-1, -1, -1, ..., -1, -1, -1],\n",
      "       [-1, -1, -1, ..., -1, -1, -1]]), factory_occupancy_map=array([[-1, -1, -1, ..., -1, -1, -1],\n",
      "       [-1, -1, -1, ..., -1, -1, -1],\n",
      "       [-1, -1, -1, ..., -1, -1, -1],\n",
      "       ...,\n",
      "       [-1, -1, -1, ..., -1, -1, -1],\n",
      "       [-1, -1, -1, ..., -1, -1, -1],\n",
      "       [-1, -1, -1, ..., -1, -1, -1]]), factories_per_team=2, valid_spawns_mask=array([[False, False, False, ..., False, False, False],\n",
      "       [False,  True,  True, ...,  True,  True, False],\n",
      "       [False,  True,  True, ...,  True,  True, False],\n",
      "       ...,\n",
      "       [False,  True,  True, ...,  True,  True, False],\n",
      "       [False,  True,  True, ...,  True,  True, False],\n",
      "       [False, False, False, ..., False, False, False]])), weather_schedule=array([0, 0, 0, 0, 0, 0, 0, 0, 0, 0, 0, 0, 0, 0, 0, 0, 0, 0, 0, 0, 0, 0,\n",
      "       0, 0, 0, 0, 0, 0, 0, 0, 0, 0, 0, 0, 0, 0, 0, 0, 0, 0, 0, 0, 0, 0,\n",
      "       0, 0, 0, 0, 0, 0, 0, 0, 0, 0, 0, 0, 0, 0, 0, 0, 0, 0, 0, 0, 0, 0,\n",
      "       0, 0, 0, 0, 0, 0, 0, 0, 0, 0, 0, 0, 0, 0, 0, 0, 0, 0, 0, 0, 0, 0,\n",
      "       0, 0, 0, 0, 0, 0, 0, 0, 0, 0, 0, 0, 0, 0, 0, 0, 0, 0, 0, 0, 0, 0,\n",
      "       0, 0, 0, 0, 0, 0, 0, 0, 0, 0, 0, 0, 0, 0, 0, 0, 0, 0, 0, 0, 0, 0,\n",
      "       0, 0, 0, 0, 0, 0, 0, 0, 0, 0, 0, 0, 0, 0, 0, 0, 0, 0, 0, 0, 0, 0,\n",
      "       0, 0, 0, 0, 0, 0, 0, 0, 0, 0, 0, 0, 0, 0, 0, 0, 0, 0, 0, 0, 0, 0,\n",
      "       0, 0, 0, 0, 0, 0, 0, 0, 0, 0, 0, 0, 0, 0, 0, 0, 0, 0, 0, 0, 0, 0,\n",
      "       0, 0, 0, 0, 0, 0, 0, 0, 0, 0, 0, 0, 0, 0, 0, 0, 0, 0, 0, 0, 0, 0,\n",
      "       0, 0, 0, 0, 0, 0, 0, 0, 0, 0, 0, 0, 0, 0, 0, 0, 0, 0, 0, 0, 0, 0,\n",
      "       0, 0, 0, 0, 0, 0, 0, 0, 0, 0, 0, 0, 0, 0, 0, 0, 0, 0, 0, 0, 0, 0,\n",
      "       0, 0, 0, 0, 0, 0, 0, 0, 0, 0, 0, 0, 0, 0, 0, 0, 0, 0, 0, 0, 0, 0,\n",
      "       0, 0, 0, 0, 0, 0, 0, 0, 0, 0, 0, 0, 0, 0, 0, 0, 0, 0, 0, 0, 0, 0,\n",
      "       0, 0, 0, 0, 0, 0, 0, 0, 0, 0, 0, 0, 0, 1, 1, 1, 1, 0, 0, 0, 0, 0,\n",
      "       0, 0, 0, 0, 0, 0, 0, 0, 0, 0, 0, 0, 0, 0, 0, 0, 0, 0, 0, 0, 0, 0,\n",
      "       0, 0, 0, 0, 0, 0, 0, 0, 0, 0, 0, 0, 0, 0, 0, 0, 0, 0, 0, 0, 0, 0,\n",
      "       0, 0, 0, 0, 0, 0, 0, 0, 0, 0, 0, 0, 0, 0, 0, 0, 0, 0, 0, 0, 0, 0,\n",
      "       0, 0, 0, 0, 0, 0, 0, 0, 0, 0, 0, 2, 2, 2, 2, 2, 2, 2, 2, 2, 2, 2,\n",
      "       2, 2, 2, 2, 2, 2, 2, 2, 2, 2, 2, 2, 0, 0, 0, 0, 0, 0, 0, 0, 0, 0,\n",
      "       0, 0, 0, 0, 0, 0, 0, 0, 0, 0, 0, 0, 0, 0, 0, 0, 0, 0, 0, 0, 0, 0,\n",
      "       0, 0, 0, 0, 0, 0, 0, 0, 0, 0, 0, 0, 0, 0, 0, 0, 0, 0, 0, 0, 0, 0,\n",
      "       0, 0, 0, 0, 0, 0, 0, 0, 0, 0, 0, 0, 0, 0, 0, 0, 0, 0, 0, 0, 0, 0,\n",
      "       0, 0, 0, 0, 0, 0, 0, 0, 0, 0, 0, 0, 0, 0, 0, 0, 0, 0, 0, 0, 0, 0,\n",
      "       0, 0, 0, 0, 0, 0, 0, 0, 0, 0, 0, 0, 0, 0, 0, 0, 0, 0, 0, 0, 0, 0,\n",
      "       0, 0, 0, 0, 0, 0, 0, 0, 0, 0, 0, 0, 0, 0, 0, 0, 0, 0, 0, 0, 0, 0,\n",
      "       0, 0, 0, 0, 0, 0, 0, 0, 0, 0, 0, 0, 0, 0, 0, 0, 0, 0, 0, 0, 0, 0,\n",
      "       0, 0, 0, 0, 0, 0, 0, 0, 0, 0, 0, 0, 0, 0, 0, 0, 0, 0, 0, 0, 0, 0,\n",
      "       0, 0, 0, 0, 0, 0, 0, 0, 0, 0, 0, 0, 0, 0, 0, 0, 0, 0, 0, 0, 0, 0,\n",
      "       0, 0, 0, 0, 0, 0, 0, 0, 0, 0, 0, 0, 0, 0, 0, 0, 0, 0, 0, 0, 0, 0,\n",
      "       0, 0, 0, 0, 0, 0, 0, 0, 0, 0, 0, 0, 0, 0, 0, 0, 0, 0, 0, 0, 0, 0,\n",
      "       0, 0, 0, 0, 0, 0, 0, 0, 0, 0, 0, 0, 0, 0, 0, 0, 0, 0, 0, 0, 0, 0,\n",
      "       0, 0, 0, 0, 0, 0, 0, 0, 0, 0, 0, 0, 0, 0, 0, 0, 0, 0, 0, 0, 0, 0,\n",
      "       0, 0, 0, 0, 0, 0, 0, 0, 0, 0, 0, 0, 0, 0, 0, 0, 0, 0, 0, 0, 0, 0,\n",
      "       0, 0, 0, 0, 0, 0, 0, 0, 0, 0, 0, 0, 0, 0, 0, 0, 0, 0, 0, 0, 0, 0,\n",
      "       0, 0, 0, 0, 0, 0, 0, 0, 0, 0, 0, 0, 0, 0, 0, 0, 0, 0, 0, 0, 0, 0,\n",
      "       0, 0, 0, 0, 0, 0, 0, 0, 0, 0, 0, 0, 0, 0, 0, 0, 0, 0, 0, 0, 0, 0,\n",
      "       0, 0, 0, 0, 0, 0, 0, 0, 0, 0, 0, 0, 0, 0, 0, 0, 0, 0, 0, 0, 0, 0,\n",
      "       0, 0, 0, 0, 0, 0, 0, 0, 0, 0, 0, 0, 0, 0, 0, 0, 0, 0, 0, 0, 0, 0,\n",
      "       0, 0, 0, 0, 0, 0, 0, 0, 0, 0, 0, 0, 0, 0, 0, 0, 0, 0, 0, 0, 0, 0,\n",
      "       0, 0, 0, 0, 0, 0, 0, 0, 0, 0, 0, 0, 0, 0, 0, 0, 0, 0, 0, 0, 0, 0,\n",
      "       0, 0, 0, 0, 0, 0, 4, 4, 4, 4, 4, 4, 4, 4, 4, 4, 4, 4, 0, 0, 0, 0,\n",
      "       0, 0, 0, 0, 0, 0, 0, 0, 0, 0, 0, 0, 0, 0, 0, 0, 0, 0, 0, 0, 0, 0,\n",
      "       0, 0, 0, 0, 0, 0, 0, 0, 0, 0, 0, 0, 0, 0, 0, 0, 0, 0, 0, 0, 0, 0,\n",
      "       0, 0, 0, 0, 0, 0, 0, 0, 0, 0, 0, 0, 0, 0, 0, 0, 0, 0, 0, 0, 0, 0,\n",
      "       0, 0, 0, 0, 0, 0, 0, 0, 0, 0]), units={'player_0': {}, 'player_1': {}}, factories={'player_0': {'factory_0': Factory(team_id=0, unit_id='factory_0', strain_id=0, power=1000, cargo=UnitCargo(ice=0, ore=0, water=150, metal=150), pos=[18, 40], env_cfg=EnvConfig(max_episode_length=1000, map_size=48, verbose=1, validate_action_space=True, max_transfer_amount=10000, MIN_FACTORIES=2, MAX_FACTORIES=5, CYCLE_LENGTH=50, DAY_LENGTH=30, UNIT_ACTION_QUEUE_SIZE=20, MAX_RUBBLE=100, FACTORY_RUBBLE_AFTER_DESTRUCTION=50, INIT_WATER_METAL_PER_FACTORY=150, INIT_POWER_PER_FACTORY=1000, MIN_LICHEN_TO_SPREAD=10, LICHEN_LOST_WITHOUT_WATER=1, LICHEN_GAINED_WITH_WATER=1, MAX_LICHEN_PER_TILE=100, LICHEN_WATERING_COST_FACTOR=10, BIDDING_SYSTEM=True, FACTORY_PROCESSING_RATE_WATER=50, ICE_WATER_RATIO=2, FACTORY_PROCESSING_RATE_METAL=50, ORE_METAL_RATIO=5, FACTORY_CHARGE=50, FACTORY_WATER_CONSUMPTION=1, ROBOTS={'LIGHT': UnitConfig(METAL_COST=10, POWER_COST=50, CARGO_SPACE=100, BATTERY_CAPACITY=150, CHARGE=1, INIT_POWER=50, MOVE_COST=1, RUBBLE_MOVEMENT_COST=0, DIG_COST=5, DIG_RUBBLE_REMOVED=2, DIG_RESOURCE_GAIN=2, DIG_LICHEN_REMOVED=10, SELF_DESTRUCT_COST=5, RUBBLE_AFTER_DESTRUCTION=1, ACTION_QUEUE_POWER_COST=1), 'HEAVY': UnitConfig(METAL_COST=100, POWER_COST=500, CARGO_SPACE=1000, BATTERY_CAPACITY=3000, CHARGE=10, INIT_POWER=500, MOVE_COST=20, RUBBLE_MOVEMENT_COST=1, DIG_COST=100, DIG_RUBBLE_REMOVED=20, DIG_RESOURCE_GAIN=20, DIG_LICHEN_REMOVED=100, SELF_DESTRUCT_COST=100, RUBBLE_AFTER_DESTRUCTION=10, ACTION_QUEUE_POWER_COST=10)}, WEATHER_ID_TO_NAME=['NONE', 'MARS_QUAKE', 'COLD_SNAP', 'DUST_STORM', 'SOLAR_FLARE'], NUM_WEATHER_EVENTS_RANGE=[3, 5], WEATHER={'MARS_QUAKE': {'TIME_RANGE': [1, 5]}, 'COLD_SNAP': {'POWER_CONSUMPTION': 2, 'TIME_RANGE': [10, 30]}, 'DUST_STORM': {'POWER_GAIN': 0.5, 'TIME_RANGE': [10, 30]}, 'SOLAR_FLARE': {'POWER_GAIN': 2, 'TIME_RANGE': [10, 30]}}))}, 'player_1': {'factory_1': Factory(team_id=1, unit_id='factory_1', strain_id=1, power=1000, cargo=UnitCargo(ice=0, ore=0, water=150, metal=150), pos=[16, 5], env_cfg=EnvConfig(max_episode_length=1000, map_size=48, verbose=1, validate_action_space=True, max_transfer_amount=10000, MIN_FACTORIES=2, MAX_FACTORIES=5, CYCLE_LENGTH=50, DAY_LENGTH=30, UNIT_ACTION_QUEUE_SIZE=20, MAX_RUBBLE=100, FACTORY_RUBBLE_AFTER_DESTRUCTION=50, INIT_WATER_METAL_PER_FACTORY=150, INIT_POWER_PER_FACTORY=1000, MIN_LICHEN_TO_SPREAD=10, LICHEN_LOST_WITHOUT_WATER=1, LICHEN_GAINED_WITH_WATER=1, MAX_LICHEN_PER_TILE=100, LICHEN_WATERING_COST_FACTOR=10, BIDDING_SYSTEM=True, FACTORY_PROCESSING_RATE_WATER=50, ICE_WATER_RATIO=2, FACTORY_PROCESSING_RATE_METAL=50, ORE_METAL_RATIO=5, FACTORY_CHARGE=50, FACTORY_WATER_CONSUMPTION=1, ROBOTS={'LIGHT': UnitConfig(METAL_COST=10, POWER_COST=50, CARGO_SPACE=100, BATTERY_CAPACITY=150, CHARGE=1, INIT_POWER=50, MOVE_COST=1, RUBBLE_MOVEMENT_COST=0, DIG_COST=5, DIG_RUBBLE_REMOVED=2, DIG_RESOURCE_GAIN=2, DIG_LICHEN_REMOVED=10, SELF_DESTRUCT_COST=5, RUBBLE_AFTER_DESTRUCTION=1, ACTION_QUEUE_POWER_COST=1), 'HEAVY': UnitConfig(METAL_COST=100, POWER_COST=500, CARGO_SPACE=1000, BATTERY_CAPACITY=3000, CHARGE=10, INIT_POWER=500, MOVE_COST=20, RUBBLE_MOVEMENT_COST=1, DIG_COST=100, DIG_RUBBLE_REMOVED=20, DIG_RESOURCE_GAIN=20, DIG_LICHEN_REMOVED=100, SELF_DESTRUCT_COST=100, RUBBLE_AFTER_DESTRUCTION=10, ACTION_QUEUE_POWER_COST=10)}, WEATHER_ID_TO_NAME=['NONE', 'MARS_QUAKE', 'COLD_SNAP', 'DUST_STORM', 'SOLAR_FLARE'], NUM_WEATHER_EVENTS_RANGE=[3, 5], WEATHER={'MARS_QUAKE': {'TIME_RANGE': [1, 5]}, 'COLD_SNAP': {'POWER_CONSUMPTION': 2, 'TIME_RANGE': [10, 30]}, 'DUST_STORM': {'POWER_GAIN': 0.5, 'TIME_RANGE': [10, 30]}, 'SOLAR_FLARE': {'POWER_GAIN': 2, 'TIME_RANGE': [10, 30]}}))}}, teams={'player_0': <lux.team.Team object at 0x7f8f247545e0>, 'player_1': <lux.team.Team object at 0x7f8ebcf88af0>})\n",
      "GameState(env_steps=3, env_cfg=EnvConfig(max_episode_length=1000, map_size=48, verbose=1, validate_action_space=True, max_transfer_amount=10000, MIN_FACTORIES=2, MAX_FACTORIES=5, CYCLE_LENGTH=50, DAY_LENGTH=30, UNIT_ACTION_QUEUE_SIZE=20, MAX_RUBBLE=100, FACTORY_RUBBLE_AFTER_DESTRUCTION=50, INIT_WATER_METAL_PER_FACTORY=150, INIT_POWER_PER_FACTORY=1000, MIN_LICHEN_TO_SPREAD=10, LICHEN_LOST_WITHOUT_WATER=1, LICHEN_GAINED_WITH_WATER=1, MAX_LICHEN_PER_TILE=100, LICHEN_WATERING_COST_FACTOR=10, BIDDING_SYSTEM=True, FACTORY_PROCESSING_RATE_WATER=50, ICE_WATER_RATIO=2, FACTORY_PROCESSING_RATE_METAL=50, ORE_METAL_RATIO=5, FACTORY_CHARGE=50, FACTORY_WATER_CONSUMPTION=1, ROBOTS={'LIGHT': UnitConfig(METAL_COST=10, POWER_COST=50, CARGO_SPACE=100, BATTERY_CAPACITY=150, CHARGE=1, INIT_POWER=50, MOVE_COST=1, RUBBLE_MOVEMENT_COST=0, DIG_COST=5, DIG_RUBBLE_REMOVED=2, DIG_RESOURCE_GAIN=2, DIG_LICHEN_REMOVED=10, SELF_DESTRUCT_COST=5, RUBBLE_AFTER_DESTRUCTION=1, ACTION_QUEUE_POWER_COST=1), 'HEAVY': UnitConfig(METAL_COST=100, POWER_COST=500, CARGO_SPACE=1000, BATTERY_CAPACITY=3000, CHARGE=10, INIT_POWER=500, MOVE_COST=20, RUBBLE_MOVEMENT_COST=1, DIG_COST=100, DIG_RUBBLE_REMOVED=20, DIG_RESOURCE_GAIN=20, DIG_LICHEN_REMOVED=100, SELF_DESTRUCT_COST=100, RUBBLE_AFTER_DESTRUCTION=10, ACTION_QUEUE_POWER_COST=10)}, WEATHER_ID_TO_NAME=['NONE', 'MARS_QUAKE', 'COLD_SNAP', 'DUST_STORM', 'SOLAR_FLARE'], NUM_WEATHER_EVENTS_RANGE=[3, 5], WEATHER={'MARS_QUAKE': {'TIME_RANGE': [1, 5]}, 'COLD_SNAP': {'POWER_CONSUMPTION': 2, 'TIME_RANGE': [10, 30]}, 'DUST_STORM': {'POWER_GAIN': 0.5, 'TIME_RANGE': [10, 30]}, 'SOLAR_FLARE': {'POWER_GAIN': 2, 'TIME_RANGE': [10, 30]}}), board=Board(rubble=array([[83, 79, 75, ..., 75, 79, 83],\n",
      "       [81, 77, 73, ..., 73, 77, 81],\n",
      "       [79, 75, 71, ..., 14, 75, 79],\n",
      "       ...,\n",
      "       [71, 71, 14, ..., 70, 71, 71],\n",
      "       [71, 70, 70, ..., 70, 70, 71],\n",
      "       [70, 70, 70, ..., 70, 70, 70]]), ice=array([[0, 0, 0, ..., 0, 0, 0],\n",
      "       [0, 0, 0, ..., 0, 0, 0],\n",
      "       [0, 0, 0, ..., 0, 0, 0],\n",
      "       ...,\n",
      "       [0, 0, 0, ..., 0, 0, 0],\n",
      "       [0, 0, 0, ..., 0, 0, 0],\n",
      "       [0, 0, 0, ..., 0, 0, 0]]), ore=array([[0, 0, 0, ..., 0, 0, 0],\n",
      "       [0, 0, 0, ..., 0, 0, 0],\n",
      "       [0, 0, 0, ..., 0, 0, 0],\n",
      "       ...,\n",
      "       [0, 0, 0, ..., 0, 0, 0],\n",
      "       [0, 0, 0, ..., 0, 0, 0],\n",
      "       [0, 0, 0, ..., 0, 0, 0]]), lichen=array([[0, 0, 0, ..., 0, 0, 0],\n",
      "       [0, 0, 0, ..., 0, 0, 0],\n",
      "       [0, 0, 0, ..., 0, 0, 0],\n",
      "       ...,\n",
      "       [0, 0, 0, ..., 0, 0, 0],\n",
      "       [0, 0, 0, ..., 0, 0, 0],\n",
      "       [0, 0, 0, ..., 0, 0, 0]]), lichen_strains=array([[-1, -1, -1, ..., -1, -1, -1],\n",
      "       [-1, -1, -1, ..., -1, -1, -1],\n",
      "       [-1, -1, -1, ..., -1, -1, -1],\n",
      "       ...,\n",
      "       [-1, -1, -1, ..., -1, -1, -1],\n",
      "       [-1, -1, -1, ..., -1, -1, -1],\n",
      "       [-1, -1, -1, ..., -1, -1, -1]]), factory_occupancy_map=array([[-1, -1, -1, ..., -1, -1, -1],\n",
      "       [-1, -1, -1, ..., -1, -1, -1],\n",
      "       [-1, -1, -1, ..., -1, -1, -1],\n",
      "       ...,\n",
      "       [-1, -1, -1, ..., -1, -1, -1],\n",
      "       [-1, -1, -1, ..., -1, -1, -1],\n",
      "       [-1, -1, -1, ..., -1, -1, -1]]), factories_per_team=2, valid_spawns_mask=array([[False, False, False, ..., False, False, False],\n",
      "       [False,  True,  True, ...,  True,  True, False],\n",
      "       [False,  True,  True, ...,  True,  True, False],\n",
      "       ...,\n",
      "       [False,  True,  True, ...,  True,  True, False],\n",
      "       [False,  True,  True, ...,  True,  True, False],\n",
      "       [False, False, False, ..., False, False, False]])), weather_schedule=array([0, 0, 0, 0, 0, 0, 0, 0, 0, 0, 0, 0, 0, 0, 0, 0, 0, 0, 0, 0, 0, 0,\n",
      "       0, 0, 0, 0, 0, 0, 0, 0, 0, 0, 0, 0, 0, 0, 0, 0, 0, 0, 0, 0, 0, 0,\n",
      "       0, 0, 0, 0, 0, 0, 0, 0, 0, 0, 0, 0, 0, 0, 0, 0, 0, 0, 0, 0, 0, 0,\n",
      "       0, 0, 0, 0, 0, 0, 0, 0, 0, 0, 0, 0, 0, 0, 0, 0, 0, 0, 0, 0, 0, 0,\n",
      "       0, 0, 0, 0, 0, 0, 0, 0, 0, 0, 0, 0, 0, 0, 0, 0, 0, 0, 0, 0, 0, 0,\n",
      "       0, 0, 0, 0, 0, 0, 0, 0, 0, 0, 0, 0, 0, 0, 0, 0, 0, 0, 0, 0, 0, 0,\n",
      "       0, 0, 0, 0, 0, 0, 0, 0, 0, 0, 0, 0, 0, 0, 0, 0, 0, 0, 0, 0, 0, 0,\n",
      "       0, 0, 0, 0, 0, 0, 0, 0, 0, 0, 0, 0, 0, 0, 0, 0, 0, 0, 0, 0, 0, 0,\n",
      "       0, 0, 0, 0, 0, 0, 0, 0, 0, 0, 0, 0, 0, 0, 0, 0, 0, 0, 0, 0, 0, 0,\n",
      "       0, 0, 0, 0, 0, 0, 0, 0, 0, 0, 0, 0, 0, 0, 0, 0, 0, 0, 0, 0, 0, 0,\n",
      "       0, 0, 0, 0, 0, 0, 0, 0, 0, 0, 0, 0, 0, 0, 0, 0, 0, 0, 0, 0, 0, 0,\n",
      "       0, 0, 0, 0, 0, 0, 0, 0, 0, 0, 0, 0, 0, 0, 0, 0, 0, 0, 0, 0, 0, 0,\n",
      "       0, 0, 0, 0, 0, 0, 0, 0, 0, 0, 0, 0, 0, 0, 0, 0, 0, 0, 0, 0, 0, 0,\n",
      "       0, 0, 0, 0, 0, 0, 0, 0, 0, 0, 0, 0, 0, 0, 0, 0, 0, 0, 0, 0, 0, 0,\n",
      "       0, 0, 0, 0, 0, 0, 0, 0, 0, 0, 0, 0, 0, 1, 1, 1, 1, 0, 0, 0, 0, 0,\n",
      "       0, 0, 0, 0, 0, 0, 0, 0, 0, 0, 0, 0, 0, 0, 0, 0, 0, 0, 0, 0, 0, 0,\n",
      "       0, 0, 0, 0, 0, 0, 0, 0, 0, 0, 0, 0, 0, 0, 0, 0, 0, 0, 0, 0, 0, 0,\n",
      "       0, 0, 0, 0, 0, 0, 0, 0, 0, 0, 0, 0, 0, 0, 0, 0, 0, 0, 0, 0, 0, 0,\n",
      "       0, 0, 0, 0, 0, 0, 0, 0, 0, 0, 0, 2, 2, 2, 2, 2, 2, 2, 2, 2, 2, 2,\n",
      "       2, 2, 2, 2, 2, 2, 2, 2, 2, 2, 2, 2, 0, 0, 0, 0, 0, 0, 0, 0, 0, 0,\n",
      "       0, 0, 0, 0, 0, 0, 0, 0, 0, 0, 0, 0, 0, 0, 0, 0, 0, 0, 0, 0, 0, 0,\n",
      "       0, 0, 0, 0, 0, 0, 0, 0, 0, 0, 0, 0, 0, 0, 0, 0, 0, 0, 0, 0, 0, 0,\n",
      "       0, 0, 0, 0, 0, 0, 0, 0, 0, 0, 0, 0, 0, 0, 0, 0, 0, 0, 0, 0, 0, 0,\n",
      "       0, 0, 0, 0, 0, 0, 0, 0, 0, 0, 0, 0, 0, 0, 0, 0, 0, 0, 0, 0, 0, 0,\n",
      "       0, 0, 0, 0, 0, 0, 0, 0, 0, 0, 0, 0, 0, 0, 0, 0, 0, 0, 0, 0, 0, 0,\n",
      "       0, 0, 0, 0, 0, 0, 0, 0, 0, 0, 0, 0, 0, 0, 0, 0, 0, 0, 0, 0, 0, 0,\n",
      "       0, 0, 0, 0, 0, 0, 0, 0, 0, 0, 0, 0, 0, 0, 0, 0, 0, 0, 0, 0, 0, 0,\n",
      "       0, 0, 0, 0, 0, 0, 0, 0, 0, 0, 0, 0, 0, 0, 0, 0, 0, 0, 0, 0, 0, 0,\n",
      "       0, 0, 0, 0, 0, 0, 0, 0, 0, 0, 0, 0, 0, 0, 0, 0, 0, 0, 0, 0, 0, 0,\n",
      "       0, 0, 0, 0, 0, 0, 0, 0, 0, 0, 0, 0, 0, 0, 0, 0, 0, 0, 0, 0, 0, 0,\n",
      "       0, 0, 0, 0, 0, 0, 0, 0, 0, 0, 0, 0, 0, 0, 0, 0, 0, 0, 0, 0, 0, 0,\n",
      "       0, 0, 0, 0, 0, 0, 0, 0, 0, 0, 0, 0, 0, 0, 0, 0, 0, 0, 0, 0, 0, 0,\n",
      "       0, 0, 0, 0, 0, 0, 0, 0, 0, 0, 0, 0, 0, 0, 0, 0, 0, 0, 0, 0, 0, 0,\n",
      "       0, 0, 0, 0, 0, 0, 0, 0, 0, 0, 0, 0, 0, 0, 0, 0, 0, 0, 0, 0, 0, 0,\n",
      "       0, 0, 0, 0, 0, 0, 0, 0, 0, 0, 0, 0, 0, 0, 0, 0, 0, 0, 0, 0, 0, 0,\n",
      "       0, 0, 0, 0, 0, 0, 0, 0, 0, 0, 0, 0, 0, 0, 0, 0, 0, 0, 0, 0, 0, 0,\n",
      "       0, 0, 0, 0, 0, 0, 0, 0, 0, 0, 0, 0, 0, 0, 0, 0, 0, 0, 0, 0, 0, 0,\n",
      "       0, 0, 0, 0, 0, 0, 0, 0, 0, 0, 0, 0, 0, 0, 0, 0, 0, 0, 0, 0, 0, 0,\n",
      "       0, 0, 0, 0, 0, 0, 0, 0, 0, 0, 0, 0, 0, 0, 0, 0, 0, 0, 0, 0, 0, 0,\n",
      "       0, 0, 0, 0, 0, 0, 0, 0, 0, 0, 0, 0, 0, 0, 0, 0, 0, 0, 0, 0, 0, 0,\n",
      "       0, 0, 0, 0, 0, 0, 0, 0, 0, 0, 0, 0, 0, 0, 0, 0, 0, 0, 0, 0, 0, 0,\n",
      "       0, 0, 0, 0, 0, 0, 4, 4, 4, 4, 4, 4, 4, 4, 4, 4, 4, 4, 0, 0, 0, 0,\n",
      "       0, 0, 0, 0, 0, 0, 0, 0, 0, 0, 0, 0, 0, 0, 0, 0, 0, 0, 0, 0, 0, 0,\n",
      "       0, 0, 0, 0, 0, 0, 0, 0, 0, 0, 0, 0, 0, 0, 0, 0, 0, 0, 0, 0, 0, 0,\n",
      "       0, 0, 0, 0, 0, 0, 0, 0, 0, 0, 0, 0, 0, 0, 0, 0, 0, 0, 0, 0, 0, 0,\n",
      "       0, 0, 0, 0, 0, 0, 0, 0, 0, 0]), units={'player_0': {}, 'player_1': {}}, factories={'player_0': {'factory_0': Factory(team_id=0, unit_id='factory_0', strain_id=0, power=1000, cargo=UnitCargo(ice=0, ore=0, water=150, metal=150), pos=[18, 40], env_cfg=EnvConfig(max_episode_length=1000, map_size=48, verbose=1, validate_action_space=True, max_transfer_amount=10000, MIN_FACTORIES=2, MAX_FACTORIES=5, CYCLE_LENGTH=50, DAY_LENGTH=30, UNIT_ACTION_QUEUE_SIZE=20, MAX_RUBBLE=100, FACTORY_RUBBLE_AFTER_DESTRUCTION=50, INIT_WATER_METAL_PER_FACTORY=150, INIT_POWER_PER_FACTORY=1000, MIN_LICHEN_TO_SPREAD=10, LICHEN_LOST_WITHOUT_WATER=1, LICHEN_GAINED_WITH_WATER=1, MAX_LICHEN_PER_TILE=100, LICHEN_WATERING_COST_FACTOR=10, BIDDING_SYSTEM=True, FACTORY_PROCESSING_RATE_WATER=50, ICE_WATER_RATIO=2, FACTORY_PROCESSING_RATE_METAL=50, ORE_METAL_RATIO=5, FACTORY_CHARGE=50, FACTORY_WATER_CONSUMPTION=1, ROBOTS={'LIGHT': UnitConfig(METAL_COST=10, POWER_COST=50, CARGO_SPACE=100, BATTERY_CAPACITY=150, CHARGE=1, INIT_POWER=50, MOVE_COST=1, RUBBLE_MOVEMENT_COST=0, DIG_COST=5, DIG_RUBBLE_REMOVED=2, DIG_RESOURCE_GAIN=2, DIG_LICHEN_REMOVED=10, SELF_DESTRUCT_COST=5, RUBBLE_AFTER_DESTRUCTION=1, ACTION_QUEUE_POWER_COST=1), 'HEAVY': UnitConfig(METAL_COST=100, POWER_COST=500, CARGO_SPACE=1000, BATTERY_CAPACITY=3000, CHARGE=10, INIT_POWER=500, MOVE_COST=20, RUBBLE_MOVEMENT_COST=1, DIG_COST=100, DIG_RUBBLE_REMOVED=20, DIG_RESOURCE_GAIN=20, DIG_LICHEN_REMOVED=100, SELF_DESTRUCT_COST=100, RUBBLE_AFTER_DESTRUCTION=10, ACTION_QUEUE_POWER_COST=10)}, WEATHER_ID_TO_NAME=['NONE', 'MARS_QUAKE', 'COLD_SNAP', 'DUST_STORM', 'SOLAR_FLARE'], NUM_WEATHER_EVENTS_RANGE=[3, 5], WEATHER={'MARS_QUAKE': {'TIME_RANGE': [1, 5]}, 'COLD_SNAP': {'POWER_CONSUMPTION': 2, 'TIME_RANGE': [10, 30]}, 'DUST_STORM': {'POWER_GAIN': 0.5, 'TIME_RANGE': [10, 30]}, 'SOLAR_FLARE': {'POWER_GAIN': 2, 'TIME_RANGE': [10, 30]}}))}, 'player_1': {'factory_1': Factory(team_id=1, unit_id='factory_1', strain_id=1, power=1000, cargo=UnitCargo(ice=0, ore=0, water=150, metal=150), pos=[16, 5], env_cfg=EnvConfig(max_episode_length=1000, map_size=48, verbose=1, validate_action_space=True, max_transfer_amount=10000, MIN_FACTORIES=2, MAX_FACTORIES=5, CYCLE_LENGTH=50, DAY_LENGTH=30, UNIT_ACTION_QUEUE_SIZE=20, MAX_RUBBLE=100, FACTORY_RUBBLE_AFTER_DESTRUCTION=50, INIT_WATER_METAL_PER_FACTORY=150, INIT_POWER_PER_FACTORY=1000, MIN_LICHEN_TO_SPREAD=10, LICHEN_LOST_WITHOUT_WATER=1, LICHEN_GAINED_WITH_WATER=1, MAX_LICHEN_PER_TILE=100, LICHEN_WATERING_COST_FACTOR=10, BIDDING_SYSTEM=True, FACTORY_PROCESSING_RATE_WATER=50, ICE_WATER_RATIO=2, FACTORY_PROCESSING_RATE_METAL=50, ORE_METAL_RATIO=5, FACTORY_CHARGE=50, FACTORY_WATER_CONSUMPTION=1, ROBOTS={'LIGHT': UnitConfig(METAL_COST=10, POWER_COST=50, CARGO_SPACE=100, BATTERY_CAPACITY=150, CHARGE=1, INIT_POWER=50, MOVE_COST=1, RUBBLE_MOVEMENT_COST=0, DIG_COST=5, DIG_RUBBLE_REMOVED=2, DIG_RESOURCE_GAIN=2, DIG_LICHEN_REMOVED=10, SELF_DESTRUCT_COST=5, RUBBLE_AFTER_DESTRUCTION=1, ACTION_QUEUE_POWER_COST=1), 'HEAVY': UnitConfig(METAL_COST=100, POWER_COST=500, CARGO_SPACE=1000, BATTERY_CAPACITY=3000, CHARGE=10, INIT_POWER=500, MOVE_COST=20, RUBBLE_MOVEMENT_COST=1, DIG_COST=100, DIG_RUBBLE_REMOVED=20, DIG_RESOURCE_GAIN=20, DIG_LICHEN_REMOVED=100, SELF_DESTRUCT_COST=100, RUBBLE_AFTER_DESTRUCTION=10, ACTION_QUEUE_POWER_COST=10)}, WEATHER_ID_TO_NAME=['NONE', 'MARS_QUAKE', 'COLD_SNAP', 'DUST_STORM', 'SOLAR_FLARE'], NUM_WEATHER_EVENTS_RANGE=[3, 5], WEATHER={'MARS_QUAKE': {'TIME_RANGE': [1, 5]}, 'COLD_SNAP': {'POWER_CONSUMPTION': 2, 'TIME_RANGE': [10, 30]}, 'DUST_STORM': {'POWER_GAIN': 0.5, 'TIME_RANGE': [10, 30]}, 'SOLAR_FLARE': {'POWER_GAIN': 2, 'TIME_RANGE': [10, 30]}}))}}, teams={'player_0': <lux.team.Team object at 0x7f8ebd2a7490>, 'player_1': <lux.team.Team object at 0x7f8ebcf886d0>})\n",
      "GameState(env_steps=4, env_cfg=EnvConfig(max_episode_length=1000, map_size=48, verbose=1, validate_action_space=True, max_transfer_amount=10000, MIN_FACTORIES=2, MAX_FACTORIES=5, CYCLE_LENGTH=50, DAY_LENGTH=30, UNIT_ACTION_QUEUE_SIZE=20, MAX_RUBBLE=100, FACTORY_RUBBLE_AFTER_DESTRUCTION=50, INIT_WATER_METAL_PER_FACTORY=150, INIT_POWER_PER_FACTORY=1000, MIN_LICHEN_TO_SPREAD=10, LICHEN_LOST_WITHOUT_WATER=1, LICHEN_GAINED_WITH_WATER=1, MAX_LICHEN_PER_TILE=100, LICHEN_WATERING_COST_FACTOR=10, BIDDING_SYSTEM=True, FACTORY_PROCESSING_RATE_WATER=50, ICE_WATER_RATIO=2, FACTORY_PROCESSING_RATE_METAL=50, ORE_METAL_RATIO=5, FACTORY_CHARGE=50, FACTORY_WATER_CONSUMPTION=1, ROBOTS={'LIGHT': UnitConfig(METAL_COST=10, POWER_COST=50, CARGO_SPACE=100, BATTERY_CAPACITY=150, CHARGE=1, INIT_POWER=50, MOVE_COST=1, RUBBLE_MOVEMENT_COST=0, DIG_COST=5, DIG_RUBBLE_REMOVED=2, DIG_RESOURCE_GAIN=2, DIG_LICHEN_REMOVED=10, SELF_DESTRUCT_COST=5, RUBBLE_AFTER_DESTRUCTION=1, ACTION_QUEUE_POWER_COST=1), 'HEAVY': UnitConfig(METAL_COST=100, POWER_COST=500, CARGO_SPACE=1000, BATTERY_CAPACITY=3000, CHARGE=10, INIT_POWER=500, MOVE_COST=20, RUBBLE_MOVEMENT_COST=1, DIG_COST=100, DIG_RUBBLE_REMOVED=20, DIG_RESOURCE_GAIN=20, DIG_LICHEN_REMOVED=100, SELF_DESTRUCT_COST=100, RUBBLE_AFTER_DESTRUCTION=10, ACTION_QUEUE_POWER_COST=10)}, WEATHER_ID_TO_NAME=['NONE', 'MARS_QUAKE', 'COLD_SNAP', 'DUST_STORM', 'SOLAR_FLARE'], NUM_WEATHER_EVENTS_RANGE=[3, 5], WEATHER={'MARS_QUAKE': {'TIME_RANGE': [1, 5]}, 'COLD_SNAP': {'POWER_CONSUMPTION': 2, 'TIME_RANGE': [10, 30]}, 'DUST_STORM': {'POWER_GAIN': 0.5, 'TIME_RANGE': [10, 30]}, 'SOLAR_FLARE': {'POWER_GAIN': 2, 'TIME_RANGE': [10, 30]}}), board=Board(rubble=array([[83, 79, 75, ..., 75, 79, 83],\n",
      "       [81, 77, 73, ..., 73, 77, 81],\n",
      "       [79, 75, 71, ..., 14, 75, 79],\n",
      "       ...,\n",
      "       [71, 71, 14, ..., 70, 71, 71],\n",
      "       [71, 70, 70, ..., 70, 70, 71],\n",
      "       [70, 70, 70, ..., 70, 70, 70]]), ice=array([[0, 0, 0, ..., 0, 0, 0],\n",
      "       [0, 0, 0, ..., 0, 0, 0],\n",
      "       [0, 0, 0, ..., 0, 0, 0],\n",
      "       ...,\n",
      "       [0, 0, 0, ..., 0, 0, 0],\n",
      "       [0, 0, 0, ..., 0, 0, 0],\n",
      "       [0, 0, 0, ..., 0, 0, 0]]), ore=array([[0, 0, 0, ..., 0, 0, 0],\n",
      "       [0, 0, 0, ..., 0, 0, 0],\n",
      "       [0, 0, 0, ..., 0, 0, 0],\n",
      "       ...,\n",
      "       [0, 0, 0, ..., 0, 0, 0],\n",
      "       [0, 0, 0, ..., 0, 0, 0],\n",
      "       [0, 0, 0, ..., 0, 0, 0]]), lichen=array([[0, 0, 0, ..., 0, 0, 0],\n",
      "       [0, 0, 0, ..., 0, 0, 0],\n",
      "       [0, 0, 0, ..., 0, 0, 0],\n",
      "       ...,\n",
      "       [0, 0, 0, ..., 0, 0, 0],\n",
      "       [0, 0, 0, ..., 0, 0, 0],\n",
      "       [0, 0, 0, ..., 0, 0, 0]]), lichen_strains=array([[-1, -1, -1, ..., -1, -1, -1],\n",
      "       [-1, -1, -1, ..., -1, -1, -1],\n",
      "       [-1, -1, -1, ..., -1, -1, -1],\n",
      "       ...,\n",
      "       [-1, -1, -1, ..., -1, -1, -1],\n",
      "       [-1, -1, -1, ..., -1, -1, -1],\n",
      "       [-1, -1, -1, ..., -1, -1, -1]]), factory_occupancy_map=array([[-1, -1, -1, ..., -1, -1, -1],\n",
      "       [-1, -1, -1, ..., -1, -1, -1],\n",
      "       [-1, -1, -1, ..., -1, -1, -1],\n",
      "       ...,\n",
      "       [-1, -1, -1, ..., -1, -1, -1],\n",
      "       [-1, -1, -1, ..., -1, -1, -1],\n",
      "       [-1, -1, -1, ..., -1, -1, -1]]), factories_per_team=2, valid_spawns_mask=array([[False, False, False, ..., False, False, False],\n",
      "       [False,  True,  True, ...,  True,  True, False],\n",
      "       [False,  True,  True, ...,  True,  True, False],\n",
      "       ...,\n",
      "       [False,  True,  True, ...,  True,  True, False],\n",
      "       [False,  True,  True, ...,  True,  True, False],\n",
      "       [False, False, False, ..., False, False, False]])), weather_schedule=array([0, 0, 0, 0, 0, 0, 0, 0, 0, 0, 0, 0, 0, 0, 0, 0, 0, 0, 0, 0, 0, 0,\n",
      "       0, 0, 0, 0, 0, 0, 0, 0, 0, 0, 0, 0, 0, 0, 0, 0, 0, 0, 0, 0, 0, 0,\n",
      "       0, 0, 0, 0, 0, 0, 0, 0, 0, 0, 0, 0, 0, 0, 0, 0, 0, 0, 0, 0, 0, 0,\n",
      "       0, 0, 0, 0, 0, 0, 0, 0, 0, 0, 0, 0, 0, 0, 0, 0, 0, 0, 0, 0, 0, 0,\n",
      "       0, 0, 0, 0, 0, 0, 0, 0, 0, 0, 0, 0, 0, 0, 0, 0, 0, 0, 0, 0, 0, 0,\n",
      "       0, 0, 0, 0, 0, 0, 0, 0, 0, 0, 0, 0, 0, 0, 0, 0, 0, 0, 0, 0, 0, 0,\n",
      "       0, 0, 0, 0, 0, 0, 0, 0, 0, 0, 0, 0, 0, 0, 0, 0, 0, 0, 0, 0, 0, 0,\n",
      "       0, 0, 0, 0, 0, 0, 0, 0, 0, 0, 0, 0, 0, 0, 0, 0, 0, 0, 0, 0, 0, 0,\n",
      "       0, 0, 0, 0, 0, 0, 0, 0, 0, 0, 0, 0, 0, 0, 0, 0, 0, 0, 0, 0, 0, 0,\n",
      "       0, 0, 0, 0, 0, 0, 0, 0, 0, 0, 0, 0, 0, 0, 0, 0, 0, 0, 0, 0, 0, 0,\n",
      "       0, 0, 0, 0, 0, 0, 0, 0, 0, 0, 0, 0, 0, 0, 0, 0, 0, 0, 0, 0, 0, 0,\n",
      "       0, 0, 0, 0, 0, 0, 0, 0, 0, 0, 0, 0, 0, 0, 0, 0, 0, 0, 0, 0, 0, 0,\n",
      "       0, 0, 0, 0, 0, 0, 0, 0, 0, 0, 0, 0, 0, 0, 0, 0, 0, 0, 0, 0, 0, 0,\n",
      "       0, 0, 0, 0, 0, 0, 0, 0, 0, 0, 0, 0, 0, 0, 0, 0, 0, 0, 0, 0, 0, 0,\n",
      "       0, 0, 0, 0, 0, 0, 0, 0, 0, 0, 0, 0, 0, 1, 1, 1, 1, 0, 0, 0, 0, 0,\n",
      "       0, 0, 0, 0, 0, 0, 0, 0, 0, 0, 0, 0, 0, 0, 0, 0, 0, 0, 0, 0, 0, 0,\n",
      "       0, 0, 0, 0, 0, 0, 0, 0, 0, 0, 0, 0, 0, 0, 0, 0, 0, 0, 0, 0, 0, 0,\n",
      "       0, 0, 0, 0, 0, 0, 0, 0, 0, 0, 0, 0, 0, 0, 0, 0, 0, 0, 0, 0, 0, 0,\n",
      "       0, 0, 0, 0, 0, 0, 0, 0, 0, 0, 0, 2, 2, 2, 2, 2, 2, 2, 2, 2, 2, 2,\n",
      "       2, 2, 2, 2, 2, 2, 2, 2, 2, 2, 2, 2, 0, 0, 0, 0, 0, 0, 0, 0, 0, 0,\n",
      "       0, 0, 0, 0, 0, 0, 0, 0, 0, 0, 0, 0, 0, 0, 0, 0, 0, 0, 0, 0, 0, 0,\n",
      "       0, 0, 0, 0, 0, 0, 0, 0, 0, 0, 0, 0, 0, 0, 0, 0, 0, 0, 0, 0, 0, 0,\n",
      "       0, 0, 0, 0, 0, 0, 0, 0, 0, 0, 0, 0, 0, 0, 0, 0, 0, 0, 0, 0, 0, 0,\n",
      "       0, 0, 0, 0, 0, 0, 0, 0, 0, 0, 0, 0, 0, 0, 0, 0, 0, 0, 0, 0, 0, 0,\n",
      "       0, 0, 0, 0, 0, 0, 0, 0, 0, 0, 0, 0, 0, 0, 0, 0, 0, 0, 0, 0, 0, 0,\n",
      "       0, 0, 0, 0, 0, 0, 0, 0, 0, 0, 0, 0, 0, 0, 0, 0, 0, 0, 0, 0, 0, 0,\n",
      "       0, 0, 0, 0, 0, 0, 0, 0, 0, 0, 0, 0, 0, 0, 0, 0, 0, 0, 0, 0, 0, 0,\n",
      "       0, 0, 0, 0, 0, 0, 0, 0, 0, 0, 0, 0, 0, 0, 0, 0, 0, 0, 0, 0, 0, 0,\n",
      "       0, 0, 0, 0, 0, 0, 0, 0, 0, 0, 0, 0, 0, 0, 0, 0, 0, 0, 0, 0, 0, 0,\n",
      "       0, 0, 0, 0, 0, 0, 0, 0, 0, 0, 0, 0, 0, 0, 0, 0, 0, 0, 0, 0, 0, 0,\n",
      "       0, 0, 0, 0, 0, 0, 0, 0, 0, 0, 0, 0, 0, 0, 0, 0, 0, 0, 0, 0, 0, 0,\n",
      "       0, 0, 0, 0, 0, 0, 0, 0, 0, 0, 0, 0, 0, 0, 0, 0, 0, 0, 0, 0, 0, 0,\n",
      "       0, 0, 0, 0, 0, 0, 0, 0, 0, 0, 0, 0, 0, 0, 0, 0, 0, 0, 0, 0, 0, 0,\n",
      "       0, 0, 0, 0, 0, 0, 0, 0, 0, 0, 0, 0, 0, 0, 0, 0, 0, 0, 0, 0, 0, 0,\n",
      "       0, 0, 0, 0, 0, 0, 0, 0, 0, 0, 0, 0, 0, 0, 0, 0, 0, 0, 0, 0, 0, 0,\n",
      "       0, 0, 0, 0, 0, 0, 0, 0, 0, 0, 0, 0, 0, 0, 0, 0, 0, 0, 0, 0, 0, 0,\n",
      "       0, 0, 0, 0, 0, 0, 0, 0, 0, 0, 0, 0, 0, 0, 0, 0, 0, 0, 0, 0, 0, 0,\n",
      "       0, 0, 0, 0, 0, 0, 0, 0, 0, 0, 0, 0, 0, 0, 0, 0, 0, 0, 0, 0, 0, 0,\n",
      "       0, 0, 0, 0, 0, 0, 0, 0, 0, 0, 0, 0, 0, 0, 0, 0, 0, 0, 0, 0, 0, 0,\n",
      "       0, 0, 0, 0, 0, 0, 0, 0, 0, 0, 0, 0, 0, 0, 0, 0, 0, 0, 0, 0, 0, 0,\n",
      "       0, 0, 0, 0, 0, 0, 0, 0, 0, 0, 0, 0, 0, 0, 0, 0, 0, 0, 0, 0, 0, 0,\n",
      "       0, 0, 0, 0, 0, 0, 4, 4, 4, 4, 4, 4, 4, 4, 4, 4, 4, 4, 0, 0, 0, 0,\n",
      "       0, 0, 0, 0, 0, 0, 0, 0, 0, 0, 0, 0, 0, 0, 0, 0, 0, 0, 0, 0, 0, 0,\n",
      "       0, 0, 0, 0, 0, 0, 0, 0, 0, 0, 0, 0, 0, 0, 0, 0, 0, 0, 0, 0, 0, 0,\n",
      "       0, 0, 0, 0, 0, 0, 0, 0, 0, 0, 0, 0, 0, 0, 0, 0, 0, 0, 0, 0, 0, 0,\n",
      "       0, 0, 0, 0, 0, 0, 0, 0, 0, 0]), units={'player_0': {}, 'player_1': {}}, factories={'player_0': {'factory_0': Factory(team_id=0, unit_id='factory_0', strain_id=0, power=1000, cargo=UnitCargo(ice=0, ore=0, water=150, metal=150), pos=[18, 40], env_cfg=EnvConfig(max_episode_length=1000, map_size=48, verbose=1, validate_action_space=True, max_transfer_amount=10000, MIN_FACTORIES=2, MAX_FACTORIES=5, CYCLE_LENGTH=50, DAY_LENGTH=30, UNIT_ACTION_QUEUE_SIZE=20, MAX_RUBBLE=100, FACTORY_RUBBLE_AFTER_DESTRUCTION=50, INIT_WATER_METAL_PER_FACTORY=150, INIT_POWER_PER_FACTORY=1000, MIN_LICHEN_TO_SPREAD=10, LICHEN_LOST_WITHOUT_WATER=1, LICHEN_GAINED_WITH_WATER=1, MAX_LICHEN_PER_TILE=100, LICHEN_WATERING_COST_FACTOR=10, BIDDING_SYSTEM=True, FACTORY_PROCESSING_RATE_WATER=50, ICE_WATER_RATIO=2, FACTORY_PROCESSING_RATE_METAL=50, ORE_METAL_RATIO=5, FACTORY_CHARGE=50, FACTORY_WATER_CONSUMPTION=1, ROBOTS={'LIGHT': UnitConfig(METAL_COST=10, POWER_COST=50, CARGO_SPACE=100, BATTERY_CAPACITY=150, CHARGE=1, INIT_POWER=50, MOVE_COST=1, RUBBLE_MOVEMENT_COST=0, DIG_COST=5, DIG_RUBBLE_REMOVED=2, DIG_RESOURCE_GAIN=2, DIG_LICHEN_REMOVED=10, SELF_DESTRUCT_COST=5, RUBBLE_AFTER_DESTRUCTION=1, ACTION_QUEUE_POWER_COST=1), 'HEAVY': UnitConfig(METAL_COST=100, POWER_COST=500, CARGO_SPACE=1000, BATTERY_CAPACITY=3000, CHARGE=10, INIT_POWER=500, MOVE_COST=20, RUBBLE_MOVEMENT_COST=1, DIG_COST=100, DIG_RUBBLE_REMOVED=20, DIG_RESOURCE_GAIN=20, DIG_LICHEN_REMOVED=100, SELF_DESTRUCT_COST=100, RUBBLE_AFTER_DESTRUCTION=10, ACTION_QUEUE_POWER_COST=10)}, WEATHER_ID_TO_NAME=['NONE', 'MARS_QUAKE', 'COLD_SNAP', 'DUST_STORM', 'SOLAR_FLARE'], NUM_WEATHER_EVENTS_RANGE=[3, 5], WEATHER={'MARS_QUAKE': {'TIME_RANGE': [1, 5]}, 'COLD_SNAP': {'POWER_CONSUMPTION': 2, 'TIME_RANGE': [10, 30]}, 'DUST_STORM': {'POWER_GAIN': 0.5, 'TIME_RANGE': [10, 30]}, 'SOLAR_FLARE': {'POWER_GAIN': 2, 'TIME_RANGE': [10, 30]}})), 'factory_2': Factory(team_id=0, unit_id='factory_2', strain_id=2, power=1000, cargo=UnitCargo(ice=0, ore=0, water=150, metal=150), pos=[41, 29], env_cfg=EnvConfig(max_episode_length=1000, map_size=48, verbose=1, validate_action_space=True, max_transfer_amount=10000, MIN_FACTORIES=2, MAX_FACTORIES=5, CYCLE_LENGTH=50, DAY_LENGTH=30, UNIT_ACTION_QUEUE_SIZE=20, MAX_RUBBLE=100, FACTORY_RUBBLE_AFTER_DESTRUCTION=50, INIT_WATER_METAL_PER_FACTORY=150, INIT_POWER_PER_FACTORY=1000, MIN_LICHEN_TO_SPREAD=10, LICHEN_LOST_WITHOUT_WATER=1, LICHEN_GAINED_WITH_WATER=1, MAX_LICHEN_PER_TILE=100, LICHEN_WATERING_COST_FACTOR=10, BIDDING_SYSTEM=True, FACTORY_PROCESSING_RATE_WATER=50, ICE_WATER_RATIO=2, FACTORY_PROCESSING_RATE_METAL=50, ORE_METAL_RATIO=5, FACTORY_CHARGE=50, FACTORY_WATER_CONSUMPTION=1, ROBOTS={'LIGHT': UnitConfig(METAL_COST=10, POWER_COST=50, CARGO_SPACE=100, BATTERY_CAPACITY=150, CHARGE=1, INIT_POWER=50, MOVE_COST=1, RUBBLE_MOVEMENT_COST=0, DIG_COST=5, DIG_RUBBLE_REMOVED=2, DIG_RESOURCE_GAIN=2, DIG_LICHEN_REMOVED=10, SELF_DESTRUCT_COST=5, RUBBLE_AFTER_DESTRUCTION=1, ACTION_QUEUE_POWER_COST=1), 'HEAVY': UnitConfig(METAL_COST=100, POWER_COST=500, CARGO_SPACE=1000, BATTERY_CAPACITY=3000, CHARGE=10, INIT_POWER=500, MOVE_COST=20, RUBBLE_MOVEMENT_COST=1, DIG_COST=100, DIG_RUBBLE_REMOVED=20, DIG_RESOURCE_GAIN=20, DIG_LICHEN_REMOVED=100, SELF_DESTRUCT_COST=100, RUBBLE_AFTER_DESTRUCTION=10, ACTION_QUEUE_POWER_COST=10)}, WEATHER_ID_TO_NAME=['NONE', 'MARS_QUAKE', 'COLD_SNAP', 'DUST_STORM', 'SOLAR_FLARE'], NUM_WEATHER_EVENTS_RANGE=[3, 5], WEATHER={'MARS_QUAKE': {'TIME_RANGE': [1, 5]}, 'COLD_SNAP': {'POWER_CONSUMPTION': 2, 'TIME_RANGE': [10, 30]}, 'DUST_STORM': {'POWER_GAIN': 0.5, 'TIME_RANGE': [10, 30]}, 'SOLAR_FLARE': {'POWER_GAIN': 2, 'TIME_RANGE': [10, 30]}}))}, 'player_1': {'factory_1': Factory(team_id=1, unit_id='factory_1', strain_id=1, power=1000, cargo=UnitCargo(ice=0, ore=0, water=150, metal=150), pos=[16, 5], env_cfg=EnvConfig(max_episode_length=1000, map_size=48, verbose=1, validate_action_space=True, max_transfer_amount=10000, MIN_FACTORIES=2, MAX_FACTORIES=5, CYCLE_LENGTH=50, DAY_LENGTH=30, UNIT_ACTION_QUEUE_SIZE=20, MAX_RUBBLE=100, FACTORY_RUBBLE_AFTER_DESTRUCTION=50, INIT_WATER_METAL_PER_FACTORY=150, INIT_POWER_PER_FACTORY=1000, MIN_LICHEN_TO_SPREAD=10, LICHEN_LOST_WITHOUT_WATER=1, LICHEN_GAINED_WITH_WATER=1, MAX_LICHEN_PER_TILE=100, LICHEN_WATERING_COST_FACTOR=10, BIDDING_SYSTEM=True, FACTORY_PROCESSING_RATE_WATER=50, ICE_WATER_RATIO=2, FACTORY_PROCESSING_RATE_METAL=50, ORE_METAL_RATIO=5, FACTORY_CHARGE=50, FACTORY_WATER_CONSUMPTION=1, ROBOTS={'LIGHT': UnitConfig(METAL_COST=10, POWER_COST=50, CARGO_SPACE=100, BATTERY_CAPACITY=150, CHARGE=1, INIT_POWER=50, MOVE_COST=1, RUBBLE_MOVEMENT_COST=0, DIG_COST=5, DIG_RUBBLE_REMOVED=2, DIG_RESOURCE_GAIN=2, DIG_LICHEN_REMOVED=10, SELF_DESTRUCT_COST=5, RUBBLE_AFTER_DESTRUCTION=1, ACTION_QUEUE_POWER_COST=1), 'HEAVY': UnitConfig(METAL_COST=100, POWER_COST=500, CARGO_SPACE=1000, BATTERY_CAPACITY=3000, CHARGE=10, INIT_POWER=500, MOVE_COST=20, RUBBLE_MOVEMENT_COST=1, DIG_COST=100, DIG_RUBBLE_REMOVED=20, DIG_RESOURCE_GAIN=20, DIG_LICHEN_REMOVED=100, SELF_DESTRUCT_COST=100, RUBBLE_AFTER_DESTRUCTION=10, ACTION_QUEUE_POWER_COST=10)}, WEATHER_ID_TO_NAME=['NONE', 'MARS_QUAKE', 'COLD_SNAP', 'DUST_STORM', 'SOLAR_FLARE'], NUM_WEATHER_EVENTS_RANGE=[3, 5], WEATHER={'MARS_QUAKE': {'TIME_RANGE': [1, 5]}, 'COLD_SNAP': {'POWER_CONSUMPTION': 2, 'TIME_RANGE': [10, 30]}, 'DUST_STORM': {'POWER_GAIN': 0.5, 'TIME_RANGE': [10, 30]}, 'SOLAR_FLARE': {'POWER_GAIN': 2, 'TIME_RANGE': [10, 30]}}))}}, teams={'player_0': <lux.team.Team object at 0x7f8ebcf88130>, 'player_1': <lux.team.Team object at 0x7f8ebcf88670>})\n",
      "GameState(env_steps=4, env_cfg=EnvConfig(max_episode_length=1000, map_size=48, verbose=1, validate_action_space=True, max_transfer_amount=10000, MIN_FACTORIES=2, MAX_FACTORIES=5, CYCLE_LENGTH=50, DAY_LENGTH=30, UNIT_ACTION_QUEUE_SIZE=20, MAX_RUBBLE=100, FACTORY_RUBBLE_AFTER_DESTRUCTION=50, INIT_WATER_METAL_PER_FACTORY=150, INIT_POWER_PER_FACTORY=1000, MIN_LICHEN_TO_SPREAD=10, LICHEN_LOST_WITHOUT_WATER=1, LICHEN_GAINED_WITH_WATER=1, MAX_LICHEN_PER_TILE=100, LICHEN_WATERING_COST_FACTOR=10, BIDDING_SYSTEM=True, FACTORY_PROCESSING_RATE_WATER=50, ICE_WATER_RATIO=2, FACTORY_PROCESSING_RATE_METAL=50, ORE_METAL_RATIO=5, FACTORY_CHARGE=50, FACTORY_WATER_CONSUMPTION=1, ROBOTS={'LIGHT': UnitConfig(METAL_COST=10, POWER_COST=50, CARGO_SPACE=100, BATTERY_CAPACITY=150, CHARGE=1, INIT_POWER=50, MOVE_COST=1, RUBBLE_MOVEMENT_COST=0, DIG_COST=5, DIG_RUBBLE_REMOVED=2, DIG_RESOURCE_GAIN=2, DIG_LICHEN_REMOVED=10, SELF_DESTRUCT_COST=5, RUBBLE_AFTER_DESTRUCTION=1, ACTION_QUEUE_POWER_COST=1), 'HEAVY': UnitConfig(METAL_COST=100, POWER_COST=500, CARGO_SPACE=1000, BATTERY_CAPACITY=3000, CHARGE=10, INIT_POWER=500, MOVE_COST=20, RUBBLE_MOVEMENT_COST=1, DIG_COST=100, DIG_RUBBLE_REMOVED=20, DIG_RESOURCE_GAIN=20, DIG_LICHEN_REMOVED=100, SELF_DESTRUCT_COST=100, RUBBLE_AFTER_DESTRUCTION=10, ACTION_QUEUE_POWER_COST=10)}, WEATHER_ID_TO_NAME=['NONE', 'MARS_QUAKE', 'COLD_SNAP', 'DUST_STORM', 'SOLAR_FLARE'], NUM_WEATHER_EVENTS_RANGE=[3, 5], WEATHER={'MARS_QUAKE': {'TIME_RANGE': [1, 5]}, 'COLD_SNAP': {'POWER_CONSUMPTION': 2, 'TIME_RANGE': [10, 30]}, 'DUST_STORM': {'POWER_GAIN': 0.5, 'TIME_RANGE': [10, 30]}, 'SOLAR_FLARE': {'POWER_GAIN': 2, 'TIME_RANGE': [10, 30]}}), board=Board(rubble=array([[83, 79, 75, ..., 75, 79, 83],\n",
      "       [81, 77, 73, ..., 73, 77, 81],\n",
      "       [79, 75, 71, ..., 14, 75, 79],\n",
      "       ...,\n",
      "       [71, 71, 14, ..., 70, 71, 71],\n",
      "       [71, 70, 70, ..., 70, 70, 71],\n",
      "       [70, 70, 70, ..., 70, 70, 70]]), ice=array([[0, 0, 0, ..., 0, 0, 0],\n",
      "       [0, 0, 0, ..., 0, 0, 0],\n",
      "       [0, 0, 0, ..., 0, 0, 0],\n",
      "       ...,\n",
      "       [0, 0, 0, ..., 0, 0, 0],\n",
      "       [0, 0, 0, ..., 0, 0, 0],\n",
      "       [0, 0, 0, ..., 0, 0, 0]]), ore=array([[0, 0, 0, ..., 0, 0, 0],\n",
      "       [0, 0, 0, ..., 0, 0, 0],\n",
      "       [0, 0, 0, ..., 0, 0, 0],\n",
      "       ...,\n",
      "       [0, 0, 0, ..., 0, 0, 0],\n",
      "       [0, 0, 0, ..., 0, 0, 0],\n",
      "       [0, 0, 0, ..., 0, 0, 0]]), lichen=array([[0, 0, 0, ..., 0, 0, 0],\n",
      "       [0, 0, 0, ..., 0, 0, 0],\n",
      "       [0, 0, 0, ..., 0, 0, 0],\n",
      "       ...,\n",
      "       [0, 0, 0, ..., 0, 0, 0],\n",
      "       [0, 0, 0, ..., 0, 0, 0],\n",
      "       [0, 0, 0, ..., 0, 0, 0]]), lichen_strains=array([[-1, -1, -1, ..., -1, -1, -1],\n",
      "       [-1, -1, -1, ..., -1, -1, -1],\n",
      "       [-1, -1, -1, ..., -1, -1, -1],\n",
      "       ...,\n",
      "       [-1, -1, -1, ..., -1, -1, -1],\n",
      "       [-1, -1, -1, ..., -1, -1, -1],\n",
      "       [-1, -1, -1, ..., -1, -1, -1]]), factory_occupancy_map=array([[-1, -1, -1, ..., -1, -1, -1],\n",
      "       [-1, -1, -1, ..., -1, -1, -1],\n",
      "       [-1, -1, -1, ..., -1, -1, -1],\n",
      "       ...,\n",
      "       [-1, -1, -1, ..., -1, -1, -1],\n",
      "       [-1, -1, -1, ..., -1, -1, -1],\n",
      "       [-1, -1, -1, ..., -1, -1, -1]]), factories_per_team=2, valid_spawns_mask=array([[False, False, False, ..., False, False, False],\n",
      "       [False,  True,  True, ...,  True,  True, False],\n",
      "       [False,  True,  True, ...,  True,  True, False],\n",
      "       ...,\n",
      "       [False,  True,  True, ...,  True,  True, False],\n",
      "       [False,  True,  True, ...,  True,  True, False],\n",
      "       [False, False, False, ..., False, False, False]])), weather_schedule=array([0, 0, 0, 0, 0, 0, 0, 0, 0, 0, 0, 0, 0, 0, 0, 0, 0, 0, 0, 0, 0, 0,\n",
      "       0, 0, 0, 0, 0, 0, 0, 0, 0, 0, 0, 0, 0, 0, 0, 0, 0, 0, 0, 0, 0, 0,\n",
      "       0, 0, 0, 0, 0, 0, 0, 0, 0, 0, 0, 0, 0, 0, 0, 0, 0, 0, 0, 0, 0, 0,\n",
      "       0, 0, 0, 0, 0, 0, 0, 0, 0, 0, 0, 0, 0, 0, 0, 0, 0, 0, 0, 0, 0, 0,\n",
      "       0, 0, 0, 0, 0, 0, 0, 0, 0, 0, 0, 0, 0, 0, 0, 0, 0, 0, 0, 0, 0, 0,\n",
      "       0, 0, 0, 0, 0, 0, 0, 0, 0, 0, 0, 0, 0, 0, 0, 0, 0, 0, 0, 0, 0, 0,\n",
      "       0, 0, 0, 0, 0, 0, 0, 0, 0, 0, 0, 0, 0, 0, 0, 0, 0, 0, 0, 0, 0, 0,\n",
      "       0, 0, 0, 0, 0, 0, 0, 0, 0, 0, 0, 0, 0, 0, 0, 0, 0, 0, 0, 0, 0, 0,\n",
      "       0, 0, 0, 0, 0, 0, 0, 0, 0, 0, 0, 0, 0, 0, 0, 0, 0, 0, 0, 0, 0, 0,\n",
      "       0, 0, 0, 0, 0, 0, 0, 0, 0, 0, 0, 0, 0, 0, 0, 0, 0, 0, 0, 0, 0, 0,\n",
      "       0, 0, 0, 0, 0, 0, 0, 0, 0, 0, 0, 0, 0, 0, 0, 0, 0, 0, 0, 0, 0, 0,\n",
      "       0, 0, 0, 0, 0, 0, 0, 0, 0, 0, 0, 0, 0, 0, 0, 0, 0, 0, 0, 0, 0, 0,\n",
      "       0, 0, 0, 0, 0, 0, 0, 0, 0, 0, 0, 0, 0, 0, 0, 0, 0, 0, 0, 0, 0, 0,\n",
      "       0, 0, 0, 0, 0, 0, 0, 0, 0, 0, 0, 0, 0, 0, 0, 0, 0, 0, 0, 0, 0, 0,\n",
      "       0, 0, 0, 0, 0, 0, 0, 0, 0, 0, 0, 0, 0, 1, 1, 1, 1, 0, 0, 0, 0, 0,\n",
      "       0, 0, 0, 0, 0, 0, 0, 0, 0, 0, 0, 0, 0, 0, 0, 0, 0, 0, 0, 0, 0, 0,\n",
      "       0, 0, 0, 0, 0, 0, 0, 0, 0, 0, 0, 0, 0, 0, 0, 0, 0, 0, 0, 0, 0, 0,\n",
      "       0, 0, 0, 0, 0, 0, 0, 0, 0, 0, 0, 0, 0, 0, 0, 0, 0, 0, 0, 0, 0, 0,\n",
      "       0, 0, 0, 0, 0, 0, 0, 0, 0, 0, 0, 2, 2, 2, 2, 2, 2, 2, 2, 2, 2, 2,\n",
      "       2, 2, 2, 2, 2, 2, 2, 2, 2, 2, 2, 2, 0, 0, 0, 0, 0, 0, 0, 0, 0, 0,\n",
      "       0, 0, 0, 0, 0, 0, 0, 0, 0, 0, 0, 0, 0, 0, 0, 0, 0, 0, 0, 0, 0, 0,\n",
      "       0, 0, 0, 0, 0, 0, 0, 0, 0, 0, 0, 0, 0, 0, 0, 0, 0, 0, 0, 0, 0, 0,\n",
      "       0, 0, 0, 0, 0, 0, 0, 0, 0, 0, 0, 0, 0, 0, 0, 0, 0, 0, 0, 0, 0, 0,\n",
      "       0, 0, 0, 0, 0, 0, 0, 0, 0, 0, 0, 0, 0, 0, 0, 0, 0, 0, 0, 0, 0, 0,\n",
      "       0, 0, 0, 0, 0, 0, 0, 0, 0, 0, 0, 0, 0, 0, 0, 0, 0, 0, 0, 0, 0, 0,\n",
      "       0, 0, 0, 0, 0, 0, 0, 0, 0, 0, 0, 0, 0, 0, 0, 0, 0, 0, 0, 0, 0, 0,\n",
      "       0, 0, 0, 0, 0, 0, 0, 0, 0, 0, 0, 0, 0, 0, 0, 0, 0, 0, 0, 0, 0, 0,\n",
      "       0, 0, 0, 0, 0, 0, 0, 0, 0, 0, 0, 0, 0, 0, 0, 0, 0, 0, 0, 0, 0, 0,\n",
      "       0, 0, 0, 0, 0, 0, 0, 0, 0, 0, 0, 0, 0, 0, 0, 0, 0, 0, 0, 0, 0, 0,\n",
      "       0, 0, 0, 0, 0, 0, 0, 0, 0, 0, 0, 0, 0, 0, 0, 0, 0, 0, 0, 0, 0, 0,\n",
      "       0, 0, 0, 0, 0, 0, 0, 0, 0, 0, 0, 0, 0, 0, 0, 0, 0, 0, 0, 0, 0, 0,\n",
      "       0, 0, 0, 0, 0, 0, 0, 0, 0, 0, 0, 0, 0, 0, 0, 0, 0, 0, 0, 0, 0, 0,\n",
      "       0, 0, 0, 0, 0, 0, 0, 0, 0, 0, 0, 0, 0, 0, 0, 0, 0, 0, 0, 0, 0, 0,\n",
      "       0, 0, 0, 0, 0, 0, 0, 0, 0, 0, 0, 0, 0, 0, 0, 0, 0, 0, 0, 0, 0, 0,\n",
      "       0, 0, 0, 0, 0, 0, 0, 0, 0, 0, 0, 0, 0, 0, 0, 0, 0, 0, 0, 0, 0, 0,\n",
      "       0, 0, 0, 0, 0, 0, 0, 0, 0, 0, 0, 0, 0, 0, 0, 0, 0, 0, 0, 0, 0, 0,\n",
      "       0, 0, 0, 0, 0, 0, 0, 0, 0, 0, 0, 0, 0, 0, 0, 0, 0, 0, 0, 0, 0, 0,\n",
      "       0, 0, 0, 0, 0, 0, 0, 0, 0, 0, 0, 0, 0, 0, 0, 0, 0, 0, 0, 0, 0, 0,\n",
      "       0, 0, 0, 0, 0, 0, 0, 0, 0, 0, 0, 0, 0, 0, 0, 0, 0, 0, 0, 0, 0, 0,\n",
      "       0, 0, 0, 0, 0, 0, 0, 0, 0, 0, 0, 0, 0, 0, 0, 0, 0, 0, 0, 0, 0, 0,\n",
      "       0, 0, 0, 0, 0, 0, 0, 0, 0, 0, 0, 0, 0, 0, 0, 0, 0, 0, 0, 0, 0, 0,\n",
      "       0, 0, 0, 0, 0, 0, 4, 4, 4, 4, 4, 4, 4, 4, 4, 4, 4, 4, 0, 0, 0, 0,\n",
      "       0, 0, 0, 0, 0, 0, 0, 0, 0, 0, 0, 0, 0, 0, 0, 0, 0, 0, 0, 0, 0, 0,\n",
      "       0, 0, 0, 0, 0, 0, 0, 0, 0, 0, 0, 0, 0, 0, 0, 0, 0, 0, 0, 0, 0, 0,\n",
      "       0, 0, 0, 0, 0, 0, 0, 0, 0, 0, 0, 0, 0, 0, 0, 0, 0, 0, 0, 0, 0, 0,\n",
      "       0, 0, 0, 0, 0, 0, 0, 0, 0, 0]), units={'player_0': {}, 'player_1': {}}, factories={'player_0': {'factory_0': Factory(team_id=0, unit_id='factory_0', strain_id=0, power=1000, cargo=UnitCargo(ice=0, ore=0, water=150, metal=150), pos=[18, 40], env_cfg=EnvConfig(max_episode_length=1000, map_size=48, verbose=1, validate_action_space=True, max_transfer_amount=10000, MIN_FACTORIES=2, MAX_FACTORIES=5, CYCLE_LENGTH=50, DAY_LENGTH=30, UNIT_ACTION_QUEUE_SIZE=20, MAX_RUBBLE=100, FACTORY_RUBBLE_AFTER_DESTRUCTION=50, INIT_WATER_METAL_PER_FACTORY=150, INIT_POWER_PER_FACTORY=1000, MIN_LICHEN_TO_SPREAD=10, LICHEN_LOST_WITHOUT_WATER=1, LICHEN_GAINED_WITH_WATER=1, MAX_LICHEN_PER_TILE=100, LICHEN_WATERING_COST_FACTOR=10, BIDDING_SYSTEM=True, FACTORY_PROCESSING_RATE_WATER=50, ICE_WATER_RATIO=2, FACTORY_PROCESSING_RATE_METAL=50, ORE_METAL_RATIO=5, FACTORY_CHARGE=50, FACTORY_WATER_CONSUMPTION=1, ROBOTS={'LIGHT': UnitConfig(METAL_COST=10, POWER_COST=50, CARGO_SPACE=100, BATTERY_CAPACITY=150, CHARGE=1, INIT_POWER=50, MOVE_COST=1, RUBBLE_MOVEMENT_COST=0, DIG_COST=5, DIG_RUBBLE_REMOVED=2, DIG_RESOURCE_GAIN=2, DIG_LICHEN_REMOVED=10, SELF_DESTRUCT_COST=5, RUBBLE_AFTER_DESTRUCTION=1, ACTION_QUEUE_POWER_COST=1), 'HEAVY': UnitConfig(METAL_COST=100, POWER_COST=500, CARGO_SPACE=1000, BATTERY_CAPACITY=3000, CHARGE=10, INIT_POWER=500, MOVE_COST=20, RUBBLE_MOVEMENT_COST=1, DIG_COST=100, DIG_RUBBLE_REMOVED=20, DIG_RESOURCE_GAIN=20, DIG_LICHEN_REMOVED=100, SELF_DESTRUCT_COST=100, RUBBLE_AFTER_DESTRUCTION=10, ACTION_QUEUE_POWER_COST=10)}, WEATHER_ID_TO_NAME=['NONE', 'MARS_QUAKE', 'COLD_SNAP', 'DUST_STORM', 'SOLAR_FLARE'], NUM_WEATHER_EVENTS_RANGE=[3, 5], WEATHER={'MARS_QUAKE': {'TIME_RANGE': [1, 5]}, 'COLD_SNAP': {'POWER_CONSUMPTION': 2, 'TIME_RANGE': [10, 30]}, 'DUST_STORM': {'POWER_GAIN': 0.5, 'TIME_RANGE': [10, 30]}, 'SOLAR_FLARE': {'POWER_GAIN': 2, 'TIME_RANGE': [10, 30]}})), 'factory_2': Factory(team_id=0, unit_id='factory_2', strain_id=2, power=1000, cargo=UnitCargo(ice=0, ore=0, water=150, metal=150), pos=[41, 29], env_cfg=EnvConfig(max_episode_length=1000, map_size=48, verbose=1, validate_action_space=True, max_transfer_amount=10000, MIN_FACTORIES=2, MAX_FACTORIES=5, CYCLE_LENGTH=50, DAY_LENGTH=30, UNIT_ACTION_QUEUE_SIZE=20, MAX_RUBBLE=100, FACTORY_RUBBLE_AFTER_DESTRUCTION=50, INIT_WATER_METAL_PER_FACTORY=150, INIT_POWER_PER_FACTORY=1000, MIN_LICHEN_TO_SPREAD=10, LICHEN_LOST_WITHOUT_WATER=1, LICHEN_GAINED_WITH_WATER=1, MAX_LICHEN_PER_TILE=100, LICHEN_WATERING_COST_FACTOR=10, BIDDING_SYSTEM=True, FACTORY_PROCESSING_RATE_WATER=50, ICE_WATER_RATIO=2, FACTORY_PROCESSING_RATE_METAL=50, ORE_METAL_RATIO=5, FACTORY_CHARGE=50, FACTORY_WATER_CONSUMPTION=1, ROBOTS={'LIGHT': UnitConfig(METAL_COST=10, POWER_COST=50, CARGO_SPACE=100, BATTERY_CAPACITY=150, CHARGE=1, INIT_POWER=50, MOVE_COST=1, RUBBLE_MOVEMENT_COST=0, DIG_COST=5, DIG_RUBBLE_REMOVED=2, DIG_RESOURCE_GAIN=2, DIG_LICHEN_REMOVED=10, SELF_DESTRUCT_COST=5, RUBBLE_AFTER_DESTRUCTION=1, ACTION_QUEUE_POWER_COST=1), 'HEAVY': UnitConfig(METAL_COST=100, POWER_COST=500, CARGO_SPACE=1000, BATTERY_CAPACITY=3000, CHARGE=10, INIT_POWER=500, MOVE_COST=20, RUBBLE_MOVEMENT_COST=1, DIG_COST=100, DIG_RUBBLE_REMOVED=20, DIG_RESOURCE_GAIN=20, DIG_LICHEN_REMOVED=100, SELF_DESTRUCT_COST=100, RUBBLE_AFTER_DESTRUCTION=10, ACTION_QUEUE_POWER_COST=10)}, WEATHER_ID_TO_NAME=['NONE', 'MARS_QUAKE', 'COLD_SNAP', 'DUST_STORM', 'SOLAR_FLARE'], NUM_WEATHER_EVENTS_RANGE=[3, 5], WEATHER={'MARS_QUAKE': {'TIME_RANGE': [1, 5]}, 'COLD_SNAP': {'POWER_CONSUMPTION': 2, 'TIME_RANGE': [10, 30]}, 'DUST_STORM': {'POWER_GAIN': 0.5, 'TIME_RANGE': [10, 30]}, 'SOLAR_FLARE': {'POWER_GAIN': 2, 'TIME_RANGE': [10, 30]}}))}, 'player_1': {'factory_1': Factory(team_id=1, unit_id='factory_1', strain_id=1, power=1000, cargo=UnitCargo(ice=0, ore=0, water=150, metal=150), pos=[16, 5], env_cfg=EnvConfig(max_episode_length=1000, map_size=48, verbose=1, validate_action_space=True, max_transfer_amount=10000, MIN_FACTORIES=2, MAX_FACTORIES=5, CYCLE_LENGTH=50, DAY_LENGTH=30, UNIT_ACTION_QUEUE_SIZE=20, MAX_RUBBLE=100, FACTORY_RUBBLE_AFTER_DESTRUCTION=50, INIT_WATER_METAL_PER_FACTORY=150, INIT_POWER_PER_FACTORY=1000, MIN_LICHEN_TO_SPREAD=10, LICHEN_LOST_WITHOUT_WATER=1, LICHEN_GAINED_WITH_WATER=1, MAX_LICHEN_PER_TILE=100, LICHEN_WATERING_COST_FACTOR=10, BIDDING_SYSTEM=True, FACTORY_PROCESSING_RATE_WATER=50, ICE_WATER_RATIO=2, FACTORY_PROCESSING_RATE_METAL=50, ORE_METAL_RATIO=5, FACTORY_CHARGE=50, FACTORY_WATER_CONSUMPTION=1, ROBOTS={'LIGHT': UnitConfig(METAL_COST=10, POWER_COST=50, CARGO_SPACE=100, BATTERY_CAPACITY=150, CHARGE=1, INIT_POWER=50, MOVE_COST=1, RUBBLE_MOVEMENT_COST=0, DIG_COST=5, DIG_RUBBLE_REMOVED=2, DIG_RESOURCE_GAIN=2, DIG_LICHEN_REMOVED=10, SELF_DESTRUCT_COST=5, RUBBLE_AFTER_DESTRUCTION=1, ACTION_QUEUE_POWER_COST=1), 'HEAVY': UnitConfig(METAL_COST=100, POWER_COST=500, CARGO_SPACE=1000, BATTERY_CAPACITY=3000, CHARGE=10, INIT_POWER=500, MOVE_COST=20, RUBBLE_MOVEMENT_COST=1, DIG_COST=100, DIG_RUBBLE_REMOVED=20, DIG_RESOURCE_GAIN=20, DIG_LICHEN_REMOVED=100, SELF_DESTRUCT_COST=100, RUBBLE_AFTER_DESTRUCTION=10, ACTION_QUEUE_POWER_COST=10)}, WEATHER_ID_TO_NAME=['NONE', 'MARS_QUAKE', 'COLD_SNAP', 'DUST_STORM', 'SOLAR_FLARE'], NUM_WEATHER_EVENTS_RANGE=[3, 5], WEATHER={'MARS_QUAKE': {'TIME_RANGE': [1, 5]}, 'COLD_SNAP': {'POWER_CONSUMPTION': 2, 'TIME_RANGE': [10, 30]}, 'DUST_STORM': {'POWER_GAIN': 0.5, 'TIME_RANGE': [10, 30]}, 'SOLAR_FLARE': {'POWER_GAIN': 2, 'TIME_RANGE': [10, 30]}}))}}, teams={'player_0': <lux.team.Team object at 0x7f8ebcf888b0>, 'player_1': <lux.team.Team object at 0x7f8ebcf886d0>})\n"
     ]
    },
    {
     "name": "stderr",
     "output_type": "stream",
     "text": [
      "OpenCV: FFMPEG: tag 0x30395056/'VP90' is not supported with codec id 167 and format 'webm / WebM'\n"
     ]
    },
    {
     "data": {
      "text/html": [
       "<video src=\"VKNjScuXBiynYVlbLH.webm\" controls  >\n",
       "      Your browser does not support the <code>video</code> element.\n",
       "    </video>"
      ],
      "text/plain": [
       "<IPython.core.display.Video object>"
      ]
     },
     "execution_count": 12,
     "metadata": {},
     "output_type": "execute_result"
    }
   ],
   "source": [
    "# recreate our agents and run\n",
    "agents = {player: Agent(player, env.state.env_cfg) for player in env.agents}\n",
    "interact(env, agents, 5)"
   ]
  },
  {
   "cell_type": "markdown",
   "id": "b5eede15",
   "metadata": {
    "papermill": {
     "duration": 0.014776,
     "end_time": "2022-12-09T19:15:11.033618",
     "exception": false,
     "start_time": "2022-12-09T19:15:11.018842",
     "status": "completed"
    },
    "tags": []
   },
   "source": [
    "Congratz, we have lift off! We got both teams to spawn some factories. With the early phase over, we can now start programming the logic to power the next phase.\n",
    "\n",
    "### Regular Phase\n",
    "\n",
    "The goal of the game is to grow more lichen than your opponent by the end of the 1000 step episode (not including early phase steps). To grow lichen factories must consume water. Moreover, factories passively consume 1 water a turn, and you must ensure at least one factory survives until the end. Whichever team loses all their factories first will automatically lose. \n",
    "\n",
    "To obtain water, robots/units must mine ice from ice tiles (blue on the map) and deliver them back to a factory which then automatically refines ice into water. \n",
    "\n",
    "Moreover, to help us write better code, we will use the provided function `obs_to_game_state` to convert observations from raw dictionaries to interactable python objects. Finally, we will also use a provided `animate` function to easily generate a simple video of the episode and embed it into here without having to upload a replay file to the web visualizer."
   ]
  },
  {
   "cell_type": "markdown",
   "id": "8493773b",
   "metadata": {
    "papermill": {
     "duration": 0.01468,
     "end_time": "2022-12-09T19:15:11.063456",
     "exception": false,
     "start_time": "2022-12-09T19:15:11.048776",
     "status": "completed"
    },
    "tags": []
   },
   "source": [
    "#### Building Robots\n",
    "\n",
    "Only factories can build robots, so for each factory on our team, if there is enough metal and power, we will issue a command to build a new heavy robot.\n",
    "\n",
    "More advanced strategies will be able to efficiently leverage light units as well to collect resources but for simplicity, this tutorial uses heavy robots since they don't need to move as often to collect many resources (albeit very energy inefficient)."
   ]
  },
  {
   "cell_type": "code",
   "execution_count": 23,
   "id": "134be27f",
   "metadata": {
    "execution": {
     "iopub.execute_input": "2022-12-09T19:15:11.095799Z",
     "iopub.status.busy": "2022-12-09T19:15:11.094951Z",
     "iopub.status.idle": "2022-12-09T19:15:11.100873Z",
     "shell.execute_reply": "2022-12-09T19:15:11.100054Z"
    },
    "papermill": {
     "duration": 0.0246,
     "end_time": "2022-12-09T19:15:11.103063",
     "exception": false,
     "start_time": "2022-12-09T19:15:11.078463",
     "status": "completed"
    },
    "tags": []
   },
   "outputs": [],
   "source": [
    "from lux.kit import obs_to_game_state, GameState"
   ]
  },
  {
   "cell_type": "code",
   "execution_count": 24,
   "id": "fefdc4ec",
   "metadata": {
    "execution": {
     "iopub.execute_input": "2022-12-09T19:15:11.136034Z",
     "iopub.status.busy": "2022-12-09T19:15:11.134928Z",
     "iopub.status.idle": "2022-12-09T19:15:11.142629Z",
     "shell.execute_reply": "2022-12-09T19:15:11.141575Z"
    },
    "papermill": {
     "duration": 0.026732,
     "end_time": "2022-12-09T19:15:11.145196",
     "exception": false,
     "start_time": "2022-12-09T19:15:11.118464",
     "status": "completed"
    },
    "tags": []
   },
   "outputs": [],
   "source": [
    "def act(self, step: int, obs, remainingOverageTime: int = 60):\n",
    "    actions = dict()\n",
    "    game_state: GameState = obs_to_game_state(step, self.env_cfg, obs)\n",
    "    factories = game_state.factories[self.player]\n",
    "    for unit_id, factory in factories.items():\n",
    "        if factory.power >= self.env_cfg.ROBOTS[\"HEAVY\"].POWER_COST and \\\n",
    "        factory.cargo.metal >= self.env_cfg.ROBOTS[\"HEAVY\"].METAL_COST:\n",
    "            actions[unit_id] = factory.build_heavy()\n",
    "    return actions\n",
    "Agent.act = act"
   ]
  },
  {
   "cell_type": "code",
   "execution_count": 25,
   "id": "7644839d",
   "metadata": {
    "execution": {
     "iopub.execute_input": "2022-12-09T19:15:11.177246Z",
     "iopub.status.busy": "2022-12-09T19:15:11.176845Z",
     "iopub.status.idle": "2022-12-09T19:15:15.118856Z",
     "shell.execute_reply": "2022-12-09T19:15:15.117679Z"
    },
    "papermill": {
     "duration": 3.961142,
     "end_time": "2022-12-09T19:15:15.121480",
     "exception": false,
     "start_time": "2022-12-09T19:15:11.160338",
     "status": "completed"
    },
    "tags": []
   },
   "outputs": [
    {
     "name": "stderr",
     "output_type": "stream",
     "text": [
      "OpenCV: FFMPEG: tag 0x30395056/'VP90' is not supported with codec id 167 and format 'webm / WebM'\n"
     ]
    },
    {
     "data": {
      "text/html": [
       "<video src=\"viKtkDTFmlggyPzyVg.webm\" controls  >\n",
       "      Your browser does not support the <code>video</code> element.\n",
       "    </video>"
      ],
      "text/plain": [
       "<IPython.core.display.Video object>"
      ]
     },
     "execution_count": 25,
     "metadata": {},
     "output_type": "execute_result"
    }
   ],
   "source": [
    "# recreate our agents and run\n",
    "agents = {player: Agent(player, env.state.env_cfg) for player in env.agents}\n",
    "interact(env, agents, 25)"
   ]
  },
  {
   "cell_type": "markdown",
   "id": "d15d188a",
   "metadata": {
    "papermill": {
     "duration": 0.015326,
     "end_time": "2022-12-09T19:15:15.152183",
     "exception": false,
     "start_time": "2022-12-09T19:15:15.136857",
     "status": "completed"
    },
    "tags": []
   },
   "source": [
    "Robots built, but they're idle! Let's get them to work.\n",
    "\n",
    "#### Moving Robots and Mining\n",
    "\n",
    "We want the robots to find the closest ice tile and mine it.\n",
    "We'll worry about delivering the ice back home later. Let's update our `act` function to add this functionality. We will iterate over all our units and find the closest ice tile. Then we will use a given utility function that gives us the direction that takes us towards the desired ice tile. Lastly, we check if we have enough power to move and can move in that direction and submit that action.\n",
    "\n",
    "Importantly, in this season **units are given action queues (a list of actions). Each time an action queue is given, the unit's old action queue is replaced completely in addition to a small additional action queue submission power cost.**\n",
    "\n",
    "**Moreover, each action can be set to be repeated or not, indicating whether to put the action to the back of the queue once completed** For this tutorial, we will be giving units one action at a time and setting it to not be repeated. For future reference, to reduce power costs you can submit longer action queues and only update the action queue every once in a while."
   ]
  },
  {
   "cell_type": "code",
   "execution_count": 29,
   "id": "30578fcf",
   "metadata": {
    "execution": {
     "iopub.execute_input": "2022-12-09T19:15:15.184593Z",
     "iopub.status.busy": "2022-12-09T19:15:15.183856Z",
     "iopub.status.idle": "2022-12-09T19:15:15.195832Z",
     "shell.execute_reply": "2022-12-09T19:15:15.194979Z"
    },
    "papermill": {
     "duration": 0.030989,
     "end_time": "2022-12-09T19:15:15.198243",
     "exception": false,
     "start_time": "2022-12-09T19:15:15.167254",
     "status": "completed"
    },
    "tags": []
   },
   "outputs": [],
   "source": [
    "from lux.utils import direction_to\n",
    "import sys\n",
    "def act(self, step: int, obs, remainingOverageTime: int = 60):\n",
    "    actions = dict()\n",
    "    game_state = obs_to_game_state(step, self.env_cfg, obs)\n",
    "    factories = game_state.factories[self.player]\n",
    "    for unit_id, factory in factories.items():\n",
    "        if factory.power >= self.env_cfg.ROBOTS[\"HEAVY\"].POWER_COST and \\\n",
    "        factory.cargo.metal >= self.env_cfg.ROBOTS[\"HEAVY\"].METAL_COST:\n",
    "            actions[unit_id] = factory.build_heavy()\n",
    "            \n",
    "    # iterate over our units and have them mine the closest ice tile\n",
    "    units = game_state.units[self.player]\n",
    "    ice_map = game_state.board.ice # flip the board as it stores by rows then columns\n",
    "    ice_tile_locations = np.argwhere(ice_map == 1) # numpy magic to get the position of every ice tile\n",
    "    for unit_id, unit in units.items():\n",
    "        # compute the distance to each ice tile from this unit and pick the closest\n",
    "        ice_tile_distances = np.mean((ice_tile_locations - unit.pos) ** 2, 1)\n",
    "        closest_ice_tile = ice_tile_locations[np.argmin(ice_tile_distances)]\n",
    "        \n",
    "        # if we have reached the ice tile, start mining if possible\n",
    "        if np.all(closest_ice_tile == unit.pos):\n",
    "            if unit.power >= unit.dig_cost(game_state) + unit.action_queue_cost(game_state):\n",
    "                actions[unit_id] = [unit.dig(repeat=0)]\n",
    "        else:\n",
    "            direction = direction_to(unit.pos, closest_ice_tile)\n",
    "            move_cost = unit.move_cost(game_state, direction)\n",
    "            # check move_cost is not None, meaning that direction is not off the map or blocked\n",
    "            # check if unit has enough power to move in addition to updating the action queue.\n",
    "            if move_cost is not None and unit.power >= move_cost + unit.action_queue_cost(game_state):\n",
    "                actions[unit_id] = [unit.move(direction, repeat=0)]\n",
    "        # since we are using the simple embedded visualizer, we will have to print out details about units\n",
    "        # importantly, note that we print with file=sys.stderr. Printing with anything will cause your agent to fail\n",
    "        if unit.cargo.ice > 50:\n",
    "            print(game_state.real_env_steps, unit, f\"has {unit.cargo.ice} ice\", file=sys.stderr)\n",
    "    return actions\n",
    "Agent.act = act"
   ]
  },
  {
   "cell_type": "code",
   "execution_count": 30,
   "id": "38c8d550",
   "metadata": {
    "execution": {
     "iopub.execute_input": "2022-12-09T19:15:15.232279Z",
     "iopub.status.busy": "2022-12-09T19:15:15.231638Z",
     "iopub.status.idle": "2022-12-09T19:15:21.393064Z",
     "shell.execute_reply": "2022-12-09T19:15:21.391740Z"
    },
    "papermill": {
     "duration": 6.181165,
     "end_time": "2022-12-09T19:15:21.395729",
     "exception": false,
     "start_time": "2022-12-09T19:15:15.214564",
     "status": "completed"
    },
    "tags": []
   },
   "outputs": [
    {
     "name": "stderr",
     "output_type": "stream",
     "text": [
      "7 [0] unit_5 HEAVY at [43 29] has 60 ice\n",
      "8 [0] unit_5 HEAVY at [43 29] has 60 ice\n",
      "9 [0] unit_5 HEAVY at [43 29] has 60 ice\n",
      "10 [0] unit_5 HEAVY at [43 29] has 60 ice\n",
      "11 [0] unit_5 HEAVY at [43 29] has 60 ice\n",
      "12 [0] unit_5 HEAVY at [43 29] has 60 ice\n",
      "13 [0] unit_5 HEAVY at [43 29] has 60 ice\n",
      "14 [0] unit_5 HEAVY at [43 29] has 80 ice\n",
      "15 [0] unit_5 HEAVY at [43 29] has 80 ice\n",
      "16 [0] unit_5 HEAVY at [43 29] has 80 ice\n",
      "17 [0] unit_5 HEAVY at [43 29] has 80 ice\n",
      "18 [0] unit_5 HEAVY at [43 29] has 80 ice\n",
      "19 [0] unit_5 HEAVY at [43 29] has 80 ice\n",
      "20 [0] unit_5 HEAVY at [43 29] has 80 ice\n",
      "21 [0] unit_5 HEAVY at [43 29] has 80 ice\n",
      "21 [1] unit_6 HEAVY at [19  2] has 60 ice\n",
      "22 [0] unit_4 HEAVY at [19 45] has 60 ice\n",
      "22 [0] unit_5 HEAVY at [43 29] has 80 ice\n",
      "22 [1] unit_6 HEAVY at [19  2] has 60 ice\n",
      "23 [0] unit_4 HEAVY at [19 45] has 60 ice\n",
      "23 [0] unit_5 HEAVY at [43 29] has 80 ice\n",
      "23 [1] unit_6 HEAVY at [19  2] has 60 ice\n",
      "24 [0] unit_4 HEAVY at [19 45] has 60 ice\n",
      "24 [0] unit_5 HEAVY at [43 29] has 80 ice\n",
      "24 [1] unit_6 HEAVY at [19  2] has 60 ice\n",
      "25 [0] unit_4 HEAVY at [19 45] has 60 ice\n",
      "25 [0] unit_5 HEAVY at [43 29] has 100 ice\n",
      "25 [1] unit_6 HEAVY at [19  2] has 60 ice\n",
      "26 [0] unit_4 HEAVY at [19 45] has 60 ice\n",
      "26 [0] unit_5 HEAVY at [43 29] has 100 ice\n",
      "26 [1] unit_6 HEAVY at [19  2] has 60 ice\n",
      "27 [0] unit_4 HEAVY at [19 45] has 60 ice\n",
      "27 [0] unit_5 HEAVY at [43 29] has 100 ice\n",
      "27 [1] unit_6 HEAVY at [19  2] has 60 ice\n",
      "28 [0] unit_4 HEAVY at [19 45] has 60 ice\n",
      "28 [0] unit_5 HEAVY at [43 29] has 100 ice\n",
      "28 [1] unit_6 HEAVY at [19  2] has 60 ice\n",
      "29 [0] unit_4 HEAVY at [19 45] has 60 ice\n",
      "29 [0] unit_5 HEAVY at [43 29] has 100 ice\n",
      "29 [1] unit_6 HEAVY at [19  2] has 60 ice\n",
      "30 [0] unit_4 HEAVY at [19 45] has 60 ice\n",
      "30 [0] unit_5 HEAVY at [43 29] has 100 ice\n",
      "30 [1] unit_6 HEAVY at [19  2] has 60 ice\n",
      "31 [0] unit_4 HEAVY at [19 45] has 60 ice\n",
      "31 [0] unit_5 HEAVY at [43 29] has 100 ice\n",
      "31 [1] unit_6 HEAVY at [19  2] has 60 ice\n",
      "32 [0] unit_4 HEAVY at [19 45] has 60 ice\n",
      "32 [0] unit_5 HEAVY at [43 29] has 100 ice\n",
      "32 [1] unit_6 HEAVY at [19  2] has 60 ice\n",
      "33 [0] unit_4 HEAVY at [19 45] has 60 ice\n",
      "33 [0] unit_5 HEAVY at [43 29] has 100 ice\n",
      "33 [1] unit_6 HEAVY at [19  2] has 60 ice\n",
      "34 [0] unit_4 HEAVY at [19 45] has 60 ice\n",
      "34 [0] unit_5 HEAVY at [43 29] has 100 ice\n",
      "34 [1] unit_6 HEAVY at [19  2] has 60 ice\n",
      "OpenCV: FFMPEG: tag 0x30395056/'VP90' is not supported with codec id 167 and format 'webm / WebM'\n"
     ]
    },
    {
     "data": {
      "text/html": [
       "<video src=\"oGwxkUIChuJqcrIJuW.webm\" controls  >\n",
       "      Your browser does not support the <code>video</code> element.\n",
       "    </video>"
      ],
      "text/plain": [
       "<IPython.core.display.Video object>"
      ]
     },
     "execution_count": 30,
     "metadata": {},
     "output_type": "execute_result"
    }
   ],
   "source": [
    "# recreate our agents and run\n",
    "agents = {player: Agent(player, env.state.env_cfg) for player in env.agents}\n",
    "interact(env, agents, steps=40)"
   ]
  },
  {
   "cell_type": "markdown",
   "id": "57bbfe25",
   "metadata": {
    "papermill": {
     "duration": 0.015776,
     "end_time": "2022-12-09T19:15:21.427726",
     "exception": false,
     "start_time": "2022-12-09T19:15:21.411950",
     "status": "completed"
    },
    "tags": []
   },
   "source": [
    "And they're off! The heavy robots have started to move towards the ice tiles and some have begun mining.\n",
    "\n",
    "#### Delivering Resources and Keep Factories Alive\n",
    "We now have ice being mined, but we now need to deliver that back to the factories so they can refine that ice into water and sustain themselves."
   ]
  },
  {
   "cell_type": "code",
   "execution_count": 31,
   "id": "8e69657c",
   "metadata": {
    "execution": {
     "iopub.execute_input": "2022-12-09T19:15:21.461935Z",
     "iopub.status.busy": "2022-12-09T19:15:21.461327Z",
     "iopub.status.idle": "2022-12-09T19:15:21.477511Z",
     "shell.execute_reply": "2022-12-09T19:15:21.476260Z"
    },
    "papermill": {
     "duration": 0.036508,
     "end_time": "2022-12-09T19:15:21.480293",
     "exception": false,
     "start_time": "2022-12-09T19:15:21.443785",
     "status": "completed"
    },
    "tags": []
   },
   "outputs": [],
   "source": [
    "def act(self, step: int, obs, remainingOverageTime: int = 60):\n",
    "    actions = dict()\n",
    "    game_state = obs_to_game_state(step, self.env_cfg, obs)\n",
    "    factories = game_state.factories[self.player]\n",
    "    factory_tiles, factory_units = [], []\n",
    "    for unit_id, factory in factories.items():\n",
    "        if factory.power >= self.env_cfg.ROBOTS[\"HEAVY\"].POWER_COST and \\\n",
    "        factory.cargo.metal >= self.env_cfg.ROBOTS[\"HEAVY\"].METAL_COST:\n",
    "            actions[unit_id] = factory.build_heavy()\n",
    "        factory_tiles += [factory.pos]\n",
    "        factory_units += [factory]\n",
    "    factory_tiles = np.array(factory_tiles)\n",
    "\n",
    "    units = game_state.units[self.player]\n",
    "    ice_map = game_state.board.ice\n",
    "    ice_tile_locations = np.argwhere(ice_map == 1)\n",
    "    for unit_id, unit in units.items():\n",
    "        \n",
    "        # track the closest factory\n",
    "        closest_factory = None\n",
    "        adjacent_to_factory = False\n",
    "        if len(factory_tiles) > 0:\n",
    "            factory_distances = np.mean((factory_tiles - unit.pos) ** 2, 1)\n",
    "            closest_factory_tile = factory_tiles[np.argmin(factory_distances)]\n",
    "            closest_factory = factory_units[np.argmin(factory_distances)]\n",
    "            adjacent_to_factory = np.mean((closest_factory_tile - unit.pos) ** 2) == 0\n",
    "        \n",
    "            # previous ice mining code\n",
    "            if unit.cargo.ice < 40:\n",
    "                ice_tile_distances = np.mean((ice_tile_locations - unit.pos) ** 2, 1)\n",
    "                closest_ice_tile = ice_tile_locations[np.argmin(ice_tile_distances)]\n",
    "                if np.all(closest_ice_tile == unit.pos):\n",
    "                    if unit.power >= unit.dig_cost(game_state) + unit.action_queue_cost(game_state):\n",
    "                        actions[unit_id] = [unit.dig(repeat=0)]\n",
    "                else:\n",
    "                    direction = direction_to(unit.pos, closest_ice_tile)\n",
    "                    move_cost = unit.move_cost(game_state, direction)\n",
    "                    if move_cost is not None and unit.power >= move_cost + unit.action_queue_cost(game_state):\n",
    "                        actions[unit_id] = [unit.move(direction, repeat=0)]\n",
    "            # else if we have enough ice, we go back to the factory and dump it.\n",
    "            elif unit.cargo.ice >= 40:\n",
    "                direction = direction_to(unit.pos, closest_factory_tile)\n",
    "                if adjacent_to_factory:\n",
    "                    if unit.power >= unit.action_queue_cost(game_state):\n",
    "                        actions[unit_id] = [unit.transfer(direction, 0, unit.cargo.ice, repeat=0)]\n",
    "                else:\n",
    "                    move_cost = unit.move_cost(game_state, direction)\n",
    "                    if move_cost is not None and unit.power >= move_cost + unit.action_queue_cost(game_state):\n",
    "                        actions[unit_id] = [unit.move(direction, repeat=0)]\n",
    "    return actions\n",
    "Agent.act = act"
   ]
  },
  {
   "cell_type": "code",
   "execution_count": 32,
   "id": "12efa137",
   "metadata": {
    "execution": {
     "iopub.execute_input": "2022-12-09T19:15:21.513366Z",
     "iopub.status.busy": "2022-12-09T19:15:21.512952Z",
     "iopub.status.idle": "2022-12-09T19:15:52.271796Z",
     "shell.execute_reply": "2022-12-09T19:15:52.270724Z"
    },
    "papermill": {
     "duration": 30.792769,
     "end_time": "2022-12-09T19:15:52.288839",
     "exception": false,
     "start_time": "2022-12-09T19:15:21.496070",
     "status": "completed"
    },
    "tags": []
   },
   "outputs": [
    {
     "name": "stdout",
     "output_type": "stream",
     "text": [
      "190: player_1 lost all factories\n"
     ]
    },
    {
     "name": "stderr",
     "output_type": "stream",
     "text": [
      "OpenCV: FFMPEG: tag 0x30395056/'VP90' is not supported with codec id 167 and format 'webm / WebM'\n"
     ]
    },
    {
     "data": {
      "text/html": [
       "<video src=\"AZTzMbECsCYDJuDERS.webm\" controls  >\n",
       "      Your browser does not support the <code>video</code> element.\n",
       "    </video>"
      ],
      "text/plain": [
       "<IPython.core.display.Video object>"
      ]
     },
     "execution_count": 32,
     "metadata": {},
     "output_type": "execute_result"
    }
   ],
   "source": [
    "# recreate our agents and run\n",
    "agents = {player: Agent(player, env.state.env_cfg) for player in env.agents}\n",
    "interact(env, agents, 300)"
   ]
  },
  {
   "cell_type": "markdown",
   "id": "905063d7",
   "metadata": {
    "papermill": {
     "duration": 0.015491,
     "end_time": "2022-12-09T19:15:52.320398",
     "exception": false,
     "start_time": "2022-12-09T19:15:52.304907",
     "status": "completed"
    },
    "tags": []
   },
   "source": [
    "Some factories are surviving for for more than 100 steps thanks to the delivery of additional ice, but more work will need to be done to keep them alive longer."
   ]
  },
  {
   "cell_type": "markdown",
   "id": "6275e82b",
   "metadata": {
    "papermill": {
     "duration": 0.015532,
     "end_time": "2022-12-09T19:15:52.351835",
     "exception": false,
     "start_time": "2022-12-09T19:15:52.336303",
     "status": "completed"
    },
    "tags": []
   },
   "source": [
    "Puting all those pieces together the full starter agent looks like this (and we will save it to agent.py)"
   ]
  },
  {
   "cell_type": "code",
   "execution_count": 18,
   "id": "3e6930d0",
   "metadata": {
    "execution": {
     "iopub.execute_input": "2022-12-09T19:15:52.386041Z",
     "iopub.status.busy": "2022-12-09T19:15:52.385131Z",
     "iopub.status.idle": "2022-12-09T19:15:52.395875Z",
     "shell.execute_reply": "2022-12-09T19:15:52.394685Z"
    },
    "papermill": {
     "duration": 0.030912,
     "end_time": "2022-12-09T19:15:52.398531",
     "exception": false,
     "start_time": "2022-12-09T19:15:52.367619",
     "status": "completed"
    },
    "tags": []
   },
   "outputs": [
    {
     "name": "stdout",
     "output_type": "stream",
     "text": [
      "Overwriting agent.py\n"
     ]
    }
   ],
   "source": [
    "%%writefile agent.py\n",
    "from lux.kit import obs_to_game_state, GameState, EnvConfig\n",
    "from lux.utils import direction_to, my_turn_to_place_factory\n",
    "import numpy as np\n",
    "import sys\n",
    "class Agent():\n",
    "    def __init__(self, player: str, env_cfg: EnvConfig) -> None:\n",
    "        self.player = player\n",
    "        self.opp_player = \"player_1\" if self.player == \"player_0\" else \"player_0\"\n",
    "        np.random.seed(0)\n",
    "        self.env_cfg: EnvConfig = env_cfg\n",
    "\n",
    "    def early_setup(self, step: int, obs, remainingOverageTime: int = 60):\n",
    "        if step == 0:\n",
    "            # bid 0 to not waste resources bidding and declare as the default faction\n",
    "            return dict(faction=\"AlphaStrike\", bid=0)\n",
    "        else:\n",
    "            game_state = obs_to_game_state(step, self.env_cfg, obs)\n",
    "            # factory placement period\n",
    "\n",
    "            # how much water and metal you have in your starting pool to give to new factories\n",
    "            water_left = game_state.teams[self.player].water\n",
    "            metal_left = game_state.teams[self.player].metal\n",
    "\n",
    "            # how many factories you have left to place\n",
    "            factories_to_place = game_state.teams[self.player].factories_to_place\n",
    "            # whether it is your turn to place a factory\n",
    "            my_turn_to_place = my_turn_to_place_factory(game_state.teams[self.player].place_first, step)\n",
    "            if factories_to_place > 0 and my_turn_to_place:\n",
    "                # we will spawn our factory in a random location with 150 metal and water if it is our turn to place\n",
    "                potential_spawns = np.array(list(zip(*np.where(obs[\"board\"][\"valid_spawns_mask\"] == 1))))\n",
    "                spawn_loc = potential_spawns[np.random.randint(0, len(potential_spawns))]\n",
    "                return dict(spawn=spawn_loc, metal=150, water=150)\n",
    "            return dict()\n",
    "\n",
    "    def act(self, step: int, obs, remainingOverageTime: int = 60):\n",
    "        actions = dict()\n",
    "        game_state = obs_to_game_state(step, self.env_cfg, obs)\n",
    "        factories = game_state.factories[self.player]\n",
    "        game_state.teams[self.player].place_first\n",
    "        factory_tiles, factory_units = [], []\n",
    "        for unit_id, factory in factories.items():\n",
    "            if factory.power >= self.env_cfg.ROBOTS[\"HEAVY\"].POWER_COST and \\\n",
    "            factory.cargo.metal >= self.env_cfg.ROBOTS[\"HEAVY\"].METAL_COST:\n",
    "                actions[unit_id] = factory.build_heavy()\n",
    "            if self.env_cfg.max_episode_length - game_state.real_env_steps < 50:\n",
    "                if factory.water_cost(game_state) <= factory.cargo.water:\n",
    "                    actions[unit_id] = factory.water()\n",
    "            factory_tiles += [factory.pos]\n",
    "            factory_units += [factory]\n",
    "        factory_tiles = np.array(factory_tiles)\n",
    "\n",
    "        units = game_state.units[self.player]\n",
    "        ice_map = game_state.board.ice\n",
    "        ice_tile_locations = np.argwhere(ice_map == 1)\n",
    "        for unit_id, unit in units.items():\n",
    "\n",
    "            # track the closest factory\n",
    "            closest_factory = None\n",
    "            adjacent_to_factory = False\n",
    "            if len(factory_tiles) > 0:\n",
    "                factory_distances = np.mean((factory_tiles - unit.pos) ** 2, 1)\n",
    "                closest_factory_tile = factory_tiles[np.argmin(factory_distances)]\n",
    "                closest_factory = factory_units[np.argmin(factory_distances)]\n",
    "                adjacent_to_factory = np.mean((closest_factory_tile - unit.pos) ** 2) == 0\n",
    "\n",
    "                # previous ice mining code\n",
    "                if unit.cargo.ice < 40:\n",
    "                    ice_tile_distances = np.mean((ice_tile_locations - unit.pos) ** 2, 1)\n",
    "                    closest_ice_tile = ice_tile_locations[np.argmin(ice_tile_distances)]\n",
    "                    if np.all(closest_ice_tile == unit.pos):\n",
    "                        if unit.power >= unit.dig_cost(game_state) + unit.action_queue_cost(game_state):\n",
    "                            actions[unit_id] = [unit.dig(repeat=0)]\n",
    "                    else:\n",
    "                        direction = direction_to(unit.pos, closest_ice_tile)\n",
    "                        move_cost = unit.move_cost(game_state, direction)\n",
    "                        if move_cost is not None and unit.power >= move_cost + unit.action_queue_cost(game_state):\n",
    "                            actions[unit_id] = [unit.move(direction, repeat=0)]\n",
    "                # else if we have enough ice, we go back to the factory and dump it.\n",
    "                elif unit.cargo.ice >= 40:\n",
    "                    direction = direction_to(unit.pos, closest_factory_tile)\n",
    "                    if adjacent_to_factory:\n",
    "                        if unit.power >= unit.action_queue_cost(game_state):\n",
    "                            actions[unit_id] = [unit.transfer(direction, 0, unit.cargo.ice, repeat=0)]\n",
    "                    else:\n",
    "                        move_cost = unit.move_cost(game_state, direction)\n",
    "                        if move_cost is not None and unit.power >= move_cost + unit.action_queue_cost(game_state):\n",
    "                            actions[unit_id] = [unit.move(direction, repeat=0)]\n",
    "        return actions"
   ]
  },
  {
   "cell_type": "markdown",
   "id": "d9c53a54",
   "metadata": {
    "papermill": {
     "duration": 0.015683,
     "end_time": "2022-12-09T19:15:52.430197",
     "exception": false,
     "start_time": "2022-12-09T19:15:52.414514",
     "status": "completed"
    },
    "tags": []
   },
   "source": [
    "## Create a submission\n",
    "Now we need to create a .tar.gz file with main.py (and agent.py) at the top level. We can then upload this!"
   ]
  },
  {
   "cell_type": "code",
   "execution_count": 19,
   "id": "e6a0ab08",
   "metadata": {
    "execution": {
     "iopub.execute_input": "2022-12-09T19:15:52.464274Z",
     "iopub.status.busy": "2022-12-09T19:15:52.463835Z",
     "iopub.status.idle": "2022-12-09T19:15:53.522238Z",
     "shell.execute_reply": "2022-12-09T19:15:53.520653Z"
    },
    "papermill": {
     "duration": 1.078765,
     "end_time": "2022-12-09T19:15:53.524870",
     "exception": false,
     "start_time": "2022-12-09T19:15:52.446105",
     "status": "completed"
    },
    "tags": []
   },
   "outputs": [],
   "source": [
    "!tar -czf submission.tar.gz *"
   ]
  },
  {
   "cell_type": "markdown",
   "id": "ac48f04e",
   "metadata": {
    "papermill": {
     "duration": 0.015545,
     "end_time": "2022-12-09T19:15:53.556660",
     "exception": false,
     "start_time": "2022-12-09T19:15:53.541115",
     "status": "completed"
    },
    "tags": []
   },
   "source": [
    "## Submit\n",
    "Now open the /kaggle/working folder and find submission.tar.gz, download that file, navigate to the \"MySubmissions\" tab in https://www.kaggle.com/c/lux-ai-2022-beta/ and upload your submission! It should play a validation match against itself and once it succeeds it will be automatically matched against other players' submissions. Newer submissions will be prioritized for games over older ones. Your team is limited in the number of succesful submissions per day so we highly recommend testing your bot locally before submitting."
   ]
  },
  {
   "cell_type": "markdown",
   "id": "69006f60",
   "metadata": {
    "papermill": {
     "duration": 0.0154,
     "end_time": "2022-12-09T19:15:53.587939",
     "exception": false,
     "start_time": "2022-12-09T19:15:53.572539",
     "status": "completed"
    },
    "tags": []
   },
   "source": [
    "## CLI Tool\n",
    "\n",
    "To test your agent without using the python API you can also run"
   ]
  },
  {
   "cell_type": "code",
   "execution_count": 20,
   "id": "ebd2990a",
   "metadata": {
    "execution": {
     "iopub.execute_input": "2022-12-09T19:15:53.621715Z",
     "iopub.status.busy": "2022-12-09T19:15:53.620917Z",
     "iopub.status.idle": "2022-12-09T19:15:57.679235Z",
     "shell.execute_reply": "2022-12-09T19:15:57.677799Z"
    },
    "papermill": {
     "duration": 4.078515,
     "end_time": "2022-12-09T19:15:57.682127",
     "exception": false,
     "start_time": "2022-12-09T19:15:53.603612",
     "status": "completed"
    },
    "tags": []
   },
   "outputs": [
    {
     "name": "stdout",
     "output_type": "stream",
     "text": [
      "122: 1 Units: (unit_10) collided at 4,40 with \u001b[33m[0] unit_6 UnitType.HEAVY at (4, 40)\u001b[0m surviving\n",
      "150: player_0 lost all factories\n",
      "150: player_1 lost all factories\n",
      "0.7056684494018555\n"
     ]
    }
   ],
   "source": [
    "!luxai2022 main.py main.py -v 2 -s 101 -o replay.json"
   ]
  },
  {
   "cell_type": "markdown",
   "id": "1ce7cc97",
   "metadata": {
    "papermill": {
     "duration": 0.015647,
     "end_time": "2022-12-09T19:15:57.713851",
     "exception": false,
     "start_time": "2022-12-09T19:15:57.698204",
     "status": "completed"
    },
    "tags": []
   },
   "source": [
    "which uses a random seed and generates a replay.json file that you can upload and watch at http://2022vis.lux-ai.org/.\n",
    "\n",
    "This is the only way to generate replay files at the moment that can viewed in the full-scale visualizer (which includes all information like unit cargo, weather, and more).\n",
    "\n",
    "\n",
    "The CLI tool enables you to easily run episodes between any two agents (python or not) and provides a flexible tournament running tool to evaluate many agents together. Documentation on this tool can be found here: https://github.com/Lux-AI-Challenge/Lux-Design-2022/tree/main/luxai_runner/README.md"
   ]
  },
  {
   "cell_type": "markdown",
   "id": "e23674ff",
   "metadata": {
    "papermill": {
     "duration": 0.015992,
     "end_time": "2022-12-09T19:15:57.745795",
     "exception": false,
     "start_time": "2022-12-09T19:15:57.729803",
     "status": "completed"
    },
    "tags": []
   },
   "source": [
    "## Suggestions / Strategies\n",
    "\n",
    "This starter agent is very barebones and simply controls your agent to mine the nearest ice and deliver it back to try and keep factories alive.\n",
    "\n",
    "There are a number of simple strategies you can try and implement to easily increase survivability and eventually grow lichen to score points\n",
    "\n",
    "- Pickup power from nearby friendly factories. Factories generate 50 power per turn and this is a ton of power that your units can pickup with the `pickup` action to then use to travel around and mine more resources. Try adding this to the starter agent, it will enable your agent to survive to the end and grow lots of lichen.\n",
    "\n",
    "- Better factory placement. Placing factories randomly is not optimal, try placing factories right next to ice or metal tiles, reducing travel time and increasing the number of resources delivered and refined.\n",
    "\n",
    "- Grow lichen at the end of the game. Lichen costs water to both increase and maintain, so you can save water until the end of the game and then grow lichen as fast as possible.\n",
    "\n",
    "Some more intermediate strategies include\n",
    "\n",
    "- Building light robots and ensuring they don't collide with other units\n",
    "\n",
    "- Mining metal and building light/heavy robots\n",
    "\n",
    "Some more advanced strategies include\n",
    "\n",
    "- Using Light units to deliver resources from factory to factory, especially if some factories are closer to ice or metal tiles\n",
    "\n",
    "- Sending light and heavy robots to the opponents side to disrupt their mining and lichen\n",
    "\n",
    "- Leveraging the marsquake to send light robots to the opponents side to drop rubble all over their lichen.\n",
    "\n",
    "Good luck!"
   ]
  },
  {
   "cell_type": "code",
   "execution_count": null,
   "id": "9df21058",
   "metadata": {
    "papermill": {
     "duration": 0.015708,
     "end_time": "2022-12-09T19:15:57.777791",
     "exception": false,
     "start_time": "2022-12-09T19:15:57.762083",
     "status": "completed"
    },
    "tags": []
   },
   "outputs": [],
   "source": []
  }
 ],
 "metadata": {
  "kernelspec": {
   "display_name": "base",
   "language": "python",
   "name": "python3"
  },
  "language_info": {
   "codemirror_mode": {
    "name": "ipython",
    "version": 3
   },
   "file_extension": ".py",
   "mimetype": "text/x-python",
   "name": "python",
   "nbconvert_exporter": "python",
   "pygments_lexer": "ipython3",
   "version": "3.9.12 (main, Apr  5 2022, 06:56:58) \n[GCC 7.5.0]"
  },
  "papermill": {
   "default_parameters": {},
   "duration": 112.398613,
   "end_time": "2022-12-09T19:15:58.515801",
   "environment_variables": {},
   "exception": null,
   "input_path": "__notebook__.ipynb",
   "output_path": "__notebook__.ipynb",
   "parameters": {},
   "start_time": "2022-12-09T19:14:06.117188",
   "version": "2.3.4"
  },
  "vscode": {
   "interpreter": {
    "hash": "58e6e5cc158f4f033474b674573c9bd565c8a8ca48259978eb36af81af2c4605"
   }
  }
 },
 "nbformat": 4,
 "nbformat_minor": 5
}
